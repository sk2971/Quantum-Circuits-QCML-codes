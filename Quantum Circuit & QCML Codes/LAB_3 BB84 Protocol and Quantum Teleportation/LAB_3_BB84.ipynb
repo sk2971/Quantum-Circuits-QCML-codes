{
 "cells": [
  {
   "cell_type": "code",
   "execution_count": 1,
   "id": "994f18d9-4f1e-4ddb-8de8-07e8b01463ad",
   "metadata": {},
   "outputs": [
    {
     "name": "stdout",
     "output_type": "stream",
     "text": [
      "Requirement already satisfied: qiskit in c:\\users\\bansa\\appdata\\local\\packages\\pythonsoftwarefoundation.python.3.11_qbz5n2kfra8p0\\localcache\\local-packages\\python311\\site-packages (0.45.1)\n",
      "Requirement already satisfied: qiskit-terra==0.45.1 in c:\\users\\bansa\\appdata\\local\\packages\\pythonsoftwarefoundation.python.3.11_qbz5n2kfra8p0\\localcache\\local-packages\\python311\\site-packages (from qiskit) (0.45.1)\n",
      "Requirement already satisfied: rustworkx>=0.13.0 in c:\\users\\bansa\\appdata\\local\\packages\\pythonsoftwarefoundation.python.3.11_qbz5n2kfra8p0\\localcache\\local-packages\\python311\\site-packages (from qiskit-terra==0.45.1->qiskit) (0.13.2)\n",
      "Requirement already satisfied: numpy<2,>=1.17 in c:\\users\\bansa\\appdata\\local\\packages\\pythonsoftwarefoundation.python.3.11_qbz5n2kfra8p0\\localcache\\local-packages\\python311\\site-packages (from qiskit-terra==0.45.1->qiskit) (1.23.5)\n",
      "Requirement already satisfied: ply>=3.10 in c:\\users\\bansa\\appdata\\local\\packages\\pythonsoftwarefoundation.python.3.11_qbz5n2kfra8p0\\localcache\\local-packages\\python311\\site-packages (from qiskit-terra==0.45.1->qiskit) (3.11)\n",
      "Requirement already satisfied: psutil>=5 in c:\\users\\bansa\\appdata\\local\\packages\\pythonsoftwarefoundation.python.3.11_qbz5n2kfra8p0\\localcache\\local-packages\\python311\\site-packages (from qiskit-terra==0.45.1->qiskit) (5.9.6)\n",
      "Requirement already satisfied: scipy>=1.5 in c:\\users\\bansa\\appdata\\local\\packages\\pythonsoftwarefoundation.python.3.11_qbz5n2kfra8p0\\localcache\\local-packages\\python311\\site-packages (from qiskit-terra==0.45.1->qiskit) (1.11.4)\n",
      "Requirement already satisfied: sympy>=1.3 in c:\\users\\bansa\\appdata\\local\\packages\\pythonsoftwarefoundation.python.3.11_qbz5n2kfra8p0\\localcache\\local-packages\\python311\\site-packages (from qiskit-terra==0.45.1->qiskit) (1.12)\n",
      "Requirement already satisfied: dill>=0.3 in c:\\users\\bansa\\appdata\\local\\packages\\pythonsoftwarefoundation.python.3.11_qbz5n2kfra8p0\\localcache\\local-packages\\python311\\site-packages (from qiskit-terra==0.45.1->qiskit) (0.3.7)\n",
      "Requirement already satisfied: python-dateutil>=2.8.0 in c:\\users\\bansa\\appdata\\local\\packages\\pythonsoftwarefoundation.python.3.11_qbz5n2kfra8p0\\localcache\\local-packages\\python311\\site-packages (from qiskit-terra==0.45.1->qiskit) (2.8.2)\n",
      "Requirement already satisfied: stevedore>=3.0.0 in c:\\users\\bansa\\appdata\\local\\packages\\pythonsoftwarefoundation.python.3.11_qbz5n2kfra8p0\\localcache\\local-packages\\python311\\site-packages (from qiskit-terra==0.45.1->qiskit) (5.1.0)\n",
      "Requirement already satisfied: six>=1.5 in c:\\users\\bansa\\appdata\\local\\packages\\pythonsoftwarefoundation.python.3.11_qbz5n2kfra8p0\\localcache\\local-packages\\python311\\site-packages (from python-dateutil>=2.8.0->qiskit-terra==0.45.1->qiskit) (1.16.0)\n",
      "Requirement already satisfied: pbr!=2.1.0,>=2.0.0 in c:\\users\\bansa\\appdata\\local\\packages\\pythonsoftwarefoundation.python.3.11_qbz5n2kfra8p0\\localcache\\local-packages\\python311\\site-packages (from stevedore>=3.0.0->qiskit-terra==0.45.1->qiskit) (6.0.0)\n",
      "Requirement already satisfied: mpmath>=0.19 in c:\\users\\bansa\\appdata\\local\\packages\\pythonsoftwarefoundation.python.3.11_qbz5n2kfra8p0\\localcache\\local-packages\\python311\\site-packages (from sympy>=1.3->qiskit-terra==0.45.1->qiskit) (1.3.0)\n"
     ]
    }
   ],
   "source": [
    "!pip install qiskit"
   ]
  },
  {
   "cell_type": "code",
   "execution_count": 2,
   "id": "fd58157b-2608-4052-91ff-b300ab9f1990",
   "metadata": {},
   "outputs": [],
   "source": [
    "from qiskit import ClassicalRegister, QuantumCircuit, QuantumRegister, Aer, execute\n",
    "from qiskit.compiler import transpile, assemble\n",
    "from qiskit.tools.jupyter import *\n",
    "from qiskit.visualization import *\n",
    "import matplotlib.pyplot as plt\n",
    "import numpy as np\n",
    "import random\n",
    "from IPython.display import display, Math, Latex\n",
    "import math as m\n",
    "\n",
    "%matplotlib inline"
   ]
  },
  {
   "cell_type": "markdown",
   "id": "ed56e7df-34e9-4b2a-8b8d-80176d3c1ea3",
   "metadata": {},
   "source": [
    "# QKD with BB84 protocol\n",
    "\n",
    "* Quantum Key Distribution protocol proposed by Bennett and Brassard in 1984\n",
    "* Context: Alice and Bob are trying to share a message. Eve is trying to illegally intercept this message. Alice and Bob must protect their message from the eavesdropper (Eve).\n",
    "\n",
    "Solution: \n",
    "\n",
    "A one-time key is an impenetrable encryption method that Alice can use to send Bob a secret message. Simply said, a one-time key is a key that is only ever used once.\n",
    "\n",
    "Why does this work:\n",
    "\n",
    "Alice and Bob would have put that key away and moved on to another by the time Eve gets her hands on the message. Therefore, Eve is unable to decrypt the message unless she has access to the key or can correctly predict the key.\n",
    "\n",
    "Key Distribution: \n",
    "\n",
    "Getting the key to both communication parties while reducing the possibility of Eve learning about it is the process of key distribution. This process when implemented using the advantage of quantum systems gives rise to QKD. So, essentially, QKD consists of 2 broad steps. In the 1st part, we use some quantum principles to try to eliminate the presence of an eavesdropper and generate a secure key. In the 2nd part, we use the generated key to decrypt the message, also known as 'Classical post-processing'.\n",
    "\n",
    "## The BB84 Protocol\n",
    "\n",
    "In the straightforward \"prepare and measure\" BB84 protocol, Alice prepares a series of qubits, sends the qubits to Bob, and Bob measures the qubits. Those for which the two measurement bases do not agree are discarded. The remainder of the bit string is used as the raw key, and a portion is utilised to check for an eavesdropper (Eve).\n",
    "\n",
    "The protocol works something like this:\n",
    "\n",
    "- Alice generates a random bit string.\n",
    "- Alice encodes the bits in qubit states by randomly choosing between two bases, say, the perpendicular (z) and diagonal (x) bases.\n",
    "\n",
    "She follows a convention that she established before hand, perhaps something like this:\n",
    "\n",
    "|   | 0  | 1  |\n",
    "|---|---|---|\n",
    "|  z basis | $\\uparrow$  | $\\rightarrow$  |  \n",
    "|  x basis | $\\nwarrow$  | $\\nearrow$  |   \n",
    "\n",
    "Suppose Alice generates the bit string 100100. She then prepares a set of 6 qubits in the following manner:\n",
    "\n",
    "\n",
    "|  Alice's Random Bits |  1 | 0  | 0  | 1  | 0  | 0  |\n",
    "|---|---|---|---|---|---|---|\n",
    "| Alice's Random Basis Choice |  X | Z  |  Z |  X | Z  | X  |\n",
    "| What Alice Sends Bob  |  $\\nearrow$ |  $\\uparrow$ | $\\uparrow$  | $\\nearrow$  | $\\uparrow$  | $\\nwarrow$  |\n",
    "\n",
    "\n",
    "- Alice sends the qubit sequence to Bob over a quantum channel.\n",
    "- Bob randomly chooses his measurement bases.\n",
    "- Alice and Bob publicize their measurement bases choices through an open communication channel, and retain those qubits for which the bases match.\n",
    "\n",
    "\n",
    "|  Alice's Random Bits |  1 | 0  | 0  | 1  | 0  | 0  |\n",
    "|---|---|---|---|---|---|---|\n",
    "| Alice's Random Basis Choice |  X | Z  |  Z |  X | Z  | X  |\n",
    "|  What Alice Sends Bob |  $\\nearrow$ |  $\\uparrow$ | $\\uparrow$  | $\\nearrow$  | $\\uparrow$  | $\\nwarrow$  |\n",
    "| Bob's Random Basis Choice  | X  | Z  |  X | X  | Z  | Z  |\n",
    "| Shared Information  | 1  | 0  | -  | 1  | 0  |  -  |\n",
    "\n",
    "- A subset of the sequence is used to check for the presence of an eavesdropper. So, if the first two bits are selected, then Alice and Bob would check if they both have the result 10. If their answers don't match, then Eve was probably snooping around. If their answers match, they can use the rest of the sequence, the second 10, as a raw key.\n",
    "\n",
    "This is the end of the BB84 protocol, but Alice and Bob are not quite yet done with their work. They still have the classical component of QKD to work through! The key that they have at the end of the quantum part is a raw key. Usually the raw key is just that: raw with errors. A final key is distilled from the raw key through post-processing that is completely classical, because they are now working with bit strings. Post-processing includes  privacy amplification and information reconcilliation."
   ]
  },
  {
   "cell_type": "code",
   "execution_count": 3,
   "id": "79cb60b8-81d8-4508-8930-a386168669ab",
   "metadata": {},
   "outputs": [],
   "source": [
    "class Alice:\n",
    "    def prepareState(self, n):        \n",
    "        nQubits = int((4 )*n) # number of physical qubits        \n",
    "        a = np.random.randint(2, size=(nQubits,))      # random data bits\n",
    "        b = np.random.randint(2, size=(nQubits,))      # random bases bits\n",
    "        return (a, b)\n",
    "    \n",
    "class Bob:\n",
    "    def generateRandomBasis(self, n):\n",
    "        nQubits = int((4)*n) # number of physical qubitsb\n",
    "        b = np.random.randint(2, size=(nQubits,))\n",
    "        return b\n",
    "        \n",
    "class Eve:\n",
    "    def generateRandomBasis(self, n):\n",
    "        nQubits = int((4 )*n) # number of physical qubits\n",
    "        b = np.random.randint(2, size=(nQubits,))\n",
    "        return b"
   ]
  },
  {
   "cell_type": "markdown",
   "id": "7f5ac4d5-014a-4e8f-b67b-7b022522130d",
   "metadata": {},
   "source": [
    "We construct two circuits: BB84 which has no eavesdroppers and BB84-Eve where Eve eavesdrops by performing measurements before the qubits reach Bob.\n",
    "\n",
    "Note that we choose $n \\leq 8$ (key length) for our experiment. We choose a small key length due to our computational constraints. In practice, one would use a much larger key size.ize."
   ]
  },
  {
   "cell_type": "code",
   "execution_count": 4,
   "id": "b1e62d90-7bf4-4407-9a38-c13c4eb64c50",
   "metadata": {},
   "outputs": [],
   "source": [
    "def BB84Program(key_length):\n",
    "    \n",
    "    # key length\n",
    "    n = key_length\n",
    "    # number of physical qubits\n",
    "    nQubits = int((4)*n)\n",
    "    \n",
    "    # Creating registers\n",
    "    # qubits for querying the oracle and finding the hidden integer\n",
    "    qr_1 = QuantumRegister(nQubits,\"qr_1\")\n",
    "    # for recording the measurement on qr\n",
    "    cr_1 = ClassicalRegister(nQubits,\"cr_1\")\n",
    "    \n",
    "    # qubits for querying the oracle and finding the hidden integer\n",
    "    qr_2 = QuantumRegister(nQubits,\"qr_2\")\n",
    "    # for recording the measurement on qr\n",
    "    cr_2 = ClassicalRegister(nQubits,\"cr_2\")\n",
    "    \n",
    "    bbCircuit = QuantumCircuit( qr_1, cr_1)\n",
    "    bb_eve_Circuit = QuantumCircuit( qr_2, cr_2)\n",
    "    \n",
    "    # Initialize Alice and Bob ... and Eve! \n",
    "    alice = Alice()\n",
    "    bob = Bob()\n",
    "    eve = Eve()\n",
    "    \n",
    "    # Have Alice generate secrets a, b with chosen n and delta\n",
    "    (a, b) = alice.prepareState(n)\n",
    "    \n",
    "    # Apply Hadamard gates before querying the oracle\n",
    "    for i in range(nQubits):\n",
    "        if a[i] == 1:\n",
    "            # X gates will send |0> -> |1> \n",
    "            bbCircuit.x(qr_1[i])\n",
    "            bb_eve_Circuit.x(qr_2[i])\n",
    "    \n",
    "    for i in range(nQubits):\n",
    "        if b[i] == 1:\n",
    "            # encode in X basis\n",
    "            bbCircuit.h(qr_1[i])\n",
    "            bb_eve_Circuit.h(qr_2[i])\n",
    "    \n",
    "    # Bob generates his random basis string, b'\n",
    "    b_prime = bob.generateRandomBasis(n)\n",
    "    \n",
    "    # Eve also takes a stab at guessing the basis\n",
    "    b_eve = eve.generateRandomBasis(n)\n",
    "    \n",
    "    # Eve makes some measurements !\n",
    "    for i in range(nQubits):\n",
    "        if b_eve[i] == 1:\n",
    "            # measure in X basis (otherwise Eve measures in Z)\n",
    "            bb_eve_Circuit.h(qr_2[i])\n",
    "        else:\n",
    "            bb_eve_Circuit.x(qr_2[i])\n",
    "    \n",
    "    # Bob measures the qubits based off of b'\n",
    "    \n",
    "    for i in range(nQubits):\n",
    "        if b_prime[i] == 1:\n",
    "            # measure in X basis (as opposed to Z)\n",
    "            bbCircuit.h(qr_1[i])\n",
    "            bb_eve_Circuit.h(qr_2[i])\n",
    "        \n",
    "    bbCircuit.measure(qr_1, cr_1)\n",
    "    bb_eve_Circuit.measure(qr_2, cr_2)\n",
    "        \n",
    "    return (bbCircuit, bb_eve_Circuit, a, b, b_prime)"
   ]
  },
  {
   "cell_type": "markdown",
   "id": "fdea6f78-a476-4b4f-859a-1ad37c10551d",
   "metadata": {},
   "source": [
    "Once Bob performs his measurements, using this circuit, we can perform steps for determining the key. We define a method to do these steps."
   ]
  },
  {
   "cell_type": "code",
   "execution_count": 5,
   "id": "596df72e-e093-4523-9df2-4b0826efb592",
   "metadata": {},
   "outputs": [],
   "source": [
    "def determineKey(a, bob_meas, b, b_prime):\n",
    "    # Now, it is safe for Alice to announce b to Bob. They can then determine in which places their b and b' agree.\n",
    "    # Let's call the indices where b_i = b'_i, array x\n",
    "    x = [b_i == b_prime_i for (b_i, b_prime_i) in zip(b, b_prime)]\n",
    "    \n",
    "    # The size of x should be 1/2 nQubits, in expectation\n",
    "    if len(x) < 2*n :\n",
    "        print(\"Aborting protocol. Less than 2n bits match between b and b'\")\n",
    "        return False\n",
    "    else:\n",
    "        alice_bits = []               # Alice's original secret key, a, subsetted where b and b' agree\n",
    "        bob_bits = []                # Bob's measurement in his random basis b', subsetted where b and b' agree\n",
    "        for y in x:\n",
    "            alice_bits.append(a[y])\n",
    "            bob_bits.append(bob_meas[y])\n",
    "    \n",
    "        # Now, we can use half of these bits as \"check bits\" to see if there was any interference (announcing publicly)\n",
    "        # Let's just take the first n bits as check bits, WLOG\n",
    "        \n",
    "        check_alice = alice_bits[:n]\n",
    "        key_alice = alice_bits[-n:]\n",
    "        check_bob = bob_bits[:n]\n",
    "        key_bob = bob_bits[-n:]\n",
    "\n",
    "        error = 0\n",
    "        # Now, they publicly determine the error in their check bits\n",
    "        mismatch = [k_a != k_b for (k_a, k_b) in zip(key_alice, key_bob)]\n",
    "        if len(mismatch)>0:\n",
    "            error = (np.sum(mismatch)) / n\n",
    "        \n",
    "        # Let's choose epsilon = 0.05 as our error threshold\n",
    "        epsilon = 0.05\n",
    "        if error > epsilon:\n",
    "            return False\n",
    "        else:\n",
    "            return True"
   ]
  },
  {
   "cell_type": "markdown",
   "id": "5c1d8cc3-a030-410d-a46d-28e2df9f93cd",
   "metadata": {},
   "source": [
    "## Experiment with Simulators\n",
    "\n",
    "We can run the above circuits in the simulator. This will gives us the results of Bob's measurements using his random basis, in both cases (with or without eavesdropping). If there is no noise or interference by Eve, then Bob's measurements should match up precisely with Alice's key $a$, at the qubits where Alice and Bob both chose the same basis. Hence, we can take this subset of Bob's measurement to use as check bits and key bits. \n",
    "\n",
    "We also show the probabilities of various outcomes Bob could see, which are computed by simulating the above circuit using the same $a$, $b$, and $b'$, $2^{10}$ times noting the number of occurences of each outcome."
   ]
  },
  {
   "cell_type": "code",
   "execution_count": 6,
   "id": "66190f52-d942-4add-8750-cf8c5b66f826",
   "metadata": {},
   "outputs": [],
   "source": [
    "def testCircuits(shots, key_length):\n",
    "    # use local qasm simulator\n",
    "    backend = Aer.get_backend(\"aer_simulator\")\n",
    "    q,q_eve, a, b, b_prime = BB84Program(key_length)\n",
    "    \n",
    "    results = execute(q, backend=backend, timeout=600, shots=shots).result()\n",
    "    answer = results.get_counts(q)\n",
    "    \n",
    "    results_eve = execute(q_eve, backend=backend, timeout=600, shots=shots).result()\n",
    "    answer_eve = results_eve.get_counts(q_eve)\n",
    "    \n",
    "    return (answer, answer_eve, a, b, b_prime)"
   ]
  },
  {
   "cell_type": "markdown",
   "id": "e9470d3d-7e40-4ce5-8c74-d28b3ba56407",
   "metadata": {},
   "source": [
    "Of course, Bob will not see a probability distribution, but rather one of these particular outcomes. Hence, we'll take one of these outcomes at random."
   ]
  },
  {
   "cell_type": "code",
   "execution_count": 7,
   "id": "3175a5f9-c004-4976-b1e1-d9c09687d2ac",
   "metadata": {},
   "outputs": [],
   "source": [
    "def getMeasurement(answer, answer_eve):\n",
    "    bob_meas = list(random.choice(list(answer.keys())))\n",
    "    bob_meas = list(map(int, bob_meas))\n",
    "    bob_meas = np.array(bob_meas)\n",
    "    bob_meas = bob_meas[::-1]\n",
    "    \n",
    "    bob_meas_eve = list(random.choice(list(answer_eve.keys())))\n",
    "    bob_meas_eve = list(map(int, bob_meas_eve))\n",
    "    bob_meas_eve = np.array(bob_meas_eve)\n",
    "    bob_meas_eve = bob_meas_eve[::-1]\n",
    "    \n",
    "    return (bob_meas, bob_meas_eve)"
   ]
  },
  {
   "cell_type": "code",
   "execution_count": 8,
   "id": "e3adde9e-67b8-4d9b-9a30-e8f242dd47f7",
   "metadata": {},
   "outputs": [],
   "source": [
    "def plot_eve_undetected(probs):\n",
    "    \n",
    "    objects = ('2','4','7')\n",
    "    y_pos = np.arange(len(objects))\n",
    "    \n",
    "    plt.bar(y_pos, probs, align='center', alpha=0.5)\n",
    "    plt.xticks(y_pos, objects)\n",
    "    \n",
    "    plt.xlabel(\"Key Length\")\n",
    "    plt.ylabel('Probability')\n",
    "    plt.title('Probability of Successful BB84')\n",
    "    \n",
    "    plt.show()"
   ]
  },
  {
   "cell_type": "code",
   "execution_count": 9,
   "id": "4200a0d2-9195-4992-b1fb-2344446a6097",
   "metadata": {},
   "outputs": [
    {
     "name": "stderr",
     "output_type": "stream",
     "text": [
      "C:\\Users\\bansa\\AppData\\Local\\Packages\\PythonSoftwareFoundation.Python.3.11_qbz5n2kfra8p0\\LocalCache\\local-packages\\Python311\\site-packages\\numpy\\core\\fromnumeric.py:86: VisibleDeprecationWarning: Creating an ndarray from ragged nested sequences (which is a list-or-tuple of lists-or-tuples-or ndarrays with different lengths or shapes) is deprecated. If you meant to do this, you must specify 'dtype=object' when creating the ndarray.\n",
      "  return ufunc.reduce(obj, axis, dtype, out, **passkwargs)\n",
      "C:\\Users\\bansa\\AppData\\Local\\Temp\\ipykernel_56052\\1428759319.py:33: DeprecationWarning: The truth value of an empty array is ambiguous. Returning False, but in future this will result in an error. Use `array.size > 0` to check that an array is not empty.\n",
      "  if error > epsilon:\n"
     ]
    }
   ],
   "source": [
    "probs = []\n",
    "\n",
    "for n in [2,4,7]:\n",
    "    succ = 0\n",
    "    succ_eve = 0\n",
    "    for i in range(2**8):\n",
    "        # Simulate one measurement with key length n = 4\n",
    "        (answer, answer_eve, a, b, b_prime) = testCircuits(1, n)\n",
    "        bob_meas, bob_meas_eve = getMeasurement(answer, answer_eve)\n",
    "        res = determineKey(a, bob_meas, b, b_prime)\n",
    "        # successful\n",
    "        if res: \n",
    "            succ += 1\n",
    "        res = determineKey(a, bob_meas_eve, b, b_prime)\n",
    "        # successful\n",
    "        if res: \n",
    "            succ_eve += 1\n",
    "    p_eve = (succ_eve) / (2**8)\n",
    "    probs.append(p_eve)"
   ]
  },
  {
   "cell_type": "code",
   "execution_count": 10,
   "id": "c606ed04-33eb-40dc-9fb6-8a9d0504ad0e",
   "metadata": {},
   "outputs": [
    {
     "data": {
      "image/png": "[encoded data removed]",
      "text/plain": [
       "<Figure size 640x480 with 1 Axes>"
      ]
     },
     "metadata": {},
     "output_type": "display_data"
    }
   ],
   "source": [
    "plot_eve_undetected(probs)"
   ]
  }
 ],
 "metadata": {
  "kernelspec": {
   "display_name": "Python 3 (ipykernel)",
   "language": "python",
   "name": "python3"
  },
  "language_info": {
   "codemirror_mode": {
    "name": "ipython",
    "version": 3
   },
   "file_extension": ".py",
   "mimetype": "text/x-python",
   "name": "python",
   "nbconvert_exporter": "python",
   "pygments_lexer": "ipython3",
   "version": "3.11.7"
  }
 },
 "nbformat": 4,
 "nbformat_minor": 5
}
