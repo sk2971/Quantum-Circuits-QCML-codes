{
  "nbformat": 4,
  "nbformat_minor": 0,
  "metadata": {
    "colab": {
      "name": "Python.ipynb",
      "provenance": []
    },
    "kernelspec": {
      "name": "python3",
      "display_name": "Python 3"
    },
    "language_info": {
      "name": "python"
    }
  },
  "cells": [
    {
      "cell_type": "markdown",
      "source": [
        "# **Introduction to Python**"
      ],
      "metadata": {
        "id": "5NqNyTrC-x29"
      }
    },
    {
      "cell_type": "markdown",
      "source": [
        "This notebook is an introduction to basic Python that will be useful throughout the course. "
      ],
      "metadata": {
        "id": "Ydd_fhgkz4xd"
      }
    },
    {
      "cell_type": "markdown",
      "source": [
        "#Variables\n",
        "We will start with the very basics of Python, i.e, variables.\n",
        "\n",
        "A variable is a placeholder for a value that we want to store. It can store data of any type, and can be named alphanumerically (although the first character can not be a numeral)."
      ],
      "metadata": {
        "id": "8JUkiSHG-758"
      }
    },
    {
      "cell_type": "code",
      "source": [
        "x = 8\n",
        "y = \"a\"\n",
        "z = x"
      ],
      "metadata": {
        "id": "m7z7mFt50W74"
      },
      "execution_count": null,
      "outputs": []
    },
    {
      "cell_type": "markdown",
      "source": [
        "#Standard Arithmatic Operations\n",
        "If a variable is storing integer data, then we can use standard arithmetic operations on it, such as addition, subtraction, multiplication and division."
      ],
      "metadata": {
        "id": "xInCPVEZ0dwD"
      }
    },
    {
      "cell_type": "code",
      "source": [
        "a = z + x\n",
        "b = z - x\n",
        "c = z * x\n",
        "d = z / x"
      ],
      "metadata": {
        "id": "Cgt-4Wwm0y94"
      },
      "execution_count": null,
      "outputs": []
    },
    {
      "cell_type": "markdown",
      "source": [
        "#Classes"
      ],
      "metadata": {
        "id": "V3i7Sq7t_Nwu"
      }
    },
    {
      "cell_type": "markdown",
      "source": [
        "Apart from variables, we can also store data in form of objects. This allows us to define data specific operations that we might want to perform. We first define a class, which defines the object type, and the operations we can perform on the object. An object is then an instance of this class."
      ],
      "metadata": {
        "id": "0uom3wt7033N"
      }
    },
    {
      "cell_type": "code",
      "source": [
        "class Cars:\n",
        "  def __init__(self, m, p):\n",
        "    self.model = m\n",
        "    self.price = p\n",
        "\n",
        "  def get_model(self):\n",
        "    return self.model\n",
        "  \n",
        "  def get_price(self):\n",
        "    return self.price\n",
        "\n",
        " \n",
        "Audi = Cars(\"R8\", 100000)\n",
        " \n",
        "print(Audi.get_model())\n",
        "print(Audi.get_price())"
      ],
      "metadata": {
        "id": "fvi39vhe1Cj5"
      },
      "execution_count": null,
      "outputs": []
    },
    {
      "cell_type": "markdown",
      "source": [
        "#Loops"
      ],
      "metadata": {
        "id": "T0QciiS-_Wu8"
      }
    },
    {
      "cell_type": "markdown",
      "source": [
        "Another useful construct in Python is that of loops. A loop is used to perform a task that needs to be repeated multiple times. The two loop constructs that we will see are: for loop and while loop."
      ],
      "metadata": {
        "id": "u7BBZNZT103_"
      }
    },
    {
      "cell_type": "code",
      "source": [
        "a = 0\n",
        "for i in range(0, 10):\n",
        "  a = a + i\n",
        "print(a)"
      ],
      "metadata": {
        "id": "t6BcivGH2Lxb"
      },
      "execution_count": null,
      "outputs": []
    },
    {
      "cell_type": "code",
      "source": [
        "n = 0\n",
        "a = 0\n",
        "while (n < 10):\n",
        "  a = a + n\n",
        "  n += 1\n",
        "print(a)"
      ],
      "metadata": {
        "id": "YY2700sr2Uxx"
      },
      "execution_count": null,
      "outputs": []
    },
    {
      "cell_type": "markdown",
      "source": [
        "#Conditionals"
      ],
      "metadata": {
        "id": "LZ4KkppO_cy8"
      }
    },
    {
      "cell_type": "markdown",
      "source": [
        "Next we look at another construct, called conditionals, which is used to perform an action only if a certain condition is true."
      ],
      "metadata": {
        "id": "zhGCUrci20Um"
      }
    },
    {
      "cell_type": "code",
      "source": [
        "if c > 0:     #c was defined in one of the previous code cells\n",
        "  a = 9\n",
        "else:\n",
        "  a = 8\n",
        "print(a)"
      ],
      "metadata": {
        "id": "34-kwA__29ZH"
      },
      "execution_count": null,
      "outputs": []
    },
    {
      "cell_type": "markdown",
      "source": [
        "#Boolean Operations"
      ],
      "metadata": {
        "id": "sjqtK8j3_kgk"
      }
    },
    {
      "cell_type": "markdown",
      "source": [
        "Now apart from performing arithmetic operations on integer values, we can also perform logical and boolean operations."
      ],
      "metadata": {
        "id": "X_fQc-H83UHT"
      }
    },
    {
      "cell_type": "code",
      "source": [
        "a = True and False\n",
        "b = a or True\n",
        "c = not b"
      ],
      "metadata": {
        "id": "reRtrm9J3jY9"
      },
      "execution_count": null,
      "outputs": []
    },
    {
      "cell_type": "markdown",
      "source": [
        "In order to store multiple sequential data values, Python provides a very useful construct called lists."
      ],
      "metadata": {
        "id": "In1k-zfI3xVN"
      }
    },
    {
      "cell_type": "code",
      "source": [
        "l = [1, 4, 7, 2, 8]\n",
        "a = l[1]\n",
        "b = len(l)\n",
        "l.append(5)         #add an element to the end\n",
        "c = len(l)\n",
        "l.sort()            #sort the list\n",
        "print(l)\n",
        "l.pop()             #remove last element from the list\n",
        "print(l)\n",
        "l.insert(3, 1000)   #add element 1000 at index 3\n",
        "print(l)"
      ],
      "metadata": {
        "id": "ClbS4qAc33BF"
      },
      "execution_count": null,
      "outputs": []
    },
    {
      "cell_type": "markdown",
      "source": [
        "#Functions"
      ],
      "metadata": {
        "id": "o69WFHvQ_rYM"
      }
    },
    {
      "cell_type": "markdown",
      "source": [
        "Now that we have looked at all the pre-defined functions and operations available in Python, let us take a look at how we can define our own functions, which take some input and give some output."
      ],
      "metadata": {
        "id": "EhaSJkBA4oIu"
      }
    },
    {
      "cell_type": "code",
      "source": [
        "def fact(n):\n",
        "  if n == 0:\n",
        "    return 1\n",
        "  else:\n",
        "    return n * fact(n-1)\n",
        "\n",
        "fact(5)"
      ],
      "metadata": {
        "id": "gK4YhlaH4yrd"
      },
      "execution_count": null,
      "outputs": []
    },
    {
      "cell_type": "markdown",
      "source": [
        "# **Libraries**"
      ],
      "metadata": {
        "id": "njBQ9r7F_wle"
      }
    },
    {
      "cell_type": "markdown",
      "source": [
        ""
      ],
      "metadata": {
        "id": "Tgpdv34O_9aU"
      }
    },
    {
      "cell_type": "markdown",
      "source": [
        "### **Random**"
      ],
      "metadata": {
        "id": "zh3bJM4PAT3K"
      }
    },
    {
      "cell_type": "markdown",
      "source": [
        "Python provides us functions to generate (pseudo)-random numbers, which is useful in implementing probabilistic algorithms. This functionality is provided as part of the \"random\" library in Python, which we will now import and use."
      ],
      "metadata": {
        "id": "AErHSgpW5wVk"
      }
    },
    {
      "cell_type": "code",
      "source": [
        "import random\n",
        "\n",
        "a = random.random()\n",
        "#the random() function gives a random floating point value between 0 and 1 (0 inclusive)\n",
        "print(a)"
      ],
      "metadata": {
        "id": "HJw042vZ6F5n"
      },
      "execution_count": null,
      "outputs": []
    },
    {
      "cell_type": "markdown",
      "source": [
        "Often times, you will need to generate the same random values again and again, while running your code. To do this, Python provides a seed function, which stores the state of randomness generator. Starting from the same state, the random number generator outputs the same values on every run."
      ],
      "metadata": {
        "id": "Ie9gH28I6qC7"
      }
    },
    {
      "cell_type": "code",
      "source": [
        "random.seed(5)\n",
        "print(random.random())\n",
        "print(random.random())\n",
        "print(random.random())\n",
        "print(random.random())\n",
        "\n",
        "print(\"Change seed to 7\")\n",
        "random.seed(7)\n",
        "print(random.random())\n",
        "print(random.random())\n",
        "print(random.random())\n",
        "\n",
        "print(\"Change seed back to 5\")\n",
        "random.seed(5)\n",
        "print(random.random())\n",
        "print(random.random())\n",
        "print(random.random())\n",
        "print(random.random())"
      ],
      "metadata": {
        "id": "nZBE9xNU677U"
      },
      "execution_count": null,
      "outputs": []
    },
    {
      "cell_type": "markdown",
      "source": [
        "## **Numpy - Numerical Python**"
      ],
      "metadata": {
        "id": "tZglJt_UAg80"
      }
    },
    {
      "cell_type": "markdown",
      "source": [
        "\n",
        "NumPy is a Python library used for working with arrays.\n",
        "\n",
        "It also has functions for working in domain of linear algebra, fourier transform, and matrices."
      ],
      "metadata": {
        "id": "1fY7l1dqro34"
      }
    },
    {
      "cell_type": "code",
      "source": [
        "import numpy as np\n",
        "\n",
        "arr = np.array([1, 2, 3, 4, 5])\n",
        "\n",
        "print(arr)"
      ],
      "metadata": {
        "id": "lLsyBW73rtoQ"
      },
      "execution_count": null,
      "outputs": []
    },
    {
      "cell_type": "markdown",
      "source": [
        "### **Matrix Representaton:**"
      ],
      "metadata": {
        "id": "wVrp2gWGt_04"
      }
    },
    {
      "cell_type": "code",
      "source": [
        "a = np.array([[1 +1.j , 2.j], [3, 4]], dtype = complex) \n",
        "print(a)"
      ],
      "metadata": {
        "id": "AeOUDdbcuDsf"
      },
      "execution_count": null,
      "outputs": []
    },
    {
      "cell_type": "markdown",
      "source": [
        "### **ADDITION**"
      ],
      "metadata": {
        "id": "l_3yHz_3u_bf"
      }
    },
    {
      "cell_type": "code",
      "source": [
        "x = np.array([[1 +1.j , 2.j], [3, 4]], dtype = complex) \n",
        "y = np.array([[ 1.j , 4.j], [3, 4-3.j]], dtype = complex) \n",
        "z = np.add(x, y)              #Matrix multiplication\n",
        "w = np.matmul(x, y)           #Matrix addition\n",
        "print(\"\\f Matrix X :\",x)\n",
        "print(\"\\f Matrix Y :\",y)\n",
        "print(\"\\f Matrix X + Y :\", z)\n",
        "print(\"\\f Matrix X * Y :\", w)"
      ],
      "metadata": {
        "id": "XvrDHwkovD9v"
      },
      "execution_count": null,
      "outputs": []
    },
    {
      "cell_type": "markdown",
      "source": [
        "# **Matplotlib**"
      ],
      "metadata": {
        "id": "OkQ5tzLdr6wo"
      }
    },
    {
      "cell_type": "markdown",
      "source": [
        "Matplotlib is a python library used to create 2D graphs and plots by using python scripts. It has a module named pyplot which makes things easy for plotting by providing feature to control line styles, font properties, formatting axes etc."
      ],
      "metadata": {
        "id": "E-Dwi1YPsK6H"
      }
    },
    {
      "cell_type": "markdown",
      "source": [
        ""
      ],
      "metadata": {
        "id": "mXtVx_OhsfX4"
      }
    },
    {
      "cell_type": "code",
      "source": [
        "from matplotlib import pyplot as plt\n",
        "x = np.arange(0, 3 * np.pi, 0.1) \n",
        "y = np.sin(x) \n",
        "plt.title(\"sine wave form\") \n",
        "\n",
        "# Plot the points using matplotlib \n",
        "plt.plot(x, y) \n",
        "plt.show() "
      ],
      "metadata": {
        "id": "flFTTx-vsMcl"
      },
      "execution_count": null,
      "outputs": []
    },
    {
      "cell_type": "code",
      "source": [
        ""
      ],
      "metadata": {
        "id": "f_79owMLw2A1"
      },
      "execution_count": null,
      "outputs": []
    }
  ]
}