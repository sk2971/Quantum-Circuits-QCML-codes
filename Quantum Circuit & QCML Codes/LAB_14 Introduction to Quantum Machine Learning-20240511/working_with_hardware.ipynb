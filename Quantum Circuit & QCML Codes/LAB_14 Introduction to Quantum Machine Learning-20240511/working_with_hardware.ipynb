{
 "cells": [
  {
   "cell_type": "markdown",
   "id": "2d1aadc4",
   "metadata": {},
   "source": [
    "## Working with quantum hardwares from IBM."
   ]
  },
  {
   "cell_type": "markdown",
   "id": "ef6cff08",
   "metadata": {},
   "source": [
    "As we already gone through working with quantum circuits, and using the backends like statevector_simulator and qasm_simulator. In this notebook, we will learn using the quantum hardwares from IBM."
   ]
  },
  {
   "cell_type": "markdown",
   "id": "2190db56",
   "metadata": {},
   "source": [
    "starting import will be same as the previous labs."
   ]
  },
  {
   "cell_type": "code",
   "execution_count": 1,
   "id": "1580ad0e",
   "metadata": {},
   "outputs": [
    {
     "name": "stderr",
     "output_type": "stream",
     "text": [
      "C:\\Users\\user\\AppData\\Local\\Temp\\ipykernel_20484\\1489373833.py:4: DeprecationWarning: The 'qiskit.Aer' entry point is deprecated and will be removed in Qiskit 1.0. You should use 'qiskit_aer.Aer' directly instead.\n",
      "  S_simulator = Aer.backends(name='statevector_simulator')[0]\n"
     ]
    }
   ],
   "source": [
    "from qiskit import QuantumRegister , ClassicalRegister, QuantumCircuit , Aer , execute\n",
    "import numpy as np\n",
    "import math as m\n",
    "S_simulator = Aer.backends(name='statevector_simulator')[0]\n",
    "M_simulator = Aer.backends(name='qasm_simulator')[0]"
   ]
  },
  {
   "cell_type": "markdown",
   "id": "de24c97f",
   "metadata": {},
   "source": [
    "Most of the task would be simple and same as working with simulators itself. For a starting point, we create a circuit to run on hardwares."
   ]
  },
  {
   "cell_type": "code",
   "execution_count": 2,
   "id": "5c8b2e06",
   "metadata": {},
   "outputs": [
    {
     "data": {
      "text/plain": [
       "{'000': 1}"
      ]
     },
     "execution_count": 2,
     "metadata": {},
     "output_type": "execute_result"
    }
   ],
   "source": [
    "qreg_q = QuantumRegister(3,'q')\n",
    "creg_c = ClassicalRegister(3,'c')\n",
    "\n",
    "three_qubits = QuantumCircuit(qreg_q , creg_c)\n",
    "\n",
    "three_qubits.id(qreg_q[0])\n",
    "three_qubits.id(qreg_q[1])\n",
    "three_qubits.id(qreg_q[2])\n",
    "three_qubits.measure(qreg_q[:] , creg_c[:])\n",
    "\n",
    "job = S_simulator.run(three_qubits)\n",
    "result = job.result()\n",
    "\n",
    "result.get_counts(0)"
   ]
  },
  {
   "cell_type": "markdown",
   "id": "6e71c3e0",
   "metadata": {},
   "source": [
    "We would be requireing one extra import from qiskit for working with IBM systems/hardwares that is-"
   ]
  },
  {
   "cell_type": "code",
   "execution_count": 3,
   "id": "91492e3a",
   "metadata": {},
   "outputs": [],
   "source": [
    "from qiskit_ibm_provider import IBMProvider,least_busy\n",
    "\n",
    "# saving the API token on your machine\n",
    "\n",
    "#IBMProvider.save_account(token=\"YOUR_KEY\")\n",
    "#provider = IBMProvider()"
   ]
  },
  {
   "cell_type": "markdown",
   "id": "fb6b14be",
   "metadata": {},
   "source": [
    "In the above code IBMProvider.save_Account() is used for saving your account on the device which you are working on. If you do not want to save your account on the device you can use below code."
   ]
  },
  {
   "cell_type": "code",
   "execution_count": 4,
   "id": "733427a2",
   "metadata": {},
   "outputs": [],
   "source": [
    "## ################## for current session\n",
    "\n",
    "provider = IBMProvider(token=\"YOUR_KEY\")\n",
    "## to check all the system including simulators and hardwares available for your account\n",
    "backends = provider.backends()"
   ]
  },
  {
   "cell_type": "markdown",
   "id": "66ccc0e5",
   "metadata": {},
   "source": [
    "Let's see what are the backend available for your account."
   ]
  },
  {
   "cell_type": "code",
   "execution_count": 5,
   "id": "253984dc",
   "metadata": {},
   "outputs": [
    {
     "data": {
      "text/plain": [
       "[<IBMBackend('simulator_extended_stabilizer')>,\n",
       " <IBMBackend('simulator_mps')>,\n",
       " <IBMBackend('simulator_stabilizer')>,\n",
       " <IBMBackend('simulator_statevector')>,\n",
       " <IBMBackend('ibmq_qasm_simulator')>,\n",
       " <IBMBackend('ibm_kyoto')>,\n",
       " <IBMBackend('ibm_brisbane')>,\n",
       " <IBMBackend('ibm_osaka')>,\n",
       " <IBMBackend('ibm_sherbrooke')>]"
      ]
     },
     "execution_count": 5,
     "metadata": {},
     "output_type": "execute_result"
    }
   ],
   "source": [
    "backends"
   ]
  },
  {
   "cell_type": "markdown",
   "id": "3f1a6a8c",
   "metadata": {},
   "source": [
    "We can choose any of the other system listed above."
   ]
  },
  {
   "cell_type": "code",
   "execution_count": 6,
   "id": "07f87061",
   "metadata": {},
   "outputs": [],
   "source": [
    "backend = provider.get_backend(\"ibm_kyoto\")"
   ]
  },
  {
   "cell_type": "markdown",
   "id": "edbe49c0",
   "metadata": {},
   "source": [
    "But it is always be an efficient approch to look for the system which free for the time being and satifying the requirements of number of qubits."
   ]
  },
  {
   "cell_type": "code",
   "execution_count": 7,
   "id": "d71e2ac6",
   "metadata": {},
   "outputs": [
    {
     "data": {
      "text/plain": [
       "<IBMBackend('simulator_extended_stabilizer')>"
      ]
     },
     "execution_count": 7,
     "metadata": {},
     "output_type": "execute_result"
    }
   ],
   "source": [
    "from qiskit_ibm_provider import least_busy\n",
    "least_busy(backends)"
   ]
  },
  {
   "cell_type": "code",
   "execution_count": 8,
   "id": "e8cacce5",
   "metadata": {},
   "outputs": [
    {
     "name": "stdout",
     "output_type": "stream",
     "text": [
      "Counts(noise): {'101': 1, '100': 9, '111': 1, '010': 366, '000': 3091, '001': 483, '110': 3, '011': 46}\n"
     ]
    }
   ],
   "source": [
    "# Perform noisy simulation\n",
    "result_noise = backend.run(three_qubits).result()\n",
    "counts_noise = result_noise.get_counts(0)\n",
    "\n",
    "print('Counts(noise):', counts_noise)"
   ]
  },
  {
   "cell_type": "code",
   "execution_count": null,
   "id": "fcc7fd59",
   "metadata": {},
   "outputs": [],
   "source": []
  }
 ],
 "metadata": {
  "kernelspec": {
   "display_name": "qiskit_0.46",
   "language": "python",
   "name": "qiskit_0.46"
  },
  "language_info": {
   "codemirror_mode": {
    "name": "ipython",
    "version": 3
   },
   "file_extension": ".py",
   "mimetype": "text/x-python",
   "name": "python",
   "nbconvert_exporter": "python",
   "pygments_lexer": "ipython3",
   "version": "3.12.2"
  }
 },
 "nbformat": 4,
 "nbformat_minor": 5
}
