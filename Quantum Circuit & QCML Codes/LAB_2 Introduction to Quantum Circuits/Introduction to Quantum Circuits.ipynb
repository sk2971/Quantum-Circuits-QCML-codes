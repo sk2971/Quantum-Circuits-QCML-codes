{
 "cells": [
  {
   "cell_type": "markdown",
   "metadata": {
    "id": "-Y75-gHh5wjW"
   },
   "source": [
    "# **Quantum Circuits**\n",
    "***\n",
    "\n"
   ]
  },
  {
   "cell_type": "markdown",
   "metadata": {
    "id": "wWeUczVF6N__"
   },
   "source": [
    "If you do not have Qiskit ready for use on your computer, please check out the installation guide.\n",
    "\n",
    "In order to make sure that all cells of code run properly throughout this lesson, please run the following cell of code below:"
   ]
  },
  {
   "cell_type": "code",
   "execution_count": null,
   "metadata": {
    "id": "d2MzyfLI5-lx"
   },
   "outputs": [],
   "source": [
    "from qiskit import QuantumRegister , ClassicalRegister, QuantumCircuit , Aer , execute\n",
    "from qiskit.visualization import visualize_transition\n",
    "import numpy as np\n",
    "import math as m\n",
    "S_simulator = Aer.backends(name='statevector_simulator')[0]\n",
    "M_simulator = Aer.backends(name='qasm_simulator')[0]"
   ]
  },
  {
   "cell_type": "markdown",
   "metadata": {
    "id": "YIibl1mlJCr_"
   },
   "source": [
    "# **Qiskit Quantum Gates**\n",
    "***"
   ]
  },
  {
   "cell_type": "code",
   "execution_count": null,
   "metadata": {
    "id": "18-hKRLP5dUx"
   },
   "outputs": [],
   "source": [
    "import qiskit\n",
    "from qiskit import QuantumCircuit, QuantumRegister\n",
    "from qiskit.visualization import visualize_transition\n",
    "import numpy as np\n",
    "import math"
   ]
  },
  {
   "cell_type": "markdown",
   "metadata": {
    "id": "WwMJzN64RSgP"
   },
   "source": [
    "List of commonly used single-qubit gates in Qiskit"
   ]
  },
  {
   "cell_type": "markdown",
   "metadata": {
    "id": "Mc3CwJusJdjr"
   },
   "source": [
    "|Names | Example | Notes |\n",
    "--- | --- | --- |\n",
    "|I, Identity| qc.id(0) or qc.i(0)|Applies I gate to qubit 0.|\n",
    "|H, Hadamard | qc.h(0) | Applies H gate to qubit 0.|\n",
    "|X|qc.x(0)|Applies X gate to qubit 0.|\n",
    "|Y|qc.y([0,1,2])|Applies Y gates to qubits 0, 1, and 2.|\n",
    "|Z|qc.z(0)|Applies Z gate to qubit 0. Equivalent to P gate with π phase rotation.|\n",
    "|P, Phase|qc.p(math.pi/2,0)|Applies P gate with π/2 phase rotation to qubit 0.|\n",
    "|S|qc.s(0)|Applies S gate to qubit 0. Equivalent to P gate with π/2 phase rotation.|\n",
    "|S†|qc.sdg(0)|Applies S† gate to qubit 0. Equivalent to P gate with 3π/2 phase rotation.|\n",
    "|SX|qc.sx(0)|Applies SX (square root of X) gate to qubit 0. Equivalent to RX gate with π/2 rotation.|\n",
    "|T|qc.t(0)|Applies T gate to qubit 0. Equivalent to P gate with π/4 phase rotation.|\n",
    "|T†|qc.tdg(0)|Applies T† gate to qubit 0. Equivalent to P gate with 7π/4 phase rotation.|\n",
    "|RX|qc.rx(math.pi/4,0)|Applies RX gate with π/4 rotation to qubit 0.|\n",
    "|RY|qc.ry(math.pi/8,0)|Applies RY gate with π/8 rotation to qubit 0.|\n",
    "|RZ|qc.rz(math.pi/2,0)|Applies RZ gate with π/2 rotation to qubit 0.|\n",
    "|U|qc.u(math.pi/2,0,math.pi,5)|Applies rotation with 3 Euler angles to qubit 5.|"
   ]
  },
  {
   "cell_type": "markdown",
   "metadata": {
    "id": "Qi1Dc0Im7EzS"
   },
   "source": [
    "## **Single Qubit Gates**\n",
    "***"
   ]
  },
  {
   "cell_type": "markdown",
   "metadata": {
    "id": "N4yO43vA7OwV"
   },
   "source": [
    "### Identity(I)"
   ]
  },
  {
   "cell_type": "markdown",
   "metadata": {
    "id": "BvhxPuDb7rCQ"
   },
   "source": [
    "![image.png](data:image/png;base64,iVBORw0KGgoAAAANSUhEUgAAAEEAAAA4CAYAAACi2pVMAAAABHNCSVQICAgIfAhkiAAAAzpJREFUaEPtWs9LakEUPj4fhIQWriQN3ArWVly1yYWbIBdCG6E/oI07N+LCRSDUshSjpRsD9+mfELRrpaCStgjFn6WSdmeky/M1duc6M+Z7zQFRz5w595xvzpm5flfDRBH44fLrh+eP05cgSBCmfSArQVaCrAT1TJDtINtBtoNsBxUB5cPvP78s+vn+/h6urq7U6T6fDw4ODhZ1pzkvkUhApVJR7U5PT2F9fV1z3jwDLiAUi0UYjUZwfHyMr7O1tTXvelz0fr8fer0e9nVycgKvr6/fDwIKZnt7GzweD5cktZy43W7VZGNjQ8tcc1z4EdlsNiEcDsPLy4tmMH8bPD8/QzqdhkwmA8lkEq+4CBEKwtnZGeRyOTg/P4fhcKgr/re3NwgGgxAIBODo6Ai8Xq/abrocURgLBQFVQCgUogjjs0mhUIDNzU2wWq14cHd3F+7u7qBWq302ZtQIBYElttvbWxWADz8IlHw+z+KWOHdlQajX6592fIvFAk9PT8REWJQrC8JgMACDwTCTm9FoXGiD1QJoZUEwm83Q6XRm4m+1WoCqgbesLAg7OzvQ7XZn8m232+ByuXhjIJ5jHI/HOOiPd9oMDg8PoVQqqeaoPRAIe3t7tC6o7YRWwvX1NUQiEbzBxWIxSKVS1IE5nU58j3BxcYE3w2g0Cui+w2QyUfugNkTPHVglm81O4vE4qxvi/Gq1OlGOy0mj0SCO7+/vT5Q7S+IYrZLLDyhqxBcwdDgcgF4iRWg7iAycp28JgoKmBEGCMG0qWQmiK4EHKcJCytBunsIqgQcpwkLK0AKA7ISBwIMUYSFlVgKEZZIiehIm2QqrhGWSIqTE9OiEgbBMUkRPwiRbYSAskxQhJaZHJwyEZZIiehIm2QoDgRcpsigpQ0p2nk4YCDxIERZSZl7CRD0t8fCV3VekihYp8pVfmrF/glRZBilCXF0dSmHtoCOGbzeVIChLwI1jfHx8xA9MkdhsNrDb7cJW+OHhAfr9PvaPaHhW4QICOgnQP1UuLy9xPOifJIguFyU3NzdQLpexe/S0em1tjelSBrQDM3n4DybLPUFZRAmCBGHay7ISZCXISlDPNdkOsh2mxfAO2I0OQa0O8OQAAAAASUVORK5CYII=)"
   ]
  },
  {
   "cell_type": "markdown",
   "metadata": {
    "id": "K13NOV6r7tRB"
   },
   "source": [
    "The effect of this gate renders the qubit’s state unchanged."
   ]
  },
  {
   "cell_type": "code",
   "execution_count": null,
   "metadata": {
    "colab": {
     "base_uri": "https://localhost:8080/"
    },
    "id": "FsHVj8Mx7wJk",
    "outputId": "e71405b5-694f-40f3-97f3-59c299cb5327"
   },
   "outputs": [],
   "source": [
    "qreg_q = QuantumRegister(1,'q')\n",
    "\n",
    "I_qc = QuantumCircuit(qreg_q,name='qc')\n",
    "\n",
    "I_qc.id(qreg_q[0])"
   ]
  },
  {
   "cell_type": "markdown",
   "metadata": {
    "id": "Jlnzv9F89wV0"
   },
   "source": [
    "### Hadamard(H)"
   ]
  },
  {
   "cell_type": "markdown",
   "metadata": {
    "id": "p_86iYy2-RoV"
   },
   "source": [
    "![image.png](data:image/png;base64,iVBORw0KGgoAAAANSUhEUgAAAD0AAAAzCAYAAAAkaACZAAAABHNCSVQICAgIfAhkiAAAAshJREFUaEPtWj2PcUEUPitvolBINIRI9D5aPwAFxRYb/cYWGtEoVAoRhY+EikjEardYiUa1rWKbzWpEgQShkEgk4isErzvJyvuK607MXCwzicKcZ845z3nuXHPP9bDZDrizIbkzvoguI30vqjOlmdI3XIE/ONwqlQrkcrkd1GazwePjI85S0THxeBw6nc4uTiQSAZlMdjQuFulmswnL5RJcLhdyplarjzo9p9Fut8NkMkEhvV4vzOdzOqQ5h1qtFsxm8zn5YMUyGAw7nFwux1pDfPdeLBaQSqXg8/MTKyAuaDgcgs/ng9lshrsEG0dE+v39HbLZLKTTaej3+9hBhYCJRAKKxSIkk0ngikp7YO1pvqBOpxOZ3t7e+CAnzXMKr1YreHl5OWm90CIipYWcX6udkb5WZWjnxZSmXdFr9UdF6fV6DdyH5vjxR9svlyPRT9bHxwd8f39Do9GAfD4PrVYLnp+fQaFQEPHnfFWrVXScDAaDoNfrwe12E/n8bzHXIxMa20PIJhwOC8EubrdarZvBYCCYB5XLm54E5/HESJ+nzpePwpS+vAbnyYApfUqdxWoi8OVSr9chEAjwmbHmiZQWq4lwKHOuSRGLxdAhqFQqHYJgzxGR5poIHo+H+ASGk61SqQS/3w8WiwUHfhRDRPqo5ys2MtJXLA7V1IieskgzeX19RU9pfEMikUAoFALcfjafn/35i5IWq9u5T3L/O5U9LUYTYT/Rn+80YhEpLVYT4RDh8XiMXiyUy2XodrsQjUbBaDSCw+E4BD8+J/jEvQWwJsLxGv4KK5U9/SuY/pPkXZLGvpH1ej34+vpC9VKpVKDRaK5C4FqtBtPpFOUyGo2wcsIirdPp0D8RMpkMcsq9/X96esIKIDaoUChAu91GYUwmE0ilUsGQD9zdWxB1Y4C73NOM9I1dxbx0mNK8pbkxA1P6xgTlpfMXsySwyD7jZBYAAAAASUVORK5CYII=)"
   ]
  },
  {
   "cell_type": "markdown",
   "metadata": {
    "id": "38ajgxPp-IyM"
   },
   "source": [
    "The effect of this gate is as follows:\n",
    "\n",
    "H$|0⟩$ = $1/\\sqrt{2} \\space (|0⟩ + |1⟩) $\n",
    "\n",
    "H$|1⟩$ = $1/\\sqrt{2} \\space (|0⟩ - |1⟩) $\n",
    "\n",
    "This gate results in a qubit being in a 50 / 50 superposition of states $|0⟩$ and $|1⟩$."
   ]
  },
  {
   "cell_type": "code",
   "execution_count": null,
   "metadata": {
    "colab": {
     "base_uri": "https://localhost:8080/",
     "height": 830
    },
    "id": "wXY08GE2-jw-",
    "outputId": "db87e305-00e5-49e1-9996-2ad59621754a"
   },
   "outputs": [],
   "source": [
    "qreg_q = QuantumRegister(1,'q')\n",
    "\n",
    "H_qc = QuantumCircuit(qreg_q,name='qc')\n",
    "\n",
    "H_qc.h(qreg_q[0])\n",
    "\n",
    "visualize_transition(circuit = H_qc)"
   ]
  },
  {
   "cell_type": "markdown",
   "metadata": {
    "id": "hPU1bxol_QQP"
   },
   "source": [
    "### Pauli Operators\n",
    "***"
   ]
  },
  {
   "cell_type": "markdown",
   "metadata": {
    "id": "sr-gSPqZ_ZQv"
   },
   "source": [
    "#### X"
   ]
  },
  {
   "cell_type": "markdown",
   "metadata": {
    "id": "Fdgf6LTq-Wf2"
   },
   "source": [
    "![image.png](data:image/png;base64,iVBORw0KGgoAAAANSUhEUgAAADgAAAA4CAYAAACohjseAAAABHNCSVQICAgIfAhkiAAAAypJREFUaEPtWTtrKkEUPl4vRBETsRKjYCsktmKVRgubgCmENIo/wMbORgIaCARi6QODpY2CvfEnCHapFFR8FKJooiYR43UG9OIrzuhsshv2gIjjd+ac75zdmf1mJdOZwS+2P7+YG6YmEhR6h8UOih3keQXES5TnDdqZntjBnSXiOeAvbX7FYhEeHx8XbjabDS4vL2mnIcbf399DtVpd4O/u7kChUBD7UxMslUowHo/B4/HgIFqtljjYPkC73Q6DwQC7er1eeHt745YgCqTX68FsNi/l2263IZvN4uD9fh/cbjfIZDIqTt1uF4LBINze3oJcLse+Z2dnizlOTk6o5kNgJovMZDIBp9MJV1dXcH19DRaLZdFh0oweHh5wgcLhMHx8fJC67cQxIZjP50GlUoFarcYBTSYTFAoFaDQaOxOYA3w+H7hcLmI8KZAJwVwutyA3D4wIPz09kebBGY4JwWazuXbjHx8fQ6vV4ixx0omZEHx/fweJRLIUUyqVwmg0Is2DMxwTgkqlEl5eXpaS7PV6gLr408aE4Pn5Oby+vi5xQVuF0Wj8aX5stgmHwwHlcnlBBl2yiODFxQUVwc/PT4yff1M5bwEz6aDBYMB7YCQSwQtLIBAAtK/NN+stsZeGk8kk+P1+vFjd3NxAPB4ncduNQceGNJZOp6ehUGijS61Wm862jGmn09n4/6GDVqt1OntiopqG+ln0q5LpdDpAHz4Zk0uUT4RWcxEJrlZEaL/FDgqtY6v5Mu0gEqxI9uzzDIoEcyKRgFQqBbFYDCt3FsaM4CGClYVg3lYMZgQPEawsBDPnBLcFIBnnUjAz6yAJkW0YLgUzLwhyKZh5QZBLwcwLglwKZqYE9xWsrATzpnucGcFDBCsLwbyJHB6jUo8z8FeCl3auVfwuwfzjgndrFQn/4EIwM7tECTl8O0wk+O0lZxxwr0Oner2O3x4h02g0cHp6yjit/9M9Pz/DcDjEA+isldaoCaIlHb3hjUajOBZ6A4vORLmyTCYDlUoFT49eyx0dHVGFkqClmspDYGBxkRFYw9bSFTu4VhKBDYgdFFjD1tIVO7hWEoEN/AMADcMyyqnVcwAAAABJRU5ErkJggg==)"
   ]
  },
  {
   "cell_type": "markdown",
   "metadata": {
    "id": "1V3gtqz8_tZ6"
   },
   "source": [
    "The effect of this gate is to flip a qubit’s state between $|0⟩$ and $|1⟩$. This gate can be thought of the quantum analog to flipping a\n",
    "classical bit (the NOT gate). In systems with many superposition states, this gate will be very useful in isolating particular states\n",
    "for future operations."
   ]
  },
  {
   "cell_type": "code",
   "execution_count": null,
   "metadata": {
    "colab": {
     "base_uri": "https://localhost:8080/",
     "height": 830
    },
    "id": "XMmFJfXP_4pk",
    "outputId": "f01bc183-8269-4f06-e9a8-99cd7d0cf010"
   },
   "outputs": [],
   "source": [
    "qreg_q = QuantumRegister(1,'q')\n",
    "\n",
    "X_qc = QuantumCircuit(qreg_q,name='qc')\n",
    "\n",
    "X_qc.x(qreg_q[0])\n",
    "\n",
    "visualize_transition(circuit = X_qc) \n",
    "#'''Visualization function for animation of state transitions by applying gates to single qubit.'''"
   ]
  },
  {
   "cell_type": "markdown",
   "metadata": {
    "id": "TIR__N-AAVLy"
   },
   "source": [
    "#### Y\n"
   ]
  },
  {
   "cell_type": "markdown",
   "metadata": {
    "id": "AYH7UkcP-ljK"
   },
   "source": [
    "![image.png](data:image/png;base64,iVBORw0KGgoAAAANSUhEUgAAAD8AAAA2CAYAAABwUEEXAAAABHNCSVQICAgIfAhkiAAABE1JREFUaEPtWksorVEU/g7KK+/IMwYk5RElEZHHwESRZ3kODQxkwoSpEjOPicLEK4WRQnmWAUUpAyFvifJ+JN171+6eE9dxzv7/vc+5OudfdSb/Xq9vr3XWXv/av+7XH4KdkoOd4mawNfD2Gn0t8lrk7XAHtLS3w6AzyE5KgG9ubqK/v98gkpeXh4KCAiUqpPN2dHTg6OjIoLe9vR3u7u5cdhSB39vbw9vbG+rq6pjy4OBgLiOWZMrPz8fj4yMz0dDQgJeXF8uAJwNhYWFISUmxJB5FumNjYw38Xl5eimSlFLz393cMDg5idHQU3d3dOD09VeSEGub9/X00NzerETXISAHf2NjIMqKsrAy1tbWorKw0pKKQdyaEn56eEB0dbYLD/JIw+IeHB4yPjyM7O5tZo2ITGRmJ6elp89YFOCjd9bVHrRph8IuLi18KjI+PD2ZnZ9X6ZFZubW0NMzMzZvnMMQiDPz8//wLe09MTFxcX5myrWl9aWoKbmxuGh4exvr6uSodeSBj86+srdDrdJyccHR3x/Pws5Nh3wpeXl4iLi8Py8jL8/f2/Y+N6ruicN6bRw8MD9/f3n5Zub29B0eclAjI2NmaSnf7fSUlJKC4uxsLCAiuw4eHhJmXMLQqDpyhQ0ftId3d3iImJMWfbsJ6RkQH68dLAwAA7VcguFdh/M49Xj3DaJyYmgpqLm5sbg83d3V2Ltb3UU8zPz6OkpARDQ0OqgZOzwuBJSU9PD9ra2kDFjxyKj49HWloabwAU8Tk4ODD9Kysr+NjdKVLyl1k47UlPbm4ukpOTWfXNzMxEdXW1Gl+4ZCjFp6amQE2OkrpiTLkU8KSYUj8nJ8eYDenPnJychIGTU1LSXjo6KynUwFtpo3+cGS3yPy4kVnJIWrXX+9vZ2Yn09HThac/V1RUmJydZB0cdY01NDVxcXKRui0XSPjQ0VMhJ6uJKS0tRVFSEiooKpKamCr+7G3NIeuSbmpqM2VH0jNpXb29v+Pr6Mjnq6DY2NnB2diZ1aCot8vQmNzExgePjY0VAjTHTIEQPXL9OmzE3N2eMXfUzaeBHRkZYhOrr61U7oxe01oBECvitrS02w1tdXUVAQIAweGsNSKSAT0hIQFRUFOg9u6qqShi8jAEJjxNSwJOhg4MDdm2UlZX1ZbLD48hHHhkDEh6b0sDTmUzzepqxiU5uCwsLQZcSeqK/AZ319Losk6SBDwoKYk0IbYLo5WVERAQ743t7e9kUuLW1FV1dXXB1dZWJXdktrSnL5eXluL6+hp+fnyk27rWWlhacnJxge3ubXUvRXYBsktrkyAKuB0mdomi3aGrDpKW9KSM/dc2uwStOe7p+pj6bKDAwECEhIf81sDs7O2yYSUQnghJSBJ6qMH2Z0dfXx2zQVxFUlf8n0fvE4eEhc4Haa2dnZ253dNqHx9x7ZVuMdl3wNPC2lcz8aLTI8++VbXFqkbetePKj+Q1TRk8yNNaPNQAAAABJRU5ErkJggg==)"
   ]
  },
  {
   "cell_type": "markdown",
   "metadata": {
    "id": "XNJjKe6SASXX"
   },
   "source": [
    "The effect of this gate is to flip a qubit’s $|0⟩$ and $|1⟩$ amplitudes and multiplies by an imaginary number (phase). From a\n",
    "probabilities perspective, this gate has the same effect as the X gate. However, the additional phase makes this gate very useful\n",
    "in creating certain constructive / deconstructive interferences."
   ]
  },
  {
   "cell_type": "code",
   "execution_count": null,
   "metadata": {
    "colab": {
     "base_uri": "https://localhost:8080/",
     "height": 830
    },
    "id": "EdfGbRKWBOod",
    "outputId": "27a3a90f-9c3e-445f-ae80-ca58d444c387"
   },
   "outputs": [],
   "source": [
    "qreg_q = QuantumRegister(1,'q')\n",
    "\n",
    "Y_qc = QuantumCircuit(qreg_q,name='qc')\n",
    "\n",
    "Y_qc.y(qreg_q[0])\n",
    "\n",
    "visualize_transition(circuit = Y_qc, trace=True)    \n",
    "#'''Args: trace (bool): Controls whether to display tracing vectors - history of 10 past vectors at each step of the animation.'''\n",
    "\n"
   ]
  },
  {
   "cell_type": "markdown",
   "metadata": {
    "id": "57C9sPQDBdwq"
   },
   "source": [
    "#### Z"
   ]
  },
  {
   "cell_type": "markdown",
   "metadata": {
    "id": "iXJ_3TQC-x4p"
   },
   "source": [
    "![image.png](data:image/png;base64,iVBORw0KGgoAAAANSUhEUgAAADwAAAAwCAYAAABNPhkJAAAABHNCSVQICAgIfAhkiAAAA8RJREFUaEPtWjlL7FAU/mZ8oCKuzYgLWNgIKoiFSyPMaGEjKKIIgktvYWMlCGLhAlq5gDgyVooKImijFv4A0c7CBfcFRNxXNC/n8szDGSa5c5OMYcyBFMk9y/3ul7nnnpNxSLLgF4nzF2FlUG3Akc64zXCkM/yHB+DW1hYmJiYU1YqKClRVVfGYmq4zMDCAo6MjJU5vby/i4uKCxuUCvLe3h/f3d7S0tDBHaWlpQR2Ge6CyshKPj48sbFtbG15eXvQDJmeZmZkoKioKNx7NeLm5uYpOYmKipj4Xw2pe3t7eMD4+jsLCQhQXF6upco9dXV1hYWGBMXV3d4empibExMRw26sp6tql5+bmGNiRkRFcXl6qxeEe+/j4QF1dHWpqatDQ0ICSkhLlp8TtREVRF8O1tbXM9fT0tEqI0IbW1taQlJSElJQUZpifn4+NjQ2cnZ0ZsnfoYjg0KHzaKysrCtgvC1qA1dVVPgcaWpYDfH5+HrDLJiQk4OLiQgMK37DlAL++vsLhcHybfVRUFJ6fn/kQaWhZDnB8fDzu7++/Tfv29hbEshFiOcB5eXl4eHj4ho1SU05OjhF4jSkPPz8/QZcRUl1djf39fcUVveIEuKyszAj30JWWaEfd3NzE7u4uJicncXBwwA4JXylFZIZZWVksB4+OjoLADw0NYXBwELGxsSLuAm2oxaMl8gFD6unp0VIzdPz4+FiSF1S6vr7m9lteXi7JpzRVfV0MBy6fcU8yMjJAl9FiuU3LaID+/mzA/isSafc2w6EwSqWcz+fDzMwMhoeHcXp6Goq5kO7Ozg46OzuFbMlIF8Pt7e2sE1JfX4/m5mY0NjYq7RbhGQUxpHq7v7+f5fulpaUgWtqPhQHT8W92dhZut5tFoe5EdnY2FhcXtaMKaLhcLnR0dMDj8QhY/zcRBry+vh5QxiUnJ4NOX1YWYcBm161mLZowYLPrVrMACx8tjahbvV4vKz6CidPpRHd3N3jar8F8+D8XBmxE3dra2uo/H9PvhV/pgoICtvI3NzfKJClHmv0JRm/tLQyYUFI/uqurC7SBTU1NsZZqaWmpKSxRGqTaeGxsDCcnJ+jr68Py8nLosVSLx3+DavWwzLAkt1AlufjncWWqTljqYXqt9R4GQqdJ3ELXKy0e9ucsbcA/t/bhicydh6n0o49aJKmpqUhPTw/PDDWibG9v4+npiWlRO1dLuABT65T+AUApgYS+ulMr1QoyPz+Pw8NDNhVKi9HR0arTclCeUNWIsEF704owQgPg2AwHLEmEPfh1DP8FmILwCFhomMMAAAAASUVORK5CYII=)"
   ]
  },
  {
   "cell_type": "markdown",
   "metadata": {
    "id": "Z6sCS0IYAWef"
   },
   "source": [
    "The effect of this gate leaves a qubit’s $|0⟩$ amplitude unchanged, while multiplying by -1 (phase) to a qubit’s $|1⟩$ amplitude. The\n",
    "power of this gate comes from the fact that it only affects the $|1⟩$ component, which will be frequently used for picking out\n",
    "certain states in the system while leaving others unaltered."
   ]
  },
  {
   "cell_type": "code",
   "execution_count": null,
   "metadata": {
    "colab": {
     "base_uri": "https://localhost:8080/",
     "height": 830
    },
    "id": "Y7jT0UmNByz1",
    "outputId": "20986a15-6b26-44c0-d442-f977f274268c"
   },
   "outputs": [],
   "source": [
    "qreg_q = QuantumRegister(1,'q')\n",
    "\n",
    "Z_qc = QuantumCircuit(qreg_q,name='qc')\n",
    "\n",
    "Z_qc.h(qreg_q[0])         # Applying H gate first for better visualization\n",
    "\n",
    "Z_qc.z(qreg_q[0])\n",
    "\n",
    "visualize_transition(circuit = Z_qc, fpg=30)    \n",
    "#'''Args:fpg (int): Frames per gate. Finer control over animation smoothness and computational needs to render the animation. Works well for tkinter GUI as it is, for jupyter GUI it might be preferable to choose fpg between 5-30.'''\n",
    "\n"
   ]
  },
  {
   "cell_type": "markdown",
   "metadata": {
    "id": "H5O6vQk3jbY3"
   },
   "source": [
    "### Phase Gates\n",
    "***\n",
    "\n",
    "The following series of gates are all single qubit operations, which multiply a qubit’s $|1⟩$ state component by a phase. Doing so does not change the probability of the system, but is an essential component for algorithms that rely on particular kinds of interference."
   ]
  },
  {
   "cell_type": "markdown",
   "metadata": {
    "id": "9ZRK4-M5jxO5"
   },
   "source": [
    "#### Phase ($R_{Φ}$)"
   ]
  },
  {
   "cell_type": "markdown",
   "metadata": {
    "id": "ulun40MeBvpv"
   },
   "source": [
    "![image.png](data:image/png;base64,iVBORw0KGgoAAAANSUhEUgAAAEgAAAA6CAYAAAATBx+NAAAABHNCSVQICAgIfAhkiAAABRtJREFUeF7tmlkodV8UwNflb549yVAKDzIUMiZkSCKZIsmUZw+ePSg8KMUbSjKXOeTFTMmTqSQPhsxDJPPM/d+1/zl9XL59jnP27fP996r7YK89/s7aa6+9NpVaI8DlSwJ6X2q4ghDggCiGwAFxQBQCFDW3IA6IQoCi5hbEAVEIUNTcgiiA/qHoqeqlpSVoaGgQ6sXExEBiYiK1na4qVFZWws7OjjBcRUUFmJmZiR5eNqCNjQ14enqC/Px8Mqi9vb3owXVRMS4uDm5ubshQhYWFcH9/r1tAOLCTkxMEBgbqYr2Sx/D09BTaWFlZSW4v24J+N+Lj4yPU19eDn58fBAUF/a6qaN3p6Sn09/cTK7i8vITc3FwwNjYW3V5qRWZOuqenh8CpqamB4+NjqfP6tP7Lywukp6dDSkoKZGZmQnBwsLC1P22gQCEzC0pLSyPT6+joUGCa/3UxPj4O1tbWYGtrSwq8vb1hfn4eDg4OmPk+ZhakGJVfOhodHRXgvBUjsLGxMRbDkT5/FKDDw0OtE8jS0hKOjo44ICTw8PAAKpXqHQx9fX24u7vjgJCAhYUFXF1dvYNxcXEBaEWs5EdtMS8vL7i+vn7HAo96d3d3VnzY+6DX11fAnxKSnJwMm5ubQle45RBQeHi4Et1/2gezYx5PnMXFRVhfX4fGxkbY2toiQd3bEf3pbCiFzs7OJAaqra0FhFVdXQ1VVVVgYmJCaSlDjc8+ckQTEKrLy8vldCG57e7urlrzAdRnZ2eS2kZHR6s1kbikNswsSMY3ozZ1dHQE/OlCfpST1gWQj2NwQB+JfPj7rwP0/PxMWbI09Y8FhFnMtbU1rdV2dXWBxgtrlX+34Ec6aVxsVlbWp3kgjLk+Xke+CwfbMQOEuZu2tjayCExyJSUlgYODg5y5Cm3x9o79x8bGCmUYZ83NzZH0BybolIqumQEqKioiUCIjI0lOOCEhAYaGhrRu41KJYQCKAWNeXp4AqKmpiXTj6+sLbm5uMDk5CfiYgEk1ucLEB+F9qbu7m8BBwfSoq6srDA4Oyp0vhIaGklcKf39/0hdmKwcGBgiw5eVlwPtaREQEzMzMyB4LO2ACaHp6WstSbGxsAL++FEFnOzExAX19fYJDxmsFOuiCggJYWFiAvb09IWjEbaenpwft7e2QkZEhZagv6zIBpERi6+TkBFJTU8Hc3JzcvzBRj48AKAgCrcXU1JRsKzs7OxgeHoaVlRWSA0crCwsL+3LRUhRMfJASia3s7GzAvHZAQADJAWHe2dDQkKyts7OTvMUZGBiQv4uLi8nFGC+wSr2evEFkYkFyE1v7+/swNTVFbunoy0ZGRqC0tPTdh3+D81aIWQMWb3NMLEhuYgu3j4eHB4l1xApuRyXjH6YW5OPjA/iKeX5+LqwPo16xb/YuLi5a0TCeSpo0x5e80DmzEDa9amaKzrKkpATQYbe0tJA3rJCQEFFrwFgmPj4eWltbYXZ2Fpqbm4nPwSduXQuTLYaL0CSnSKyC0S2mRHNyciStraysDDQJMXJiiQUraQCRlZkBwvFxm0VFRYmcinY1OelZ7d6+V8Jsi31vOn9eKw6I8k0U2WIYt+AtGgWjWqVu7ZS5i1Kvrq7C7e0tqYtPRFJFNiC8WeMJU1dXR8bG/+jCq8GfIr29vbC9vU2mgyepkZGRpKmp8A1EUov/WWXugygfnAPigCgEKGpuQRwQhQBFzS2IA6IQoKi5BXFAFAIUNbcgDohCgKL+F1yTwKTR4oHZAAAAAElFTkSuQmCC)"
   ]
  },
  {
   "cell_type": "markdown",
   "metadata": {
    "id": "PZP7SRnFkFeT"
   },
   "source": [
    "A gate similar to the Z gate. It leaves a qubit’s $|0⟩$ amplitude unchanged, while multiplying by a phase $e^{iΦ}$ to a qubit’s $|1⟩$ amplitude. In Qiskit, this gate goes by the name ’$U_1$’. This gate will find many of the same uses as the Z gate, picking out certain states while leaving others unchanged. However, the extra degree of phase is a powerful tool for creating certain interference effects."
   ]
  },
  {
   "cell_type": "code",
   "execution_count": null,
   "metadata": {
    "colab": {
     "base_uri": "https://localhost:8080/",
     "height": 887
    },
    "id": "2q73OSjMk-am",
    "outputId": "98b874ec-9d12-452c-a6af-03ad40954b52"
   },
   "outputs": [],
   "source": [
    "qreg_q = QuantumRegister(1,'q')\n",
    "\n",
    "Rphi_qc = QuantumCircuit(qreg_q,name='qc')\n",
    "\n",
    "Rphi_qc.h(qreg_q[0])              # Applying H gate first for better visualization\n",
    "\n",
    "Rphi_qc.p(math.pi/4, qreg_q[0])\n",
    "\n",
    "#visualize_transition(circuit = Rphi_qc, fpg=30) \n",
    "#'''The QuantumCircuit.u1 method is deprecated so don't worry if it shows error on running.'''"
   ]
  },
  {
   "cell_type": "markdown",
   "metadata": {
    "id": "fA3kQ1LWm2IV"
   },
   "source": [
    "#### S"
   ]
  },
  {
   "cell_type": "markdown",
   "metadata": {
    "id": "MPFBf_bLCezi"
   },
   "source": [
    "![image.png](data:image/png;base64,iVBORw0KGgoAAAANSUhEUgAAAD0AAAA7CAYAAADIO4L0AAAABHNCSVQICAgIfAhkiAAAA5dJREFUaEPtWjtIM0EQ/qI/iESND5DgA2wFtRWrNIZgI2gh2CjWYmOljaawCAjaJSqKZRpfYCOohU060UKwUvBt4VujiZLkzyx4ED28u82cXMwNiHI3MzvffHt7u9/pSKUNeWYFeYZXwLVB5wvrNtM203+4A/b0/sPkZkCzmbaZ/sMd+CeLbX9/HwsLC0q41+tFZ2enbDrNuMnJSZyenip+gUAATqdTM07NQRr00dERPj4+MDAwIPLW1NSo5We71tHRgWg0KvINDQ0hFov9PmgavL6+Hq2trWzAfkrU1NSk3Ha5XD+5at4zZfW+v7/H8PAw3t7eNAv46nBzc4P5+XmEw2HMzs4KRrmNHfTU1BTW1tYwPT2N9/d3Q/UmEgn09PSgu7sbvb29aGtrUx4fQ4k0nNlBE8N9fX0aw6rf3t7eRnl5OSorK4VDS0sLdnd3cXl5qR4geZUdtGQdImxzc1MB/JmHmrC1tZVN2m+xlgJ9dXX1bUUuKyvD9fX1t8KzuWAp0PF4HA6HIwNPYWGh1IL4U1MsBbq0tBTPz88Z9T4+PoLY5jRLgW5ubsbLy0sGvqenJzQ2NnJiNkcYTCaTosjP33or7urqwvHxseJO051AezwevSl0+bEzvbi4iNHRUbEg+f1+zM3N6SqEnBoaGsQ7OhQKicVrbGwM9N4vLi7WnUOXI4n9Mra0tJSamJiQCdWMOTs7S6VfX6m7uztV3/b29lR656Z6T89F6QOHro5KOtXV1YF+zDL26W1WoZx5bdCc3bRyLptpK7PDWRs701wiAElRg4ODeHh44MQrcrGC5hQBaDdWXV3Nvu9mB80pApSUlGB8fBwFBay88DPNJQLQ/ntlZUVRP7nnN2sbOUQA2nPv7e2BjpS0BzfDWEFziACRSAR02trZ2RHPtBnGCppDBKBT1uvrKzY2NsSJywxjBc0lAqRPcPD5fKDF7KuowNEEVtBcIsDq6ir6+/uxvr4O+nDAbayguUSA2tpaoZURy/TpiNvYz9Okmpyfn+Pg4AAjIyOoqKgwXHMwGMTt7S2qqqoMx+oJYAdNg3KIAGYBpvpYp7eeLlvBJy9BZzW9Ly4uxAc2MrfbDVqAzLLDw0Px/iYjWTgbkwZNKzUd/2ZmZsT49J8CZm0mKP/y8jJOTk7EWPQ1s6ioSPwtYw6STGUCczkmL59pG3QuT1kjtdtMG+lWLvvaTOcye0Zqt5k20q1c9s1Lpv8Dx+UubvG4plEAAAAASUVORK5CYII=)"
   ]
  },
  {
   "cell_type": "markdown",
   "metadata": {
    "id": "4lLmIZuXnAaz"
   },
   "source": [
    "A pre-defined gate for $R_{\\phi}$ , $\\phi = π/2$ . It leaves a qubit’s $|0⟩$ amplitude unchanged, while multiplying by i (phase) to a qubit’s $|1⟩$ amplitude."
   ]
  },
  {
   "cell_type": "code",
   "execution_count": null,
   "metadata": {
    "colab": {
     "base_uri": "https://localhost:8080/",
     "height": 830
    },
    "id": "IuzjU_AnnSgg",
    "outputId": "172df908-d816-413e-cf37-f9170025f285"
   },
   "outputs": [],
   "source": [
    "qreg_q = QuantumRegister(1,'q')\n",
    "\n",
    "S_qc = QuantumCircuit(qreg_q,name='qc')\n",
    "\n",
    "S_qc.h(qreg_q[0])         # Applying H gate first for better visualization\n",
    "\n",
    "S_qc.s(qreg_q[0])\n",
    "\n",
    "visualize_transition(circuit = S_qc, fpg=30)"
   ]
  },
  {
   "cell_type": "markdown",
   "metadata": {
    "id": "BTHFwH96oHtI"
   },
   "source": [
    "Exercise: Implement the visualization of $S^{†}$ gate. \n",
    "\n",
    "Note SX gate is not implemented in visualize_transition function\n",
    "\n",
    "Check out all possible gates allowed in visualize_transition function by going through the implementation, link to which is given in references"
   ]
  },
  {
   "cell_type": "markdown",
   "metadata": {
    "id": "OwkArmhBp3bI"
   },
   "source": [
    "#### T"
   ]
  },
  {
   "cell_type": "markdown",
   "metadata": {
    "id": "NX0hJ97WDBKF"
   },
   "source": [
    "![image.png](data:image/png;base64,iVBORw0KGgoAAAANSUhEUgAAAEYAAAA5CAYAAACLWl2QAAAABHNCSVQICAgIfAhkiAAABUBJREFUaEPtWkko9VEUP+Yp44YMEVIyZCHDSjKEogwpmW2sbKUMWViYwsqUIXaKImFhWluYQqaQmTLPs++dW+/lDZf/fe7zUffUW7xzzz3n3t8795xzz3167zICQWoI6KtxBIMgIIChOIIARgBDQYDCFh4jgKEgQGELjxHAUBCgsIXHCGAoCFDYwmMowBhS+BrZc3Nz0N7erhiLioqChIQEjbL/m1lTUwM7OzuKZVRWVoKFhYXkZTEBs7GxAc/Pz5Cbm0sMODo6Sjb004KxsbFwe3tLzBYUFMDDw4PugEEjLi4uEBwcrHGf6+vr0NXVBRUVFRrHtWWenJxAf38/2djV1RVkZ2eDqanpp+p8fX0V49bW1p/KahrkEmOOj4+huroaOjs7YWhoSJMdrXmvr6+QmpoKSUlJkJaWBqGhoQqP1VqphIlcgLG3t4fCwkKIiIiQYJJNZHx8HGxsbMDOzo5M9Pf3h+npaTg4OGBTxCjNBRhGm0zio6OjClDkExGosbExJj2swr8emMPDQ7WgaWVlBUdHR6x7ZZL/9cA8Pj6Cnp6e0qYMDAzg/v6eaaOswr8eGEtLS7i+vlba1+XlJaDX6JJ+PTB+fn5wc3OjhAGmbG9vb13iwrfn+/b2BvjhSYmJibC5ualQiUcLgQkLC+NpRk0XF4/BX7S+vh6am5thb28PqqqqYHh4WM2YNgw3NzdSwzQ1NZGAW1ZWBnV1dWBmZqaNOulz8F1JKvX29r7Lqlqp4lzldnd332Wp+/3s7IxZb2Rk5Lusemaax3RXkg43f0lnZ2fAz08Rl6P0U4v9STsCGAraf+YoaVo/9lvkhZ6hoSF4eHhoEtOK9yeAwc1jpisvL1dssqOjg2TAi4sL0ncJCQkBV1dXQIB40J84Spiai4qKlPabl5cH7u7uUFJSAl5eXqQVwQsUNPTrgcH2Qnd3N9zd3ak5wuzsLLl5r66uqo19l8HH72SrmJ+fB+wJ4wXP2NiYNJd40MDAAOjr68Pg4CDp3H2k2tpa8rWlpYWHKSUdXDwGg2BxcTFkZWVBRkYGYEcPq2AelJOTAz09PRAXF6emTn7rVr19qwlqweACDIIQHR2taA9gCY9XBB4kq3jB1taWXAewEY+EwRbB0PThYRN1cAFGtcuGG1lbW1N6vpCyYIwj2DPGxvfp6SmZglkHW6czMzNgZGREeNgUl9X35IPxpbS0VPFdih0pMlyAUe2ymZubk1jD0mWbmpoCPDaBgYEQHx8Pra2tZP1BQUHQ0NCgFl9w7Pz8HFZWVgDt8yYuwHy3yya7GEJKSgp5dkHvwPrk5eVFsVcM5qqErwfYKMcjrAvikpVUu2z4uPX09CS5yzYyMkJkFxYWSGZDfViffEaYrTDmyG78sLW1BYuLi/DxLemzuVLGuACj2mXDRhLGA09PTylrIIDExMRAcnKyJHkUwgCPhKkaYw3vzMTlKOGG8PlWTvgiGR4eTn55KYQAqnb+MEXjhr+i/Px8cqR8fHy+EmUa5wJMeno6qV0mJycJQI2NjSRgSqXMzEyShSYmJsh7UVtbGwQEBHD3AqnrQTkuRwkzEJbtS0tL5IUQL3gmJiaS14GyOB+DLqZ6WcdN8lxdCXIBBheHZ/y7we8nO3RfAcrlKH1l5C+OC2AovxrzUdrf3yf/NkBycHAAJycniur/y15eXla0KrB8YCUmYPCNB4sq+c0Z/7UkrydYDetavq+vD7a3t4kZ/OsISzLAOXr42KLrRf5F/SLGUH41AYwAhoIAhS08RgBDQYDCFh4jgKEgQGELj6EA8w/hnNUYA9RukgAAAABJRU5ErkJggg==)"
   ]
  },
  {
   "cell_type": "markdown",
   "metadata": {
    "id": "g2oDLE21p-2D"
   },
   "source": [
    "A pre-defined gate for $R_\\phi$ , $\\phi= \\pi/4$ . It leaves a qubit’s $|0⟩$ amplitude unchanged, while multiplying by i (phase) to a qubit’s $|1⟩$\n",
    "amplitude."
   ]
  },
  {
   "cell_type": "code",
   "execution_count": null,
   "metadata": {
    "colab": {
     "base_uri": "https://localhost:8080/",
     "height": 830
    },
    "id": "mkLAGlCMreOM",
    "outputId": "12a6a1ef-b93a-47bf-d895-d46dd7a43385"
   },
   "outputs": [],
   "source": [
    "qreg_q = QuantumRegister(1,'q')\n",
    "\n",
    "T_qc = QuantumCircuit(qreg_q,name='qc')\n",
    "\n",
    "T_qc.h(qreg_q[0])         # Applying H gate first for better visualization\n",
    "\n",
    "T_qc.t(qreg_q[0])\n",
    "\n",
    "visualize_transition(circuit = T_qc, fpg=30)"
   ]
  },
  {
   "cell_type": "markdown",
   "metadata": {
    "id": "4eYRO-rMrzNb"
   },
   "source": [
    "Exercise: Implement the visualization of  T†  gate."
   ]
  },
  {
   "cell_type": "markdown",
   "metadata": {
    "id": "BjgwQ5dDsBF_"
   },
   "source": [
    "### Rotation Gates\n",
    "***\n",
    "\n",
    "The follow gates all represent rotations of a state on a Bloch Sphere."
   ]
  },
  {
   "cell_type": "markdown",
   "metadata": {
    "id": "oisLYcuhEHYv"
   },
   "source": [
    "![image.png](data:image/png;base64,iVBORw0KGgoAAAANSUhEUgAAAaEAAAFPCAYAAADk5nEwAAAABHNCSVQICAgIfAhkiAAAIABJREFUeF7t3Qe4LEWZN/DW1W9XXdesq4sIChIliKKIXMkgKJKTJBGWnCQIiARR8AGRKEngkpEoQZKSM4heggKrSBDEDAqmdVf9+JVb12HunDPh9Mz09Lz1PP2cMD3d1f+qrv+b60V/e74V0QKBQCAQCAQCgSEg8OIh3DNuGQgEAoFAIBAIJASChGIiBAKBQCAQCAwNgSChoUEfNw4EAoFAIBAIEoo5EAgEAoFAIDA0BIKEhgZ93DgQCAQCgUAgSCjmQCAQCAQCgcDQEAgSGhr0ceNAIBAIBAKBIKGYA4FAIBAIBAJDQyBIaGjQx40DgUAgEAgEgoRiDgQCgUAgEAgMDYEgoaFBHzcOBAKBQCAQCBKKORAIBAKBQCAwNASChIYGfdw4EAgEAoFAIEgo5kApCPz3f/938eijjxY333xz8Ze//KWUa8ZFAoFAoP4IvKT+jxhPOAgEfv7znxfnnntu4ef73ve+4p/+6Z8Gcdu4RyAQCIw4AqEJjfgAVqX7v/jFL4oLL7ywuOqqq4rnnnuu+Otf/1qVrkU/AoFAoMIIBAlVeHBGpWu//e1vi4ceeqh44IEHip/85CfFrbfeWvzpT38ale5HPwOBQGCICAQJDRH8utz6qaeeKm6//fbiD3/4QyKfyy67rPj9739fl8eL5wgEAoE+IhAk1Edwx+HSzG6PP/54CkjQ/vd//7e45pprkm/I79ECgUAgEJgMgSChydCJz9oi8Jvf/CaZ4n74wx+mc//2t78Vjz32WPHd7343+YaiBQKBQCAwGQJBQpOhE5+1RUBY9t133z2LD0iAwq9+9au2348TAoFAYLwRCBIa7/Gf0tPLB/qv//qvpPU0t5tuuqngK/qf//mf5o/i70AgEAgEZiIQJFTzySBQoJfkUd/73e9+Nyk6zz77bDLF/eAHP5jlPFFy9957b/HMM8/M8ln8IxAIBAKBjECQUM3nwre//e3i6aef7vop77rrruLiiy9OPp6J2v3335+IZiKSu+GGG4onnnhilmsIZvjjH/84yxGBDBMhHf8PBOqLQJBQfcc2PdnXvva1RATdNlqOqLef/vSnE34VAd13330Tfn7jjTcWP/7xj2dJXH3wwQeLt7zlLbMc06dPn/Ba8UEgEAjUE4Eo21PPcZ35VH/+859nIQHEQkP65S9/WbziFa9IOT1zzjln8e53v7t49atfnb4799xzpzDr6667rthoo41mQUmFhO9///sFslp00UWLt73tbSkQQeLqQgstlD4TMTdjxoxiscUWK2afffaZ13jHO96RElpzcw9a0+tf//pZ7hP/CAQCgXojECRU7/Gd5ekQiwVfdYMtttiieMlLXpLyeQ499NAU4bbkkksWr3rVqxJpvPGNbyyuv/76liREu3rPe95TLLXUUsU888yT/EdXXHFF0rr22muvdC0aD4JDTI3tX/7lX4r5558//YtJD2F95CMfKZZYYolZ+hv/CAQCgXojECRU7/Gd5ekEEohme9e73pW0l9yQzm233Vb8x3/8R7HwwgsXL3vZy4o3v/nNxWte85oUAYdoGlsmKYT1yle+MpGPc+UNzTXXXMU///M/J22KP+rf/u3fZukHP9LPfvaz4vjjjy/mm2++Ytq0acUb3vCGWc6LfwQCgUC9EQifUL3Hd5ane+SRRwpH1kTyCUxotJJG/xGi8X8VEJobwnjrW9+aCOZFL3pR88fpb5/NMcccxWtf+9oXfI6AmO6OOeaYZP5bYYUV0rWi8nZLGOOfgUCtEQgSqvXwvvDhRKQxx6lkQGtpbPwx/Dy//vWvZ5bbQR6zzTZbioBjXpssUq4bGJnnLrjggpRHtPbaayd/1Etf+tJuLhHnBgKBQE0QCBKqyUB28hjIRyABjYNfprExv9FQnJMrYPMXMbVlk1xZ2zMIiKAFMdkxDdoC4qyzzmqZb9TJc8U5gUAgMLoIhE9odMeu656rXtCugoEdUhvPEZyw9NJLF1deeWXyC5VhMqP18Dc9/PDD6chNpN473/nOrp8rvhAIBAKji0CQ0OiOXdc957txMKs1J5j62//zOfnifDYLLrhgcfTRRxc77LBD1/ds9YW3v/3tKfQ7WiAQCAQCYY4boznABMfsRtNp3u+HGU6o9r/+67++wFSHmPy/XQmfMYIxHjUQCARKRCBIqEQwq34pvh3BBkiomVSQEB+NiDY/c+MfErAgem2iKLiqP3f0LxAIBKqLQJBQdcem9J4hEeVyEIocncamioL8Hj6gRrJBQDas23LLLYv/9//+X+l9igsGAoHAeCMQJDRm47/AAgskH4+yPY1NGZ1ll102JY42NlWw77nnnlQdoYyghDGDOx43EAgE2iAQgQltAKrbx5JHkc2dd96ZqmTzEykyipiU7Gms34aAaEwi1viKogUCgUAgUDYCQUJlI1rx67385S9P1RKU2/nDH/6QkkQFK0hKVbKnMWn0ySefTPXfVllllYo/VXQvEAgERhWBIKFRHbkp9FsC6rzzzjvpFUTEqa7AV0RLihYIBAKBQD8QCJ9QP1CtwTUFJKhsIKm0ubpCDR4vHiEQCAQqgkCQUEUGomrdUDnbFt38R9ECgUAgEOgXAkFC/UK2Itd98Yt7G2J5RL5rW4dogUAgEAj0C4HwCfUL2YpclzlN4EG3zf4+73//+7v9WpwfCAQCgUBXCAQJdQXX6J2833779dTpVhvR9XSh+FIgEAgEApMgECQ0CTh1+KjXUjvdfk8BVCHfeRuIOmAXzxAIBAL9R+BFzxeo/Fv/bxN3qCMCwri/973vpaRXVbF/8IMfpLp0tg5fZpllinXXXbd4xzveEeV+6jj48UyBQEkIBAmVBOS4XYbGc9lllxVnnnlm8dBDDxX2Anrb296W6s499thjhd1TlQDabrvtiqWWWioqLozbBInnDQQ6RCDMcR0CFae9EIEbbrihOP3001MY90c+8pG08Z3ip9qvfvWrwueXXHJJccIJJ6TACIEOvUbqBfaBQCBQXwSChOo7tn17sqeffrr4xje+UTz++OPFyiuvXGyxxRbF3HPP/YLq27Qgu7R+85vfTKY6nysLFC0QCAQCgUYEgoRiPkyIQN7QDpk4mOD8nDFjRqrCPeeccyYtqNWW3HZP3WijjYr77ruvuP3229PW4EsssUSqvmC/ony85CUviX2KJhyB+CAQqD8CQUL1H+MJn/Cvf/1rIhYb2ols++Mf/zjzZ/7d/+3CKnk1H/fee2/y+yy33HKT1qCT6Kow6vXXX1+cddZZiZDUreM/UpXbTwVVHUx2jT/97pyc49RttN6EDx0fBAKBQKUQCBKq1HD0pzM0mj//+c+JTDLZIBmkokgps5otG/yuZlz++etf/zqdnxutxeF6SAGJTJYImyt0P/vss8W1116byEhEnSM337d9BH/Sv//7v6efb3rTm1LNOpvv5WTbTFb5pw32gpj6M1/iqoHAIBEIEhok2gO4F4Kg4TCbIR4/EY4AAtsyqAn3ox/9KB2PPPJIIiIBA5lgGn/a7sF24D5HKK9+9avT9t+0J9dRYVsQAu2mVRMhx39Eo0EoSMv/kJJQbv2UX+R6jz76aPHDH/5wJkkhKs/iO0x7dn11MOvxNyEshJTNekgpNt1rNQrxv0Cg2ggECVV7fDrqXSYei7rF/Te/+U3x3e9+t7j77rvTTz4cmo6FHaHQIBx+t4jTPoRXIwoHE5rDVuA+e81rXpMIKDf5QDvttFO67ne+851i9tlnn4UA9EWEXDbb7bzzzml3Vg3xID+b5tG67FvUeDzxxBOFw2eI9IEHHii+//3vJ1JyXWQjyGHRRRct3v3udxeLLbZY+v11r3tdeqZ8uFdoSx1NoTgpEBgaApEnNDToy7sxExo/zU033VTYpvv+++9P2o/F3oF8LMbMXDSJxkNQgcU7Bwg0LuLNhJV77Jpf/OIXi1NOOSVtkLfHHnukXKDGJnBht912S9rW3nvvXXziE5+YuSVEzo9GKI0E6u98IFPmQNoR0pOLRPuizfm/7yEjh74z60mS1Q8HUkKcniFaIBAIVBeBIKHqjk3Lnll8HTSDm2++OZGOhZlZLPt8mOCYwBZYYIF0WJyRBe2BeasxOi2bsbrVGPiRjjjiiOKiiy5KmtIHPvCBYpFFFkmLvgAEPiB92nrrrYvNNtussK14N/fwjMiu0azodz4q25HTjlRrQLhIionPc+VgB8RqM74PfvCD6RAi7lmjBQKBQLUQCBKq1ni07I0F2eKLbIQ7O2gYNCA+F6YtmgCfCfPUQgstlIgn+3D4cfhtLNJlaQa0K36lK664orj00kvT7/xGiIYWpi/K9qy00krJXFcWAdCU+JA8M+JxMOshJuZH5kEEpQ8ICRm94Q1vSOZGZjtaErNghIa3nGrxz0Bg4AgECQ0c8s5viHgs7kiHecvvAgwcfCW0C4RD4lejTSRZjjATcZZ9P53fsbszaSr8NjQR5sCrrroq+aO23HLLFExA+xLYYMHvZ8s+JoESfF/w0Sdakn75m9kONggRVrapoL3JdZoswq+f/Y5rBwKBwPN+2+el7ChgWqGZQNK3mFpASfUWURoQzQfxWDQRDzMbE5MFlZSPdMrSNrqFwxQS3TZ9+vSkkXzlK19JWkg35rdu7znZ+fxJOfRcvx5++OGEIUzhqF+wE2UHR2ZEOU3Mlf0mzMn6HZ8FAuOIQJBQBUbdIp6jwPhT+Druueee9FNIMw1n3nnnnRlQgIT8zcxWlbBk5CMh1aJ/9NFHJ9NfFRpSh6EAB9gy1QlyQEo0JBgiImZMwQzIiCkRiUYLBAKB/iPQXztJ//s/0nfgV7FAMrNZFCVz3njjjcVTTz2VfDjCpT/0oQ8lH4aSNxZJuTHROkeAD0zgxOKLL55wZOJE8LfddlsKX6cZibpj7qQJ8RktueSSM0k/50l1fsc4MxAIBLpBIDShbtAq6VzmIgEFFkDmtquvvrr41re+lUKp5eXI0SGRqzzNb8HcVvVWVU1oMtyY7O66665E/kyfxkNEnwALpLXGGmukn3xvgjz8P1ogEAiUi0BoQuXiOenVkIw6bRI4LXznnntuWvz4cixynPkf+9jHitVWWy35fobl45n0IWr0obypj370o8WHP/zhZKJTGVxwBR+SYBBh5rSnTTbZJAkEghqEvgcZ1WgSxKMMHYHQhAYwBPwSclwEHNhjx0ZwNCD+HKVxmNnk0qyyyirJDFdWGPUAHm3mLUZRE2qFj0RYJtFTTz01VXwQDp53i918883TGOWQ81Ecp1bPHP8LBIaJQJDQANBn9lFd4Iwzzkj+H4ua/JUVV1wxhTPz9+Tsf90ZVlTZVKCoCwkJEiE08B2Jpjv88MOTuVRekjESDm+LCjlQfHbRAoFAYGoIBAlNDb8Jv20hs3CpKHD88ccnE48gBI5u5GMRe9/73peis+yxM+qtLiSUxyFHLBoz1Sm+9rWvFZdffnlKEGaSE524zjrrJA1W4EO0QCAQ6A2B8An1htuk32LSsZsos5uwYNFuFir101ZdddUkTfNHDDOXZtIHiA+TNpqLuzKR8tfxHTGn2i1WZJ1xVa+PZsRMR5gYRS02hjsQGCYCQUIloi/oQKDBBRdcUNxyyy0pN0VbffXV0w6kysbwJwT5lAj6AC6looIIRSZUSa7CuGlFBA1RjQJNBDFsvPHGKZE4cowGMChxi9ogECRUwlAyvSEcvgOLEymZT0ECpGg3BTQlRDLjhKRcAuBDukQuCiufiDmOLy9v1oeIJOquvPLKSSsS1h1RdEMaqLjtSCEQJDTF4WJ6k/iIgEjG9sERXr388ssXSy+9dLHMMsskyTgiqaYIdIW+Lpxe7Tllf3L1CuOPkPLmfIjove99byqeGi0QCAQmRiBIaGJsJvyE09qhysE111xTXHjhhSnkmu9ghRVWSJIw349yO9HqiUCuxLDccsul2nP2ZVJRXPKrKEh5R7TgZZddNn0WWlE950E81dQRCBLqEsMc9SZ8V+CB6DfbBigkKuptrbXWSr6fqtR06/Lx4vQuETDOqlxss802KbFV/Tz5RXfeeefMzfjWX3/9pDHJCYsWCAQCL0QgSKiLGSG/R4juHXfcUXzhC19IobtCrNV3E/lG6m3cBruLS8epNUCA+Y2J7rLLLivOPvvsRESnnXZa0pJ33HHHFNCAsGhR4RuswYDHI5SCwD/t/3wr5Uo1vkjOGWHvp/3svvvuKTxXzo8s+j333DMVvRznfWnk09AO7SfEHDmuWyIotWRDQYQEAwErCqSKohOsYo8lRWiDiGq8YMSjdYXAi7s6ewxPRkA0INtob7fddsW+++6bzG/zzDNPMr189rOfTTb/kGzHcHJM8shCuffaa6/iyCOPTD4jBWv9zjRniw5bd5hb0QKBcUcgSKjNDLB4KLmz8847FzfffHNKOmX/Z3JR4XqctZ820I39x+aG7c1POumkYqeddkp+QluQb7jhhimXzNyKFgiMOwLhE5pkBohwsluoBUPxUZudse1LPLVVdJhUJgEvPkrzQxUFOUWEGBrRAQcckJJb99lnn1RNQ4VuOWTRAoFxRSBIaIKRt9UCApL78fvf/z7l+yg2yvcTuR8TgBb/ngUBZlp+IsVObRuh6oKiqDbR418U6LLpppumoIWIqJwFvvjHGCAQJNQwyLmCMlMbAlJ6hySrUCUTCmezrPloo4mAskqqWTCJIQbVDZRRGsRW5AhGIIs8MsnL9pKyf5FDMIfN9AR0xM65ozm3ote9IxAk9H/Y5fL9F198cfIBkVQlm9pdU8VreR6RcNj7RBv2N1U0Rz7HHHNMIiJjaVsN/j1m1kFoIbQiQo1KGgiJRi3RWaUN0YX6KME1qnIPe7bE/QeJQJDQ82jb8ZRZhAZ03HHHpWx3dvq11147JZ9apKLsziCnZfn3+tnPfpbq+l155ZUpulGzPYO6fmrBDVLDNZf4h+SYOc4555wk9Dz77LNpE70111wzEVREXJY/D+KK1UNg7EkIAT355JMFDeiwww4rbEBngSAhM4/YciHa6CPAFEfzyQTkieTt0ECESw+j2R5CYAIiktQqdPtLX/pS6g8ByNwbhIY2jGePewYCGYGxDtGW/2MztvPPP784+OCDi1/+8pep8rXcHxpQEFB9XhQBAQsvvHDy/9AwmONUus5ba+QnRVai13ohJnOJRm0r906bKEv+xj322CPNPVGY8sdpaRKiCUnRAoE6IzC2JOTlVvFahNJBBx2U7PFqvp144ompBhzpNFp9EGBysynd61//+kQ+tF1aiAoGjYEJSuzQRggk3bbTTz89CTTIo5tEVHON1n3ggQcWiy++eNLQ9t5770REP/nJT4KIuh2IOH+kEBhLc5wgBCY4hHPssceml9xW2yeffHJaoML/M1JzuKPO8rXQUiSQikgzzrSh5rGWQKr8kPNzo9kowcM0RnvWfPcvf/lL+jtvz853SKjJGlY3pjREKPnZfNx+++2LG2+8sfjMZz6T0gNsIU5ja+5rRw8eJwUCFUdgLDWhxx9/PPl/jj/++DQ8NB+EZPfMcAZXfMb22D1jrrq1rRdsuWFxJ4x00hSotY239vnPfz6VbtIUspU3lpskZiHWdtdlmuu2IS1EZi4qhot0Dj300DRP+bOiBQJ1RGDsSMjiwNxy3nnnJcnW1tsqYpNe/R0kVL9pzr+jiChyQBQEEFUwBCV00viJsm+GhpSDG2hCItpyk//j+j/4wQ/SvboxybmGuUfjovXQiCS3+lvZH1p63i6+kz7HOYHAqCAwViQkTPfLX/5ycckllyTHs5wM5VRi07FRma699fORRx4p7rnnnrTnkwrXzHISRDvVhDq9KxKhVSMjviUBDt22TEQi5/bbb7+0OSIyUyxX/lpoRN0iGudXHYGxICGLjW24lUv5+te/nhy/cjGU4VlwwQUjCbXqs3QK/aPB2PeJFpFr/gm/9zuzXNnNfkG2/hbqz1zXrTakP4iIKU7QhMKnqiyYs7R3lTyYFqMFAnVBoPYkhICYXY4++ugUbUQCZuawCZ2QWOVbotUXARGQSEhAAv9NDgCwwOeAgnZP77uCE3JQgvP9zjTXXEUdefAh+T+TnJDrXptridjcaqutiuWXX7545plnEhHZPpw2Fy0QqAMCtY6OQ0BIR0b6V7/61fQ7CfiTn/xkerkHUTOsDpNkVJ+BFjJjxowUCbnEEkukXU0Rx1133ZVK4wgCaCaRVs/KXIvImPOYcR0PP/xwMrn5rLnJSeJf5EvqJd+o8Xp8Qqo6uA6tTkFdpjk7+IqaY/oLP2bzCMTfo4RAbUnIAkQDsqMlPxDJUWTUtttuW7znPe/paPEZpYGMvs6KgKKgiMJCrgq6xqwlKMH2CmoDdkJCq622WnH77bcnX6KSTrQgv8vhUVuwuSEs0XdzzjlnIr6pNuHg6s0hIUERIvVEzLm2vuUE3KneJ74fCAwDgdqSECnUwnHEEUckBzGH9G677ZY0oKhUPIypNvh7qscmGIXfDyFoTFy0B6a4TvNuRFAiK9t7mEs0bGY2YdQqcTc2JEHwcX0aTFlzDdEgUhoRs5xAC+HiKi5IcA0iGvz8ijuWg0AtSYj9nj2eH8hCNNtss6VSKEwyFqBo9UcAGdiSHXnYqycTDlL4+Mc/ngqWdlq0FKGIpHR8+tOfTv4hwk2rRlN64IEHUnDCoosu2uqUnv+n74iPJqaiwoMPPpi2EBfOPd9884V/s2dk44vDRKB2gQmkVOYQzturr746mSxknivZEgQ0zKk22HvzBT366KMp/4smlBvTFj+OMj5lb80hb0jZHnOOdtKP+faqV70qmZWREHK87bbbikMOOWSmhjZYlONugcDUEagdCanbxeYvGEEBUlFwm2++eUiJU58rI3UFpXmQgXJMjeVzaEi27BA+zT9UZkN6rsv0q1hqv5q9iATYEK4EJdggD/nxUUULBEYNgVqREGewF1L0EDOMsFZ5FhzTEUE0alOz9/6qjmBbhLnnnjtpQY1jLzrum9/8ZtrYrnFbh07vxhynynqrduqppyYtCwGV5QtqdR/PIwJv4403LtZff/0kYB111FFpryT5cNECgVFCoDY+IWY4GpA8Ci+iXA3VEFRNjjZeCEhIfstb3pIIqNkkRiARmj2ROQ6B7L777mlTuVaNFjJRI/Qgn0Fsgki7o+mrYycEnQ9UxJzQc3lwneZATfQs8f9AYFAI1EYTUpwSAfEHSULN1RA6jYAaFOBxn/4hICxf1Jq5gEw465vHH0nYK2qiyDVh29OmTZuFvDrptchLpjh+m0E0RETbQ5qIT826s88+O0WFRgsERgWBWpCQoqRMcHfeeWcKxV133XWTJhTJqKMyDcvr5xVXXJHK8dievZXWwpRl/x5k1ExQesG05fNutmHIvXdfZuBevtsLAp7FvYRu830i0Jtvvrm49NJLo9hpL4DGd4aCwEiTEMlXuCw/kExyiwqHrQ3CmCWijQ8CzLEqWjPJKs+jACjTW3PjBxK0QGApOzCh+V6D+luoue3A5Sx55quuuio9Y6dVwgfVz7hPINAKgZEmIQsPyc9GYnbCJBGyh+fExFYPHP+rJwKSOOUFSeQUHj2RT4fQwlynkkLjxnWjjopcuPXWWy9tjMdHdPHFFxe33HJL6ZXCRx2n6H/1EJhVVKxeH1v2SAkTIamSBtXxEpUkUkiCYETCtYSsMv8kPNBIVLZWWsffTGA2FUQerTSYyTrv+6R+Wx0IDpAbNJEplrmNz9C96la8VjK2MkKKtiJZ243PM888yV8ULRCoKgIjSULMcEwvcoGuu+66tOAoSkoK7KQWWFUHYxz6ZeyE0jOHyW3JtdhI8vbiQSLd7nBLuyGIcMhz0rfyBWVs+W123HHHWkLNP8QUzUcqZJtmiIj23HPP9F6EcFbLYR/5hxpJcxwzitIotj5mhrE3kAVMyGq0aiOg5IwoLmWUFJK1vQYfhoRiptWLLrookVSnDakJyReWLaqNRjxZeHL2HXWzvXenfanCefKH+EWVGFK0l7807/Lay95GVXim6EO9ERg5EvIiMTfYovvpp59OBRy322675IiOVn0EVLRQ4FPwQI7oYorjVLeLKJ+OUjSdNqVy+EBUQdh+++3bhlbbzkOyKQ3B/KljW2ihhdK29SIEaUVyiZB/kFAdR3v0n2nkSEgAwjXXXJOkZ+aHffbZJ/kABhUWO/pDPtwn4ANSAdoWBM3moUUWWST5ae67776OO8kvKNBAvsx73/vetvXgLMSI7ne/+12tF2XliuTKafA88cQTaxMN2PHkiBNHAoGRIiHSnAXshBNOSAsYyZnpQXJg84I2EuiPYSct/jRZzvLmMWNO9T/aUieNac1W16LANtxww0Rgzddsvo4KCptuumnyPXVaRbv5GlX/GwY2vaNtSsyl/dlTixmU/yxaIFAlBEYqMMFLlBPxlF3Zddddkx8otKAqTanJ+0KQ4M9T96y5ph/TmiKgEo07aaojqAEnPwypdNIQlRBuc2aiCLpOrlP1czwfot9oo42SeRNZH3fccckUOfvss1e9+9G/MUJgZEiIBC36SUY8H4KqCMwv3YbzjtHYVvJRSem5vllzxJYgE8VFOxUqcqFS+WET5QU1g4AEFTelPfMjThbE0PzdUftbVQgpC5s9vw24QBB+M743WpJ3KFogUAUERoaE7r///uTQtlOmDcNsTBbh2FWYQt31waJv8RdKLKm4sXSOaC6Rbp1UMuBbQiai3FyrnRku91J+En/iO97xjlTmps4klAlf9KjtyPmG1FfM1cVblS3qbjTj7EBg6giMhE9IFJN8ILZ/CwdfkOKU0UYPARqIRdCOt83RWo888khKXEUQ7ZpCtXKDzINukjHdk8Yl2bn5/u3uOYqfMz8i+6222ippQIJ65A/Flg+jOJr17HPlSchCcffdd6cIKFnxTHCywkOKG80JyYdHk2V2QyI0EyYywQjMrcZVNeoibEfAAAAgAElEQVTJGu2HL8hP+WGdmu9ck+azwgorpHuMiybtmZmvPTO8aUW0SD64aIHAsBGovDlOZM/ll1+eEu6UIKEFRU7QsKdN7/eXTGkbBSSk2KgSOqR1QSc0IRFdjdtxt7oTX5Bz7RnE59FNE4yABBFX2dt7d9OPQZ7rWWlB8rJ+9KMfpaRgYzD//PNHgvcgByLu1RKBSmtCtCCmg7vuuiuFlirLw/4fbXQRsCAqy3PwwQcnk5BEyl122SUtjAQMBWgnCzZhRqMVk+J72a6D1qWumsWYWW6cmgRW2pAxYJZjEmX+jBYIDBOBSmtCFgzlWIT0knhFQZGko402AkhGmLDclW6b5FQk8ta3vrWQkNltE2V57LHHps3naAZ1DkxoxoYWKJ9KvT6mTz5Wmmdse9KMVPw9SAQqrQmR1tj+2bFpQUsttdQgsYl7VRABplmhxwiol2RTEWPCkyWtdhpRV0EYeu4SHxptCPnKH7rxxht7vlZ8MRAoA4FKakLMcMwudktl+2fDZ8OerDpyGWDENaqNgLDsm266KfmMLKS9kIjoPAmbeQfVaj9x+b2jDakywrowY8aMtBnk0ksvnXxG0QKBYSBQSU0ICVlsaEFMcrLhRcV1EwU1DDDjnv1F4Oqrr05VDpjSOk1Obe6ROaToLYFmMt9T8/fq8jfiZlFQwRwW3rHQhuoyuqP5HJUjIQTEWXr22WcXyrIsvPDCk+6UOZqwR6+7RUA4ti2rbdVAE+o1so1P6OSTTy4Q2nPPPddtN2pxPgKm/aiyLdKQ2ZvJO1ogMAwEKkdCNB+OU9KZzHk2bAmJ4yi1DmNCVPWenOg2MqQFCc3utYmydC3JrnXa3rsbPORi8ampoQcDZjlHtEBgGAhUjoRIZPJHaEFCeW1ZzHwSrfoI5G27bbchsZhAMdWqBL7vOjZns0+OXLGpJJnyBTHtqtpQ5wKm7WaLyiNMcqpT8LuqKxfJq+1Qi8/7gUClAhMEIyAf2z6TWBVbHPfFoh+D3q9rIovHHnss7ZYq+koUmwi2fIhKEw7ssM221i64wJx48MEHk+aiUsZUtCD3Q2BqqSEg/RvXxh8kUViI9vTp05MP1th1UjJpXDGL5+4PApUiIfb6O+64I0XuiGL68Ic/HFpQf8a9L1elCYlgE/pLo2VOzVFooq/4IpTtsQ2HQ87X61//+kRKfDzNhEQLcp0zzjgjmWRl+GfymsoD6GckaRaJcESe2h7FVg98bjvttNNUoI3vBgJdI1AZErLgqKJMC9JE8Fh05HNEGw0EaBnG7eijj06aBqECKUkwtc20KgV8Dyo5IwHmNSYhEvlss82WSIoGlesCMg/9/Oc/TwnLhx56aM8RcY3oIUZzjKlX8jNhZ1wbAUFwgsoTF110UXHxxRenQqfGrlkgGFeM4rn7j0BlSIgp58knn0wlWZgK1ltvvcjk7v/49/UO2Qxn+3VmH42wwRnOxKZ+HEJQOQF5bbDBBin/h9lOIIq6gfaPQk58g2VoQeaZ3XmZ+XKf+gpCxS/O3I2MCQZMnrDJ9fwq3vXoXk0QqExggirKQkUtUEw2QkjLWHRqMk61egzaziKLLJJ2xrW3Dx8S4tltt92K//zP/0yCCLKiRQlS2WabbUqbC7mKtoV2KgEOdRkQ79i8886btFJa4jnnnDO2UYN1GdNRe47KkBAtSO6GhWGttdZKi1KYBEZtOrXvrzF1MLnxAzH9WAAVMj3++OOTn4LpDSHZQ0p+0GqrrZbMdGXMB/PL9fhCxjkwIY8UTNXhW2mllZL/jVlOZGP4zNrP5TijHAQqQULMLoIRmGj4gNZff/3SFp1yYIqr9BMBvglBCrQTWg9TLP+RsGGRbPw2Ze0fxc9E61bBO0KS/z6q2fLAfGrnYprouCby9nOex7VbI1AJEhKZc+edd6YeSkYkGUdyausBq/N/aTsCBqZNm5bmAYl87bXXTgRUhhYEu2xystAKnIhWJG00++34yhSJJRhGCwQGgcDQSYja/+ijj6bQbGG8yy23XMorKUvyHQSIcY/yEDDupHC+QcEIzHNlEZBe5oi7Z555JjSh/xs2+NJEpURocoZoRII4ogUC/UZg6CRE2rWrJiKSL6JYabTxRYCmYutpiZM2YWuVPzQVdPiEbJwXPqEXoihAwXYpBEEEdP/99ydNNFog0G8Ehk5CFhuhoZptu+UtRBtfBAgjimq+8Y1vTD6ishsSIvEr3ROBCf9Al1/ORoNC5JnCaUPKL0ULBPqNwFBJSBiuBee+++5LiYjML7Ew9HvIq3t95p/vfOc7SRIXrdWPRGVbetuZVb00paGi/QMBPjl7DfERqXohgIOPKFog0E8EhkpC7P5McT/84Q8LBRVtXBdtfBFQN5BWbBHs1y66/E2SYy+88MJUlTvaPxBAQsifaY5G+vDDD0eUXEyQviMwVBJiijPRSaTKtjAFRBtPBASo3HzzzYkY+Cb6tYsuJzwNq6y8ozqNFv+b/ZoczHM2vKMNRQsE+onAUMv22DeIxGWrBr6gfphf+gleXLs8BIRL33rrrSkQQRmZfjVJ0HvvvXciodjSelaUkbRacvL2mC2RkBqOZUYoznrX+M84IzBUTYg/iDakPL+8kGjji8C1115b8Ncsuuiifa2cri4h0y9NK7aLbz3f1NQjEIpSVMkkknpb4xT/LQeBoZEQ27yseE5oZf2DhMoZ0FG8CnOsuoGIwW6f/SSHXEWb6U9JoGgvRIDGo7K5vCE+W++oSubRAoF+ITA0cxwt6IknnkjmF6GhjmjDR4BZTCKnBVq0Wo6OkkRKWJDLlUnCgm6bBiYbErMxtWDRapyX9//JiccED+f6Xm7CgeWkCEqQvyNMv58tb+9tf6IFF1wwJUZHeyECyiQZO/5aY6qiibGPFgj0A4GhkVBeeAQkzDXXXFHRuMvRZbqyqCMNhSdJrZzJilE2Vh/nXHbI+XCeRRixONQM23bbbVOxWEShavVpp51W3H777ck0xgyTC1n6XIKn80nJmuvaikGIPWKh1br+QQcdlMZz++23TyV4EBJC4/M57rjj0rVzc13Epf/8NLmy9dNPP53Ot5UDovJsfjqHqWjhhRdOuT45gMH1LZoCG5wr1N+1kIzz81berqEKA5NclIaaddLRhAgZtKFbbrml4LdFQoJFogUC/UBgaCRkctvEjjRqT5NoRSIUxOKgiWSiyFqiv2Fm6wOkkgnIwm9ht0vpqquuWqyyyioz4WR2cj4NBKFYZBwWYCX8t9xyy5nn+r/Cns7Ni5HzctWC5s3O/G2RR2LO0W/fQzqIAAlkrSlfz9/6IUcMydGAHAgOKebmefgLVVbPPoncf31STWGO5/cpQkKuBYtDDjkk1TzL1bkzqSFNhAWXnKzqOxzvSDBvQ468PYtzxr1sFN8cbKVP0HaRPFyjBQJlIzAUEiKRi4pj9qEJWUzq3CyeNAXEkiX5LIVbuBVvJcVbQJVKIc37P9JZeumli0022SR9z3VoCGeffXbSWiwK/o8MHK5Jo2hsNCP5V/6fz8uLtICQxohEC7DFXaWCTFSZhCzKNNZGLYtJi+kGMdJmbFKHUHbZZZe0kCO5bO5yHQvb7rvvnp4NCXg+mhHNROXsxmoZvsc/pKq2BRAp+Ylw/eRDbOx73iwPfp7V+c71e65FiIQ8hz6L/qL1IS/X8ewOEXPmJMwUU83N2Bg/z+F6dScqY4e8bXKHhMy7RiGhzu9rPNtgERgKCZnUFi2LKluzxbAuzTNZZPm7srnMQoc0vMgIl9SfFziLG03l0ksvTVqDxc2BMCyOiDr7ZXxO27G9Ae3A50jBT4dFwuLR2JCKLHjfbefwR04WfkcnzWKc80ps3y3xGBkw3WTzV+N19N2h5UKiMNpss81SkqSqGbm59vve9750tGsIEw77779/wh3emfQROuLJgS9Iic9Kf2l9xiSTlc/8Puecc6YIvUYSsrcR4oKRZ6AluKdDiSHn1kl78ozImJbI3wevIKF2MzE+7wWBoZCQrHiLL0mLbb5Ruu7lIQb1nWxCosk5LHQIwiKUpW0LGR/JiSeemGzpNAMLnWZh5iPJi5b/0WQ4gS3KXnyfWYyZtPJCmLUJJOJ/8lw6bRZGprGqNZqK/YJgQvPKfqZe+4kc5plnnnRM1ozPDc9v4wBzOBo/c9EYERSYORG6ednYrr/++qTpITV9h6sxommq7rDnnnumsdRoTNkHR6CwkDt8bgyRZtWbPjKTm5OERnOZSTNaIFA2AkMhIZvXefFpBaMQdWPRyf4a5h5hq2zl2RFuS2rmG4u9BYjEbNGyUCFYmgW/jmelJXCq54ZwPvWpT5U9rpW+Hm3RYn766acXG2ywQVrwB6VFICtmRJoLfyTTXCdt6623TuOo5hzNgMZlcWZW9jx2gs3NvJg+fXrKsxHtZzF3MDu6n4UdIQ3qmTt5vlbn0HIbSYgQNgoE2upZ4n/VRWDgJGQiIyGLuQW5WeIcBlT65MgO8+xEzy+cMFUL5gUXXJAWnuwgt4iQcFdeeeUkHSMhpLLhhhsmjceC4/nixX3hqNIg77rrrrSQM8NlE90gxp5Q0Avp81c1V3jnm0Km/ESN/imCCKISZSgwJM8r84XgddRRRxUSQvUlzzuasHnicF6eM8OcO0jIfJ4xY0Yyx+lj9mUOYqziHuOBwFBIiDRJs2BzZl4admNa0ydOWAep9WMf+9jMvjHTICKmHP4cfhdHNv8gmsbq39lXMswFZNiYTnZ/vpgzzzyz2HjjjZMZbtA4McG5Zzsf2WTP4DMLMpNcc/9pTCeffHIKWacxmzuiQf1s3iyO8HLJJZcUF198cfKNCt5wmIPDXvD5xvi+4GXMmBirIDS2G5f4fLQQGDgJkRCZ4khVJvQgpeDGoeG34Wz+9re/nRzqXjIk47ClBDt/JkiLyjHHHPOCCLMcaUb7abbzl7HAjdY06ry3tAR4k67322+/5EtrXsQ7v1r3Z5p7Bx98cAqoEOAxlUKp+t2q78hDpB3tiKBF6xHwkHO0+P2y0GKBFxJ/4403Jj9jDisXpcdsKLBELbfGoI3un7q3b/Bn6SuNTYCMdzdIqDcs41sTIzBwEuJP8bKRIBGQid7PxhTi5UcaedFAgJzMwoNFZ3nJhB/TbkigHOUczrnl6LN+9nNcrm3Bhb2FlWlq0Lkn5oNgEXMv5x/1A3tzDRk1m+qa74V01lhjjUSK3g0ETWPiV7rqqqvS92ncmYS8O0zZBJ9+ExOzYBYUBW4goQhOaB7B+HuqCAychJgnaBu5BEw/nLOkXfeRjMgMYtFZbbXV0o6aJFQLhNDfnFDpRSMRMw35SQodtilkqgNbxe8bd4vr3XffXey7774zBYNB9pUG8vGPfzyRUKMfZ5B9aLwXMhG0Yg5a4C32OXSc6S5/lr9Dg/zqV7+azNmCK2hLiyyySCIqz1b2+8RE6L3ImtCwcIr71heBgZNQ3j+IplFmKX0SrlJAzGsCH9xHxj1/jvussMIKM0fRi6osyUILLZQk8UZ/Tn2HevhPRpK2iFrY4F/2gtnJE+YweYv/oLWwifpHKMpBLY3aDdImDDX6rvxtrou8U1aHuYzvhibPbMz0V2bEadaEBCYYv2iBQNkIDJyEBABkTahMEhJxJe9E4icTm5eTec0LKjRWCHWj6S8nhZYNaFyvNQIiyQgHBAVBH8PKDdMPeWoiF2kSrZJqWz/B4P+b844a78xcvNVWW6XIUuY7gpZ3ivDlb37MMknI9WhCogBpZkyYUw3oGDyScccqIzBwEhKWy0djcne7EAlnRTb8CjQcPgVk46XwcpBs5X5YXOTiMFOQEKuYrFnlSdGPvqmQgYS0fm5a167vfCoi0XIiZpVJqNWz8KUiIMEzIusQD+1SVCeNPic2+y6zHtJHvN4V1gfvQjcaqPfLPQmOubo6k3a0QKAsBAZKQl4adcZEBDE7NL4wkz2Ql4ifh2+H41Z1ZT6fLbbYIvl5kBDJVtIo0wZbf1VMLZM917h8xnxkkbRgijocZvkXgkyuP+f3UW3mOQJV+cHBz9XcVDk4/PDDk7a07LLLpmAQybM0pVx0tvk7zX/nmnreMQKgMO0goWaU4u+pIDBQEjKBTWStU8ewSCAvk6Q/5jbbB2ikunytDACJLVr1EDCGgkSM14orrjjUDjLDMgeaK3X3BSILGh8NVF7WqaeemrQoQTqEAdpROwwIc65DYKRF0miZt6MFAmUhMFASYoqjBZHg+INa2bybH0winxwdjljniwYS0ip/gqktWrURoG2IhuPUFggy7DEz9yQcM0l1Y5aqNsqtewdrezupRK7ax3nnnVfcdtttaRdb79BOO+2UzHrtmncVaRMiWDKiBQJlIjBwEmKaYY7pND9IDTYOUdLrpptuml4a5ra6LyBlDvIwr8VXx3xq3JdffvlhdiXdmylOySCLKi2hE0Fo6J2eQgdoMoJzlCqyyaCk2DPOOKOrgrFM3ZmEYqvvKQxGfLUlAgMlIQEFFiX+IC9/c7a5hYr/p9FZfMABB6Rqx4IYvAw+CwJqOZaV/KeoLeG9IhX5LobdSPPnnHNO6ovw47qTUE7Q9s4I7xYUIjyejyfnSXknBR0w2wnzFrzQ+G4yxyGhXLpn2GMY968XAgMlIRFtiMaEbiQapVxIpzYZs0icdNJJM7dGyOGmXqJm0qrXUNTvaZjimH74HXJy8LCf0jySkJy33hh2fwZ5f+9Pq9QE5MLsrbAqczetSXRptlYgK3gJLOLfixYIlInAQElINjgSotHk6DVS8uWXX57ye+Q7kMQaI9siJ6HM4R7stUjWKlYstthiaVO5KggRFlSFU5vDmQeLTLXuBhP+I2ZypYKY3GBkM8RsOocXEpIvFC0QKBOBoZBQDg+VNHj++eenvA3akIKSHKa0pCosWGUCPY7XsqCRoBFQmYnJU8GSUMNHYn5Faaa/I0njyVuvEwi9k8cee2zyxa6zzjrJZBkkNJVZF9+dDIGBkhC7MxMNEpIzouwIM4AJLudH8EHz9tSTdT4+qy4C9l0SiaVShX14quLHE2ZsoZUsrVBtp7lq1UV66j0zNoQEuUTCr2Fz9tlnp4NAqKYdbSnvnzT1O8YVAoF/IDA0EmKqsemXIAWqv5DrYW3rEBOifASuvfbapG2oYDHM5NTmJ5P5L9+Mdsb/EST0D4SYwZHQDjvskARFZC1JHPkQFP1UOJVJvSpCRfP4xt+jh8BASYhT0wT24otMWm655ZKULIExFoPRmzytekzTVbuPiVU4vTDoKvn1mODMOaWdoqrGrCNIcBCJuuWWWyackBHhkFbr3RXizjfUr6hCeYTmkDkTRDfr+NTxPwMlIZFvJpgJrKq1ulTR6oWAcF9h2ZJTBZmomF2lZoEl6VvgGiM0q9THKvQFNrnGH6EiE7bxpU32i4QQnGAlZMhEmNMywkdchVnRnz4MlISo80jIhA4ppz8DOsyrGlsLlK2tabnKwlRR2whzUnezxLuatdmcy9fdFTo/G/nZL0mNSD47Cc55rySfVXE+df50cWYrBF7c6p/9+p8FKqva/bpHXHd4CFigSM12ThXem7dHH16PZr2zEOMjjjiiuOiiiyLnZVZ4Wv7HeyugQ/P+0lb61ZDdqquumhJjP/e5zxUrr7xy8dGPfjTlMNlx1v0bj371I647OAQGqgnliaxyQv59cI8ad+o3AhYnxWZXWWWVFAZdxS00mJNEZgpL5n+I1h6BvOg70+8sGv1sovFmm222ZJKzTtiq4oEHHkg1JPmpkJQirM6p4hzrJzZ1vPZASShPXo7OsMfXazpZ3GlBckv233//lIMjkqpqDfEwFYrKzH2uWh+r1h/aSa6eAD+pFja661ejUatqwX9Hc7VuOOQSitaTX6iqiiRofisVwW2DHqa6fo1If687UBIyuTQOx5Bg+juwg7y6cRX5KOzeInHIIYekZMcq+v30VR8tWFEIt/NZogK+9tjzexMphJrrznV+he7O5BNq3qqFFkYzcthbTC7anXfemSIxpXgwAUeaR3c4V+HsgZIQ9Tqr85mQqgBC9KF3BIyjDQa//vWvJ1+BjQXt+URCJS3Thiz4nVZN770nnX2TRG2BI2VLEwjpuTPcVLNXgokAaSPJfke2qtpg/7GJTKaEWHuK0YYczHRVmWOdIRpnZQQGSkLUepOK34BqTeWONroIICALEwJCRJKO5QZxIKuUIPfr3HPPTRKrgphs/cNeKGhsJ5xwQorck59WlXJCVZ4FxllwgvqOBIv1118/7dDar0aYueOOO1JeUmNDPMYN4UiClmzs4H+UzxRh3P0akf5ed6AkZBIhIfveM4mQZKKNJgI0WmSDgBCRvC+LE5LJpZeMNZOcQBSHRYLwgZSMvSz8YSwc/FbIxzNU0WRYtRnBd5YJwXjx5/YTN6Y/5jbE5160LqQnVJswo84dEgpzatVmSm/9GSgJSXDLNt2J1OzeHiO+NUgELN40H7t1IiI1xzIBNfZDcMJ6662XtnHwuwVFZNqFF16YJFrFapHWIIkoJ2Fa2PqVcDnIsRjEvZBQfl+RTz8LvyI7NSWZTe17RMtRYknis7/7FRDB9Ecw6dY8q+I4bPKWM4MYj27uIVjI+9VtRRrrNP8fgbLf7+fAScgDseH2azJ1M0BxbvcIICDm1DPPPDMRkHDsddddd0Izm5da6R7Ny+qQA6JuIO3J5yRfP82JfpOS6+uzeVilckLdj0T/v5E3u6OR5NwguPUzqCjPj2nTpiXikbDab/8TJPm8+DFFTXbTbF0vgm+ttdbqKy7d9KnxXKHt5jkC76Z5R+3Au88++/T9nRwoCZFCTWKLjd8b8w/6qd53A36c2xoBY6WRGI8//viUt7HBBhukqKRO/TwkaDuaip5jlmPHV4vM9VzDtUi9Xpp+mcpI2I8++mgyBSqs2s8FtTWSo/FfGonSS1dccUXCyF5gmve0n5gZ9x133DFpW4NcEyQvM/U1kpC5goBhYd3y07PToHPfzF/mXVj100/Wbtbom3fKOCmVlTW673znO6nPrUjId5zvc+9Do4brMy4Tpnamz36O+UArJrDhGkyhlyQeA+xBgZdtzu3Ajs8Hj0AWFozXF77whRQWu/nmm880p3XbI5NdTTBzwcv8oQ99KPmMbGpI+jY/5KJYBBoFlW7v0+p85onPf/7zaYvv2CV0VoQy3hangw46qNhvv/1SCDTTjEZA6KcZk3BqwRskAc2KQpHWI88sSu+UU05JQRlyk+wUbN5koQxxmcs33XRTq8sM7H+iUI2TgKAcTt/q5vrt2bxb3jGajh2tvX+Nze7XQt5t52F97mcbqCYkGs7CkxPQzjrrrKTysTvuuuuuxTvf+c5+PmtcewoIsBHvscceSQPae++9iyWXXLKUhGMSmyi1pZdeOklvSMgLf+SRR6b9pfbcc88kpUUbHAKkeu+jBdc7yUylqCjhgSDZT5/Q4J5y8jsxOdvKwkK91157pXXL3OTj9DtzIfKZ43nfJm2DWW6YzTvCvM2SMJl/Cvnwy5533nmprBYzZKutVviQaE8HHnhgX8s0wWygmhB2JeEgITZme5fI1+Dg3mWXXYpvfOMbMyWMYQ5o3PsfCJCcOF8/85nPJAIiOQk0KMt344VGPhY32vHVV1+dNjr0EijLkqXuG264IZkCLQRTaRYOmtCmm24a4dlNQNJ0Ec9GG22UxoHvlhCgIoHPaCjjEgqNVBCRlANzkIbmJ4HpW9/6ViJljWaoWoO5eu+99/Y8Nc1v1xU52kvTD4m6zN2Tmc68a8yG22yzTdo11/uQtbrG+3ovveOqi3zve99L1VD61QauCWUSsuBwOsq+NrGvu+664oADDkjbANjLRCJhOI77NeydXZfazkTGZ6MaAg1Irg+CMEnLaoiFNCncWyIpE4eESJFRGmmUxsx0S0JHgr3ODd/LqQFlPkNZWAzrOjRdCy98maFELm6yySZJGjYHmEgtYN7VqjTaMusKLTqPKR8NYUnBU9W4e9XaaAvCxBvTSMwXmiEt4le/+tVMGATe+BuBm7u9NOY0gjlNpZemb508q/Ny2Lv7TPYdpCvqlUkuKwy99K3ddwZKQo2aELCxMLOO/2Nni9D06dPTgvfFL34xSRiTgdTu4eLz3hFAQPfdd196kR9++OFiq622SmPV6JTt/ep/t7mTri18pEAh3+aDismkT5Pe2OsHiezjH/94WgyZDggwd911V/GLX/wiSeuk0E6bxZSz3XV8t9/lZzrt17DPIxyySlh0LTwkfomg8EFQmYScU5Umau7GG29MRMQE5RkECVx11VVdhyQ3PhNLjegwwlEz6boXf1necRYxC+12Xk7CH+ScIqB5L1gJvA+ChXJQwlTHyfuHYPmYPK/3rh/r8UBJyACaKBx7OeTTpM5hmCRf0gRV1wRopSZOFdj4fnsELPxUcBIQgkACN998c5ro2fRAU0Ua3Ux4pOMaotMQm0KUFjfaCUIgdTMnNFbSMF/cXy6Sz5Ggl4GJkD3biydIwnn67edkGg5J2TNZYN1rkAtGe+QHc4Z3y4LJxGIhz+WLCIK777578tGKYM1ja4wc2Rw3mF62vwsNyLw0V2kgzFE0aVr1brvt1nNwA1w4483L5kUXBvBzjjUMRtkUhsCZ5D7wgQ+073wJZxDkvU9MeLQbArx7l7VrcNaa+JnMF0TfbQh7J485UBIifXowUobFIDcDiYBIYAsttFBynHk5ssmFdGPRyX4CgEfrDwKZgISsclBzxBof0hDS8JL7GxkYD0RECvS7/zWSErLIUjTpMkuQOe/E5xY8QoiJ7lqTEUijVCp73sLonhYF84MmjVgQGuGm1bUsKuYap2zzAtMfRKtz1Ryefs8996Q8LYto3q8HecPXwt7cmIqMH6xZLarSkKexttUD4jH2frdYmlOtxr+TvpuX7XyPsGw8xz1Vcrj22msHRkLGxPuFdIyl99P7W3YTJSfyjnVi5EnIQBKD62gAACAASURBVCEW0quFiKbTOFFIpXwOjsbGZMNpZ4Ez6SxAgI+E13KnmwnMnq6iAb+AfVsk4Vms2bwlp1L9aTJIKWsxNJVMQI1OUS8zYcPhZfHSMl1Q8S0YBA6TulsycI9cNwwCFgQLJQ1Hv1wfKfqf+dYYXaevou78bxyi7mAOB+ZO2qfwev5X1ohFFlkkaZXtmnOZfYzxIBJH2/Wn8XOkyWx86623JkGEkLTZZptN6pxvd31zBinDrhkfi733xJx1Tm4EKKTYLjiBAK6PzddFIN4T128MsbY+Eqjk6mShPN9TPwgF1k1BXdZXpulurBPtsPC5d5X/zRzoRxuoJsSUA0gSsRfDIHeyAGF8A6fmnEg6mdSiNkg7yIj5ppPr9APAulzThKaBMsFRvUk/nNMWHo3m4JDTo3mJLE4ECpqql8uYNjpWjUnWlhCH3/N4+W6uEcaMMpUyOlmTltNCytdnQo4FF/khO3PPC23hyFuJNL/UdRnLxucgKDBZMdVYqGFlsZQY7GiVxNiMQyYhi1yrcN7m8wf5NxOiRZIfiJA011xzFe9///un1AXzlIBiLjfnyFiLNOc0C1zmXDtNxHtiPMzLxqbv2VzduB2FOSr5lNDVPF+zVoLACGAql/RjHdRXWPTLPTJQEjKJvQQWMETk4TpxdFoMTTZx+/wAXiZbSLveTjvtlMCPasi9vXd5YklWEwVHA2IWtXPlZGZPk50m6vCCTNaQFF8fkkNiSOGyyy4rrrzyyvQ1mu3aa6+dTHO9SnG+R1p0aO5proi2XHPNNVPEpXmX/09itFhZTOrQLH4WMYtFDif2XBzKl156acKBGXKllVZKYwvzTvxhrouEXMcCX7Ut2wkWLCcWdmOLWKe6EFtLCLY0x+bQZDjQerIgk+cOcqKJwXWyJrpOvl1zo8nQggjWczyfe9Rpy5oT4Ys/zxxo1tI6vdZE51EAEGFzkMZE53f7/4GSkIFDOgaLQ42U0QkJMaFYMITm+h7Wl8lskSEBsWtnEjIoDhKvwSh7QLoFuMrnIyCHF0glBGa27bbbLkVGTUZA3TyTRYz2ylauZhvHKfu9BECJcDK8BRaQ8phRaCxlNIvl/vvvnzLB9QEBeZlOP/309NN9ObNHlYTy2HmubI7kD6FdInnWAgs0DdPixKwKe8TTaEZqhzUTERIiMOZSR+2+M+jPja/339wpKygAEcDSWpUbzFkJzJtmVwD/KSIQxTnIJijB/l3mOyHBmmhudyJgdNpPeXuEx5wy0en3Oj1voCSkU7QX0W/IhPmm20YF9UIJ5aVNISiSSW6c05xoJglyMikbo626vV/dz7e4SBSmpey7774pDHuyZLdu8eBLQjrGyVggPHZzggINhXRFA2LX57coi4T0kwCS8zxIiBZTz+mlpe2V+Zzd4jLV8y2InocGQKOkaSJcJm6kw9+TS+BwKLMkdEM+uX/MR9kEZWFrXnyn+hxlfB/56hsfZi/P2KoPSByxSAVgms6NBWbnnXdOTvrGln09TIODbDQz84BvzJxgmtP3MknI3k6sUbXQhAyORcYigMGB103LQQykZnZ/7O9/jcENFlV5RhzotCUEZWLQpJgiqMvj4JBuhyvpkZTHjwKrz33uczNDoBvxbHeddp+7h3EmqZrEJGvCg5cEMWUfDS2s2/nQ7t6Nc8N84f+w7TgNnIZQ5ovari9lfm5xlLx78sknJ3MRvw+LwvLLL5/mOH9pJtjm96PbfvD5GS/X7yWIpNv7dXO+Ocw0b5FkEp5KRFzzfWlCNHfXPvHEExOh89uoJtGcX4b8YSS/rSwSbO7PRH8zk+mPaMe8zflk2j0hhWDIImCdJPiZQ0hUeSbrZM67IyjyqxJMvb9lrguNzzNwTUjkkgH1ImHxXhtAmh11rmXikPpI2yaQn8x3bOIAVbLFzozj3Ly8iOfoo49OmgGzVX6xyp5oFsgcjk9S8xL4mw/HC5vHkfBg0veruRci4ljXj6kuzv3qZ+N1EYAqxkxuhCdWBA2GTHBI3cJn4RDiTiijqUwUnt5Lny2wFi1RWBansudHL33K31F6Ro6QOm7qpuUgmqlcM3/X/LRWmS+wNn+YueAA90ay4TviS6XZD7qx8hA++MUI1+2CtPTbM/CjezclobMYmDNZUMzP4D1VHULljMZgibKfcSgkRAJmb+1HyB8JF5hMPFRUL7LyG0KPaWGNeQ40MvZOn7OnIi8/2T5JE61IruwBGPT1LGAWNpVzmUWZbsqsBdf8PHAkdNA+aDo0UyTYuJgRRrz0ZfmhmvvQ+HdVyceCYDxEgBIMLGw56tD7wgSUSYhGYhExvy06FkrzeqoO+Va4eTcaSajVOcP6n+oATPpMY6IuyyZIpNaO2CzUXAu0iW4qdzRjxlqDILrNw/HemAOduhxgREuG12TNOsEMy0Jh3vXz3RwKCRlYDj4qLOm3bNu86yEjB6nXPbxMXuZGEiJ9e9mV/mj8ju8hJHZQEuigVezJJsdUPrP4kxxJNzRREo5KBCZy2S9w7qcJDENOW1opyb2xMQcIFCA0dBMVNBUchvVdc9EYZHOkFzsLOmz5xx13XLLpW9TMTVoNwam5MjKJF16OfresCVkkp7LI9qOfSHjYLZuRzfFeIzs9A2zNhaoIvsid5YgJu9tglm7HZOAkZKEhHZMg+AuwbT9VPYurl73VAodoSFPMc142ROWwUFswmaio5EiIJI+w/J+mpc+kFofn6YcU2u1gTna+xY/zP1dCEMrKdFm2ANDcB1gJEDHezKLs6hzJtCKLLjKUt8KpbDzq1EjH5riDNkErRzB+l11PAMjaDYKyAAmk4Fhm6/eZg6Q/jPwcwhttjKaazXF1Gp8ynoXQYC7zw02l9fs97LZvnkkQxrbbbpuE9362gZOQRckLRRuy8Hsp+0lCk4Fn8RP5YpH0orHr5sMLaCHIGoIFhfOPH4VJyWd5oUBE8lNIpjmCJPs/3N/i0i9NY7Lny59lDUglBGZQFapVDeinit3YLz4L403jROQED34OBIS8batg4W2McuzkuYZ5jvH1DISTXEeMNGsxMdYkSU5zkWue01y3oIvSy4mOzKC5yR/ZYYcdkv+BwMS8Msw5o1/I0qFP+lO1HKEyx79XawAtgbbazrxVZl+7uVav2pX30ngT0PutnQ2chLxY/C4CBdjAvZjtkh27Ab2XcwGOCB0TZZCbpMx0FgvmFI59moUFyDMxbW2xxRaJhCxQFtpbbrklLVScfkwoJAqLcXYCDiJKDwHRPuwkajFEuoMkIOOB7Cy4DmMu2ojGKTepahLgZPMnJyTm6hCNmg4y4uS1IJkr/maCFDqdxzxXbrBgcaYTgnIjnDmq1PimPKv5SnDsV4huFZ6ZEDRZVNlEfRQ55h2ramNd6IVECNZbb731QFwRAychg4VdvXC0DhLiKDT2eT4iZiN9RkJeUoe/Sa+NTkz/+9SnPpVIloTvJSZZ+Ml+LPnLxNdMYosWrZDpzyKGGB1+t1BbyLuRjBGhxvdmOwYh8ZzZSGhQGtBE49rNc0x0jTL+DyMaS47MIzDQgEn+HLPmKHNYo9/m3HPPTcIFExsS8hk8jb0kX2OcncU0bIRjzC0GrmVMq/L87TAkvJiTNH7kWhffaKvnpoX20jpJtu/lumV9R9RgL80cHpTmOxQS4uT0gotYszh64Xth617Ancp3LB4WHNFzjonswM5DWrQjyW6ZbP1EOCRK0VCZhCx8TH3HHHNMWsAsWlkzI5G4lyztRtusBdCi6V4OC0T+6RrwJMUecsghSQMipZuQwyYg/WTC6DSap3m8EEc+fJaf2+/ZRMb/ZE75G975QAAEgjzX4HfTTTfNzFvLkZTZbKaUkH2tcj4RwYN2g4CMD58hkjE+NGRmx3yuMZAw6hjFBjtBI0iIBldVc9NUsCVsMDdG6x4Ba1FZmvtQSIgmxNFJ+kdCFkumrjo1z2NL7NyYcpigEIJFsNEJb5GksZCwW4WtS8JjuiJZZw3n8MMPTwEUtKScu5A1LoRlUaSJue7+++8/sxJC/n4rrLOEPtk5+XvdnOs7+XwEixAl/SGFie7l/FafIZfsh4EjMmskVo5ipZz4vvj5zC0LKUcrBz+tMFdlMPeQDNxzQx7wFJDSXLlYlQWaJOKrugTcany7+R+ckRD8+Lpo+nVr3h/vVrTuEeB68C6V0YZCQhZLE5sNltnKQlk3EmoeHM9qEcwvswU4N1KFmlM0FUSVI6gsABZSvoNGiRppiTATbcbR3agFWZBhi4j4X5CXRdu+QPKifO5wTwRGopeDwl+TfVTK7AgicP/mqgIWcFn5ebxIk0ySND79QBzMW/6veckJHTnoIAd4uAcS0Tfn+gkTJi3XRwb+L5BBkVrzhMbo2jQY9yGdb/Z8vTkRPLnJf1IpA5lnDcjz0kwdrpsbnFSKgLnxycmeOdoRRo0ENw7kk7ERekxLgCEzYtXCs2cO4hR+IWSMijtgCo/Zl6+W6c8eCgl5mQUnMDXRDEz45j2E+oLcEC/qmR2N5JO7Q+o3qBZ4hGPxtdDmw8LZGDnmOl/60pfSC4Sk+DUcFnh43nbbbYnYVYcQCsyMJPQXKVnEEZdzma2cz7zkXrmpNHHSSSelRajZTKqftDgLus98n5/klFNOmfl9C1fWYhArksimRxqK0jlISGs0m2WtjtM+k4V+MZPpq88RhD74aRGRQ9PYSGj5XrQVps8cjeZnYySmsUC+7gFT9/S/5mfO18+mzxfcsKZ/SJpF5DRXPqF+h+kOA0bj3RgcMow+xD2fr/E4LBBIxyRPCyQHqEUrm2yG1adh39dCmDWVifqSMaJVIS2E5aAlWDj4LBDErrvumnwWFg+koTr2hhtumBZcJGHxd7ie6MTGRUYZENfIkrC+GB/aiv/T5vRVs6gv/X/FE/WhsXkWfcjmL5+RqkXdGPfckIoFgdbV2BeE4F58ZfqcSdz/HUimWYNmhnQPz+WamVgmmltlSnQvePgR/4OQIAqUsFj3oIQRH6qR7/7QSIgES8Kya2pW/bstWTHy6E/xAfIii0yEi9t9FsmoqaXOlc8tvjSAbrLr+UNoTjQm5JO1GiSDrGgXeVFHBMLaEZ1+NDYaBedlo0mPv0VAR2PlBP10bn6eTHB+utdSSy3VEVKZeMpymHZ005qdZKwJNYQZJCShuY5BCaMybN5ngTIHHXTQzBqME/Xdu3nYYYcNPfhoov5N9P+hkRACMrkBx6TDCRokNNEwTfx/C78qDhJR+TZEdPGrTCX/BiEgjmZ/UKteZJJDdJ0016Z9hAbSCVrDOYdQyJxL+2wsnDqc3oz3XZnZVccmkBEMW5nzM0IsDxNp/FVGcWgkBDASN4enKCWmpLI2pKoy4N32LWshfmYNIV8ja0AIiH9IDpNjKgTUbf/i/HohYJ5JF+BrZC5nDh2lShZ1Gg1aEH+tACSakFQA1oK6tb8b9of0VOz/Jjl1EwnliKohdaeSt5VPZCI2b3tBSpVnJSgAiTObtNuSu5IPGJ2qDALZ9CpknQSeTebNwk9lOlzzjkgrsC4ydedKHHV85KGSEE0IwCK1VFJmTor2QgREtCkkKP9Fs1AgIGHR06dPTxFvyCcIKGbOVBEwr7yLqicTfoT5R/TYVFHt7fvGgnBOIBDxmTUgfjpWj8eeT3wX0MV0SmAY5TY0cxzQTHBEJOEQATEDNEZSjTKwZfSdOi6h7swzz0wRaMyVbL4m55e//OX00wQVzdaYz1LGveMa44cAS4RAoZxQLbw/SGg484AQYE20Boj41PL2CsZH5Kp0B+WipEEoAzaqftahakIWVI5P+R4WVCVUsg9kOENfrbuahAq9XnfddcXll1+eMDIR99xzz6Q5SuKsQimeaqEWvekFAe+dHLLLLrssRWFJMiYQNtZD7OW68Z3uETAWkrQlgNtqJjcBCtwXyoHttddeyU8kWMHGlNaIUW1D1YSAJnSY2n/99denBEbqplyUaEWahCoXCECwH7wyPOzz1PGDDz44LRR1dFTG2A8HASRE2EFCJGuJqtEGjwD8czmzxu0+zj777GQJMS4sH9IXVFIRaXz88cenklKj2IaqCQGMui9AQW4HFZM2FK1IJXNoQfJ/NE5Ke9MwWR5wwAGpqOSohmTG+FYPAYnI5prQbAudPLNImRjOOAlG4Oux71djSLY14aGHHpoZpJTz6EQvGrdRbUMnIZJ8rhJNC1J8MlqRnMNISMKolp3GtKATTjihUFqHEzlaIFAGAoSca6+9NvkgctXsMMWVgWx31/C+y5kUEZvLT+UrqBxiA8jGLRZoTTTYUU7QHro5jtSlBA2n+80335x2o6SKAnqiGl7dDevonU0qhUXWghqfgPOYRiQqjhlTaLbqA2HCHL1xrkqPCTiK5ppXmgKy5lOEZpc7QiqOiGrl7/noRz/a8uJ8vSruEwSaNxFsrq/petYBhKUk16i2oWtCgEM4InHUIUNAdqNsrkM2qgD30m8lU1S8pn63aoITFJckqZqo4RdqhVL8r1ME5KCZcxZHVTJsGRIJqp2i19l5NE1C5QUXXFCceuqpycfbqjHF0W7s2Nqu5VqRBPjVV1+93emV/bwSJGQxpQ1xwlEtzzvvvJSnMI6RcjQdNeBM0ubnF4KJrD/5yU8Wu+yySwrPJh01S0y9zDbkD/tumzDRiV6obq/V6/leWv3opXmRRR2Oc2PiJfiZbwrO8tFGyH/5M4JlR5CR/J6vf/3rs9yAlkQgEGjgmKzRgAiqhAbbmXBpjGqrBAkBD+jCjb0IErQMyDhqQ6pLCz7IibsckypFM7nZc8jePwITPvGJTxR2qC2rxD5/AJNMt42jlOmQ0DCs5sXt1Zco+hCJIrJxbN4xiY/G0FxSe9DCFqa4cmcDzZIAqayWiGBRiHzgTKG5GQMCebMvqLknArgQkOZ6rjvKrTIkxAYNfLXkONzZp6mw49RMyG984xvJMWkRQMy0Qzt6fvazny3spipHgPlyskKGvWCWN7Fr/C4nKTIUeUNT8tML0FheST/ZsJlyhtXME5J8q0byZDMnfbaaT6RTWpRzxrHZq8kGiRIgRcPxMYYW1L+ZwOKDOMw5gl9+l7xXxkCAwWRVy71rzHqEPtXrpWmwYHg/R7VVhoQsBhZXYYm0oYsuuiiZSZq3BxhVoDvpNz+PpDPPbIJtueWWxVFHHZXKs8Olk6rWndynk3OyE1XyogWelMZMSDhATHlcSHXC7OV5Val5uWlI5pBnsI03ra25yYehAarDN26N0AMTc04VdNq2RbJsAWfccJ3seVWHQRzWOtFu/LvWO++W94h1Y6JGKJRLiawk+as2Q2BnPbnkkksm+lrl/z/06LhGhAQmrLvuusWJJ56Y2F6Isg3KxiXyS7VcktCnP/3plHgmG3pYpdlJamrWIZxDDjlk5jAZH4sXiZnknMdHVKPw3l4XMKThZSSMlBEVKagDeSIYpovGTfQa55yXPlchR6xl3Lvyb/3/dTDnBgn3Z4GwBXy0/iOAgJg9991336ShKxTLBeGd54+bqNmy5eqrr04WElYJh/fGOzpRENNE16rS/ytFQuyhGH6ZZZZJkrVIEhrBuJCQBEGRScwhw7bJm/DCRddaa60XzNePfexjKaE4b8/uQwuYl4fQ0LhZXTcTHQGT6oSdk8an2mSVM2Nq8qomIiGfs6mzzzMpmn/j0kTE0XA19cnUIIzWfwT4eL1XtPNTTjklzXnleLxHkzXBSASqRj+S8wnv66yzzmRfrfRnlSIhUr+dOpmhSGcWOwU8Vdr2/7o3kwn5DEv7acSXyi8Cp7mApReF9MaXkJsXiDTHn9UrCXmxHM0Rgb2OOQyzVtaO0N///vcXl156aSLRcSGhXKz0tttuSzXihPjGPlS9zrbuvmdusniIchWuLUKTtaHd3Dv//PNbBmuZ351uKtldTwdzdmV8QvlxaUPLLrtskqyZR5hUJpNiBwPTYO7CFFQFAuLAp94jhGbyF+XDjs3fkiPKhI47j/+FNlMWkQwG9aKw5bjGOTzMKL9BPa/72BpExWxjzbdAA6/C3BskBsO8l/dFtKt3iEmYsNdOCGD6FordfAhkGGVrUeVICKtb6KirpAURJCSFXnJYhjnJ+nVv2sLpp59eXHHFFS+wA9NcSPMq7U618RU4jEWzj4R2gWQQUSYh59HiaEMk61ELJvGMTIACP8YhQMH4iIZUINfCttRSS82i8U51DsX3J0dAgjnyVxF/m222SeMwrq1yJGQgSGTMAxYG0qkXRthytL8jwPzFh8KeDx/hmSKchNq2syt3gmE2jU12roWs0TYtSIEpTr5Os816sutU5TPbiRB+aAd1byLiBJJIUvXcK664Ys8BJXXHql/PZ42TlyXlQiXsQUa+9uuZer1upXxC+SEMEAJSw4pfAgmpDEByKCs5s1fAhv092CjTIXotkxCtRYSMUh9lJK7RdhyIpjlhWJgokiHJNWpJTHKCAWgSk5GQaDXFWZuTQxGo50CojUTqeZGDZ+tnQc1cK63XygvDnhed3t/YiLASlMBBbi4Js482eARYEMoQGgff83LvWFkSsvisueaaKXTRQXIjaTP5jHODC4IQpZZrUZnMqk0st9xys5jPesGKk9PBed28dTCfjz6waTeSgvBsJNIuRNs1EVGuDp77xzfhXnxRjbZx92rWunp5pnbf0R+E2y6Iod11qv45/6rIU1qQpEmRqOMu2FV9zOrev0qSUAZ9gQUWKKZNm5ZChUXLMUHRhvopEY/SgPPDWKDhwRxW1gKKgFyPtiMAobFJqOXIdzQWTpXJbYETUj9ZP+Q4KDnU3EjnCI5pQvj3oBsNDAnlrZQHff9B3M9ckdQoKMH40S5Va44WCAwTgUr6hDIgpGAJXOLo1bdCQsMsDzPMgcr3FhRgMckb3jFZiiTkZFYDbTJTWDf9n+N5v5MoHObQxqamH220ucCikG0175SUb6cNddOPQZ0rFUDwy9JLLz2oWw78PoJXBK4w3aoUwbIQAt3AhyFu2IRApUlIXxEQiU0Io4VWAmuzn2KcRhUJWfAlYDKlcGxuvvnmyR8jak7SZRkN0cBe0iozGVMbkxnfDeJrzGlAijQkgoL/T6YJldG3Tq6BjJEKTU7fmQFpa7StXJ0hX8ffFmjh2apU1K1lwWX69OnJqqDqOtPtuJu26zbOo/o8lSeh7BsioVoo1FhSP2nUclHKnCAHHXRQKmwqw51zmYmSfZ8D317zZTQOU/XqRE8dd9xxxWmnnZbCSZUbce/G5DjFP/kY5HdVpSEe5fJ32GGH4uSTT06LL9zU4eNL48PKTfKt6KS6mqYICcyNSEg0pTGUoBtaUFVm63j3o9I+oTw0TEMWOFI4k9NJJ52UfA/juJkbUv785z+fTF6Niwj/mYhCn5fV5C5YsGgVrmvhVlKoOanu0UcfTblcW2+9dVm3nvJ1kMoaa6yRatzRdCzE5ou+w63RZMiMyDnfvHPllDtRkQvQZD/3uc8lAiJcwKSM0kgVebzoxogjMBIkZMFgeuJQPfLII1OIr3yUibbIHfExmbT7yKDVrpcW2LJJWQi20OvJmlBrJi+mLMEMvTamP88mQbmMxiSIWNpFftGYROQxw5WxOWAZfS/zGsZF7pOq9MyTTLfMcGXPlTL7HNcaLwQqb47Lw6HyLGcqUxDfA58Iya4sR/x4DXt5TytQQbkemmlzdYVu7iLSzzHovWz4GZEPzaAKvqxuMGt3rneDGe7oo49OPjtjxJ/nXSpTY27Xj/g8EJgMgZEhIZKbrYflDpFuLR4q0DYnPU72sPFZ+QioZIGElH6ZSqPtToXEer23HDTkV8eETb465Z0kezND0oKEoDebU3vFLr4XCJSBwMiQkIdl7hGgQJoj2alAK3qrOfGxDGDG7RoWpl40AVGLTGnN1bYHiR+pvlcNSjSfEPeyzICDfO7J7sX0JgDjzDPPTO+HIBPvTR1NjpPhEJ9VH4F/2v/5Vv1u/r2HFhsOZ5FZ/EJyhiycdiqUwd/LIjoqz97vflqoLMjdLlKSHvlTeiWBMp6L2cnY9xJyLPhChGGdfCQiR0UDnnXWWcl3qsrygQcemKo1hxZUxoyLa5SJwEiRkAe32FkoRTyJalKM0cvlRWvnhC4TuLpdC4bdEhAMLN7DJCB9IJj0QkC+K1KuTgTkmeSK2dJcaDoz5wYbbJBMcZ4zfEEQilYlBEYiOq4ZMGY5e3Eo9cI39NWvfjVtzBW5D81ITf437cdOjdFaI2DBHrVUAD5SwpnKCKL+7Na77bbbJn9bEFDrcY7/DheBkSQh0h0zyj777JN2J7SHzYUXXpjMKhzMYZbrbFKpvIDMo7VGgIanZuGo+IuY4dTvk6Srwrp3YbPNNktWgmiBQFURGEkSAibTm8rRG220UYqScwizFX7KTxFSX/spR3uUaBqtHggIRjjnnHPSNuuIU2meddZZpx4PF09RWwRGKjqueRSYGD796U+n0G0NEX3zm98c65I+zRjF3+ODwHnnnZcISPKw5O7ttttuJIvJjs+IxZNCYKRJiLbz2te+NhER04MaYMxyzHPRAoFxQkBVdVqQTQXlbG288cbJTxoWgXGaBaP5rCNrjgO3F8yhioIIoBNPPDFtc80kJ28l6mON5qRUSuemm24qDj300LYPYDuCL3zhC23Pq/MJkoVVRUBEczxfZ9GGhwIS6hb1V+cxHOdnG2kSygMnb0ihTVW2zz333OLyyy9Pia0qKPMPRRstBFRhUCl95ZVXTgEok7V2n0/23VH/TCCCVIWvfOUrSfgikCnaKjG1VX3BUX/e6H89EagFCRkaEUC0IVtHIyEFG2lDooNCIhydyavgpggvlZ9333334nWve93odH7APRViz/xM8FJBhCCGhGhD0QKBUUFgpH1CjSCTAlVOWG+99VJJftUUbPKmbhaJcZz3HxqVyaifovWEjks+DQKaeOSQtXygo446KhX0ZZYUKWr/aXroOgAAFIJJREFUp1Hc2XbiJ41P6o5AbTQhA0XjmTZtWqqubQtjtbOYKviIBC7Ey1nt6Wy/IvtF8QmtvvrqqbP+h5iYnSy8PmNqVSpIqaZxbEKxbUdubtumwaaGW265ZUqsbbf1xjjiFc9cbQRGrmxPOziVYVEVWcIqv4KyPhYvu2ZGfbl26A33c9sO2BxPGR4RXrZx5+cjTPhMPTSLrjGl+UpOHnbJoEEjBhM+M+kIipPSFnfaaacUjGDeRwsERg2B2pGQAeCUtUCRnpWlsXCpi0ZiFMQQFRWqN00VIZXjRWBQKd3iyr93/vnnp51AF1988VSWaZFFFkklaUTP0YbmnHPO6j1Mn3pkd9gf//jHxde+9rXimGOOSWS9/vrrF7vssksioAjH7hPwcdm+IlAbn1AzSghnq622Sruv8gfZEltRRwtbbITXjNbw/5Zg+cQTTyRzkrHT1D477bTTkjmOWU5jihOSz+SKtMalmcOeWUmeI444IpmWmZ4PPvjgqBAyLpOgps9ZWxIyXqRkO1WQoLXPfvazaeH67W9/W9PhHN3HsvmaUjN5rDwJYQER2TOKVpubBGVNtehxaaIFaUAIiEkOTscdd1zS7EMDGpdZUM/nrC0JeTGV9ZE1zoEraohT+4ADDkjmHJJ3tGog8NxzzyWiYV5qNK/Z30j1iw033PAFDnfhyNq45ICZtyeddFIiHcSLgA466KDiTW9608yE7WqMZPQiEOgegdqSECgQkU28LGZHHnlk2gFUdjlpUn5FaETdT5huv8HHQ8u54YYbJvyqMHp5XiIYG3O6jB0hgj8v+/FcD2HxGS277LITXrMuH9iaYfr06SndgLnyAx/4QLHHHnskoSq2Z6jLKI/3c9QyMKFxSLNGJEx7ttlmS5FFasw9/vjjaUOzueaaK/2MVj4CIttuvfXWmQsorFvl/tgPSsCBPK92O39KzDR2yy+/fKoSXeeNDJndEJDDnKUBKUoqcIPWGC0QqAMCtSchg4SIOHKRkMg5i9j3v//94qmnnkqLmBpz4xbqO4jJK5qLBiPEGt58Poimsdn3RnKqYAPjM1mzt49oRxotEhIBWccmCAEBnXHGGckMJ3dKdKBcINuXREmeOo76+D7TWJBQHt5s3kE48k4sjKR1mhBfRGhE5b4ICJ7fAhnJ/3n22WeLJZdc8gX+HWZSOUELLLDApPjTYFUIePvb356Kc77lLW8pt7MVuZpgDD4yQQjHHntsqoqNuBHQSiut1FKTrEjXoxuBQE8IjBUJQQjR8D9YIBGRzHMlfiSyqrmFoCLaqKe5NOGXSO7CrGlEcnv46IRcSz695ZZbUsHNiQqRIjDVL2zjLhCBSUpNQL49wSX8RXVpORrwkksuKQ455JCEDzPlNttsk4q5Ck+PFgjUDYGxIyEDKBeFRG0Bk/xHI7JA5nIwiCoSWsub6ghejgsiEXLNpISERHvRamhBrXw7CMj3vvWtb6XzaQTOE67sWsypghnq0DwfYlV8V+Qb0kZAO++8cyKgqIZQh1GOZ2iFwFiSECAQDSLiV2DqoQ2RyknqghgQVRBRqynT2/9EvYnumjFjRiowS+o/4YQTih133HFCCV/0op1CJRkLaODLY55yDT+Rm4V61JscKIQqdUBStd/nn3/+REZ8X3xp0QKBuiIwtiRkQJne+IJI08J+VSO+6qqr0oLHSR615sqb9iR5+S7XXHNN8fOf/zxpRBZaRTcnCgoxHqLBCAjyhZTqcfhdEU/bugtSGOWGgJCzIAQmOCZG85GWqDJ2RMGN8uhG3ztB4EXPR+L8rZMT63yOSCS+IWV+RF9p2267bbH99tsX73znO9Pf4Sea+gwQnCAQ4ayzzkoL7NVXXz3Wez159Wh0tmOQB+RvWqIdgvnNQhOf+pyLK1QfgbHWhPLweNlpP0wffETMPkw+Ahc4wZnogoSmPpmVmEH4119/fbHxxhunxMtxXmhpdV/84hdTPTjm4Y985CPF4YcfnnLX4BJzbupzLq5QfQSChJ4fo5zQKlCBhC4T3XYBpFQ/5RjxH01kNqr+MFejh3CE8XzzzZd2AR3XumeIWAg2wuGHhIldgXfbbbc0z/jPgoCqMWejF/1HIMxxDRhnyyRNiMmIiYQ2xDSyzjrrJOl9olDi/g9VPe5gAeYbGpe6b42jJhhD7Te1DC+99NIk4PBJqo1nfvk9Nl6sxzyPp+gcgdCEGrAifTpEI6lZJtFSiLAQbhF0toFgtgsi6nyCNZ9Jy2wVjt18Xt3+VgMO6Rx22GFpjyQh2KpEbLHFFsUaa6yRCAg20QKBcUMgSGiCEUdEklcR0Z/+9Ke0gAheUGKGuYSfKApITgBe/HsmAln7keukRt4FF1xQICT+n8033zxVQVD9IcxvMWnGFYGXjOuDd/LctB67ekpidQjf5kRW6kcuh6RLZNSu6GYn94pz6ocAsqHx2MNK1XbFXBGOjRY32WST4l3vetcLShjVD4F4okCgPQJBQm0wYjpS70wCq0g5CYXf/va3k2bEdySbXa6K0jQhzbYBc4w+lu9Dcya0ML8x5SKd1VdfPWlA5lL4f8ZoQsSjTohABCZMCM2sH8jgF1ZrPyL5RMrH2E7gE5/4RCIq1RdCK5oVt3H6j+RTybgSagW3XHvttSn8etFFFy0++clPFmuuuWZEv43ThIhnbYtAkFBbiF54gkVGxNyBBx6Yki0tOAIVNtpooxThZFsIWe6hFXUJ7AifnqMqRf2p8nDaaacl7UfhVXNDgdZdd901hV9HCwQCgRciECTUw4zIi47FRrSTDccU25RjtPXWWyeTS9Se6wHYEfyKuSD4QAHS8847r/jyl7+coin9T1khFbDlAEWO2QgObnR5IAgECfUAcyYhOS/qmh1zzDHJV8Tur0aaygsSD+tQXLMHeMbqK+YAIWS//fZLplq+oNe+9rVJM950001THTgm2tCMx2paxMN2gUCQUBdgtTqVeU4xTpnvilDyASi5Is9I+K0q0Uwy4YRuhd7o/i8XHj3nnHNmJjUL5V922WWT78dGfQSS8BGO7hhHzweDQJBQCTjTjOwaKqFVGLeSLKLnhHiThPmKJCSKsIuExBIAH+IlmNmEXdtiQtUDG8/x/fAFSjz90Ic+lIreKsUzznXxhjhEcesRQyBIqMQBIx3bmEwIty0LLFIWqLnnnjttWcBBbZGSKxILVInAD+hSQvJvuOGGlPdz9913py0YaDurrbZa0nr5gOSTSWaOFggEAp0hECTUGU5dnWWvm0ceeSQlJ6oYjZD8T+FOpfpVj7ZNtWipIKOuoB3KyZKTjSWfz+233540XoEnxlEys91hCRpRQWMowxM3HXEEgoT6NIBMdDQje+jYstkCds8996QSQMw106ZNS4ctq9/2trelXoTzuk+D0cNl826ntNo777yzuPHGG5OJFfkstNBCKS9s6aWXTsJERL71AHB8JRD4PwSChAYwFf7whz8kEspmHH4EOSXIiBlHaLc9ZBSx5MgO7WgAg9LiFgQHGivN58EHH0zkw/cj+k0tQeNlrFZcccVi8cUXT36faIFAIDA1BIKEpoZfV99GPHfccUfyFYmms4GegAY+ImYdhISMRNPZayeCGLqCt+eTBRuohsF/h3BoPVdccUUKvxdcoj4gzUe1A5qrEk3RAoFAoBwEgoTKwbGrqyAjju1zzz03+YxsFyG/hKlH8IJIOnXGOL1f+cpXprIvYarrCuKOTpbjo/QS/O+6666U62U8CAZwF2Qg58s+UsZDJYxogUAgUC4CQULl4tnV1VRZFnGlvH/eQI85COHYSE9x1FVXXTXVHVNIVdRVmOq6gvgFJzO3ZV8dAhJgkCtcKzaq6gHCp4mKeBNyLfQ6NNLeMY9vBgLtEAgSaodQHz/Pi6LFj3aEjE499dQUwICMEA5fBBKSa2QPGqa7aL0hAGe1/i677LKkhc6YMSPhruQSkufnofUgflUPcrRbaKG94R3fCgQ6QSBIqBOU+nxOJiML4nPPPZckdJugcYpzkFsE+Yg4whdccMFkslO9W1RdRGZNPjg0HoEGfHC0HiHW/D/McCLgJBOrcsAfJ+oN+SCk0H4mxzU+DQTKQiBIqCwkS7wOLeiZZ55J1bppRQhJngrHOb8RZ7nFcoEFFkjSu22iRW695jWvKbEXnV+KhmFRl6jLyT/swAoko4goP48DqSut9PTTT6d+8rUhcf4eGKpkAc8oOtv5mMeZgUBZCAQJlYVkH65jcbegkuRtEfDAAw+kgAa5KxZ8Ers9jGxBzkwnYZKm5EBK/S6cKefp3nvvLa688spElhz6Gq1NFJlq4nxb+tmvhvSQtkg2fh2HEHj4ML3Zjp02BB9VKxzwmW222VLUG+0ytJ5+jU5cNxBoj0CQUHuMKnFGLpSKjNQuE0pswWWuE+ptoaUh0UIcFllFVB3Mdg6fl2W+k/skjDnXyUM8FnUNadI8VBHPG/6VlVPjORGLZxbU4fA7rdGR7y3AYI455khVKmg7yFAelv8hbi18PZWY2tGJMUcgtvcekQkgMo7ZyCFL37YRzEw0gB/96EdpMUZQft53333J2e5cGgBCyuREaxJ6jJCYpfyOICzI3SzKzIP2U1I/jU9F1Wj30Z566qmZuTY0FWYupW260Thogfxjwqc9K1LzOw0nE07+6XN994xIB9E4lEWiHYpw87wRWTgikz26OVYIBAmN6HAjD4f6ZbQSC7+yMjSkXNnZ4mzh9jdfCO0gm+7e/OY3Fw4kRTOQF0ObkQuTf/qdKY32xLRnOwqLPX+VnBoamSTbrbbaKi30jY2vCgGpKm57C+ZB9/M/BCk8nVbDlCYgQ//8zL8zQ9J4+ME8m58OJEQr1F8kSsNjYnNt96DxCDZASJ43WiAQCFQbgTDHVXt8uu6dSDsLPK2IpoSA/KSxcMzz2+QF30/nIhlElDWjTHC0B8EOmaByrhLz11e+8pVkfrNtNS2oVeO72n333RNxrb322okgMvG4twOhZW0n/8yaD58T8kOK+dAXQQTMjEiHpuOg+ZRlamz1LPG/QCAQ6A8CQUL9wbVyV0VAiAkp0WD87qBZWOyRg4OW0fg7rQWxaUyC2bdDY9lll12KnXfeeaaPpfmhXYtP6JJLLpm5uRvicf3caFeIxrX9zL8jFGY8hMiXk49MOErnhHmtGfH4OxAYPQTCHDd6Y9ZTj2kPDlFruTGN0Yz4lDj0+ViYvvJPBEVTQRrOdWRNCwEgJEQxUUMwTHrOzRoXTcbfDsSjT9ksmP1WTIQ5oGJYYecTPVP8PxAIBMpFIEioXDxH6mq5IoPN2BytGk2I1oOMaFMCBK6++upU3YGPxt9MZa0aX5XP+aGEa0sIRSqIh6nP97oJhmh1j/hfIBAIjDYCQUKjPX597z2iyoEKNBTakJ8i8FQEt91B3g+puTNCuGlZAgfWWmutFLLteognTGnNaMXfgcB4IvDi8XzseOpOEciEIbya+YyvxnYTyyyzTNKQzjjjjKQZCalubCLijj322BR8YPM+CaK+6xrMdJmMOu1HnBcIBAL1RCACE+o5rn1/KvlJxx9/fNo1VpFVvibRb8hFmLhyOUKsFQTdZJNNUgh3mN76Pixxg0Bg5BAIEhq5IatGh/mKlBGSB3TdddeliDsN0dCKJIraikKxVb+LeosWCAQCgUAzAkFCzYjE3x0jwD+kPtv999+fcpEELyAhUXO0ItqRQIRuKiV0fPM4MRAIBGqBQJBQLYYxHiIQCAQCgdFEIAITRnPchtZrVQ0ak0077YgqCKo2RAsEAoFAoBGBIKGYD10hcNNNN6Xcn26brR74jnohsG7vFecHAoHA6CAQJDQ6Y1WJnl566aUp6q25qaSAYFRZkKTKX9TYfMZ/pO5ctEAgEAgEMgJBQjEXpoQA8hEppxq2aDm14q6//vpUj66x2dNH5QTaULRAIBAIBDICUTEh5sKUEFB7TrVseUEI6fbbby+22267Wa6p4rZIOVuVRwsEAoFAICMQmlDMhSkhoKSPTfa23HLLYrnllpulckK+uDBtm96phj1jxowp3TO+HAgEAvVBIEioPmM5lCdBLojIlgu2V5isIaD5558/JbhGCwQCgUAAAkFCMQ8GhoAkVhW07WOk7lzep2hgHYgbBQKBQOUQCBKq3JDUt0O0Jn4hu6AyyTVH0NX3yePJAoFAYCIEgoQmQib+3xcERMgtscQSySQXmlBfII6LBgIjhUCQ0EgN1+h3lklOpJzk1SCh0R/PeIJAYKoIBAlNFcH4flcIyCmy1XeY4rqCLU4OBGqLQJBQbYe2mg9mk7snn3yymHfeeavZwehVIBAIDBSBIKGBwh03++lPf5oSWlVWiC0eYj4EAoFAkFDMgYEi8Jvf/CaV91HGJ3ZaHSj0cbNAoJIIRNmeSg7L6HSKf+e+++4rFDa99957k7/nsMMOS2V8VFBYeOGF0/bfmgKmCpx+8IMfTNuARwsEAoFAIEgo5sCUEHjpS1+adlFlXpOAutdeexUvf/nLi1e+8pUpJ+gVr3jFzOvbAvyhhx4q1l133SndM74cCAQC9UEgSKg+YzmUJ6HRCLt2TNZs5WBDvN/+9rcpRDtaIBAIBAIQCJtIzIOBIGAfIburzjfffAXtKVogEAgEAhAIEop5MBAEmOFshjdt2rSB3C9uEggEAqOBQJDQaIxTZXpJi+klqu1lL3tZMfvss6e6cdECgUAgEMgIhE8o5kJXCCy22GJtt2xodcHFF198wr2GWp0f/wsEAoHxQOBFz9fv+tt4PGo8ZSAQCAQCgUDVEAhzXNVGJPoTCAQCgcAYIRAkNEaDHY8aCAQCgUDVEAgSqtqIRH8CgUAgEBgjBIKExmiw41EDgUAgEKgaAkFCVRuR6E8gEAgEAmOEQJDQGA12PGogEAgEAlVDIEioaiMS/QkEAoFAYIwQCBIao8GORw0EAoFAoGoIBAlVbUSiP4FAIBAIjBECQUJjNNjxqIFAIBAIVA2BIKGqjUj0JxAIBAKBMUIgSGiMBjseNRAIBAKBqiHw/wFOpvGrzhvelwAAAABJRU5ErkJggg==)"
   ]
  },
  {
   "cell_type": "markdown",
   "metadata": {
    "id": "O06yNjS_sPS6"
   },
   "source": [
    "#### $R_x$ ($\\theta$)"
   ]
  },
  {
   "cell_type": "markdown",
   "metadata": {
    "id": "dU2Ran07EOzz"
   },
   "source": [
    "![image.png](data:image/png;base64,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)"
   ]
  },
  {
   "cell_type": "markdown",
   "metadata": {
    "id": "y-8_3rMIssM2"
   },
   "source": [
    "A rotation gate where the initial and final states can be represented as $\\theta$ rotation around the x-axis on a Bloch Sphere."
   ]
  },
  {
   "cell_type": "code",
   "execution_count": null,
   "metadata": {
    "colab": {
     "base_uri": "https://localhost:8080/",
     "height": 830
    },
    "id": "nVVP2ZRts0YX",
    "outputId": "a444344e-4e7c-4b51-a107-c13c19042914"
   },
   "outputs": [],
   "source": [
    "qreg_q = QuantumRegister(1,'q')\n",
    "\n",
    "Rx_qc = QuantumCircuit(qreg_q,name='qc')\n",
    "\n",
    "Rx_qc.rx(math.pi/8,qreg_q[0])\n",
    "\n",
    "visualize_transition(circuit = Rx_qc,trace=True, fpg=30)"
   ]
  },
  {
   "cell_type": "markdown",
   "metadata": {
    "id": "w278BJn6uUya"
   },
   "source": [
    "#### $R_y$ ($\\theta$)"
   ]
  },
  {
   "cell_type": "markdown",
   "metadata": {
    "id": "Pa4_4zXHEUjJ"
   },
   "source": [
    "![image.png](data:image/png;base64,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)"
   ]
  },
  {
   "cell_type": "markdown",
   "metadata": {
    "id": "Ys8n8tDFuhIx"
   },
   "source": [
    "A rotation gate where the initial and final states can be represented as $\\theta$ rotation around the y-axis on a Bloch Sphere."
   ]
  },
  {
   "cell_type": "code",
   "execution_count": null,
   "metadata": {
    "colab": {
     "base_uri": "https://localhost:8080/",
     "height": 830
    },
    "id": "4ZqMO-wSuoCv",
    "outputId": "cfe8077c-fcec-4312-ac30-12e597d356b2"
   },
   "outputs": [],
   "source": [
    "qreg_q = QuantumRegister(1,'q')\n",
    "\n",
    "Ry_qc = QuantumCircuit(qreg_q,name='qc')\n",
    "\n",
    "Ry_qc.ry(3*math.pi/8,qreg_q[0])\n",
    "\n",
    "visualize_transition(circuit = Ry_qc,trace=True, fpg=30)"
   ]
  },
  {
   "cell_type": "markdown",
   "metadata": {
    "id": "3j73K_5Ku6g9"
   },
   "source": [
    "#### $R_z$ ($\\theta$)"
   ]
  },
  {
   "cell_type": "markdown",
   "metadata": {
    "id": "JD9EWtmoEYTk"
   },
   "source": [
    "![image.png](data:image/png;base64,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)"
   ]
  },
  {
   "cell_type": "markdown",
   "metadata": {
    "id": "ODqLYeLCvIAC"
   },
   "source": [
    "A rotation gate where the initial and final states can be represented as $\\theta$ rotation around the z-axis on a Bloch Sphere."
   ]
  },
  {
   "cell_type": "code",
   "execution_count": null,
   "metadata": {
    "colab": {
     "base_uri": "https://localhost:8080/",
     "height": 830
    },
    "id": "S_-r1yT3vM1J",
    "outputId": "fe463cec-fdf8-4fc5-c980-7eb3127aaa21"
   },
   "outputs": [],
   "source": [
    "qreg_q = QuantumRegister(1,'q')\n",
    "\n",
    "Rz_qc = QuantumCircuit(qreg_q,name='qc')\n",
    "\n",
    "Rz_qc.h(qreg_q[0])         # Applying H gate first for better visualization\n",
    "\n",
    "Rz_qc.rz(3*math.pi/4,qreg_q[0])\n",
    "\n",
    "visualize_transition(circuit = Rz_qc,trace=True, fpg=30)"
   ]
  },
  {
   "cell_type": "markdown",
   "metadata": {
    "id": "-_FDhTdy52He"
   },
   "source": [
    "## **Making a Measurement**"
   ]
  },
  {
   "cell_type": "code",
   "execution_count": null,
   "metadata": {
    "colab": {
     "base_uri": "https://localhost:8080/"
    },
    "id": "NX-qQbYmkxcw",
    "outputId": "3df65784-2c06-4862-ee39-d7331c06bcd5"
   },
   "outputs": [],
   "source": [
    "from qiskit import QuantumRegister , ClassicalRegister , QuantumCircuit , Aer , execute\n",
    "\n",
    "qreg_q = QuantumRegister(1,'q')\n",
    "creg_c = ClassicalRegister(1,'c')\n",
    "\n",
    "qc = QuantumCircuit(qreg_q,creg_c)\n",
    "\n",
    "qc.h(qreg_q[0])\n",
    "qc.measure(qreg_q,creg_c)\n",
    "\n",
    "job = execute(qc,M_simulator)\n",
    "result = job.result()\n",
    "result.get_counts(qc)"
   ]
  },
  {
   "cell_type": "markdown",
   "metadata": {
    "id": "5hew77pnlIKk"
   },
   "source": [
    "This code should look very similar to our earlier examples, but with a few key differences."
   ]
  },
  {
   "cell_type": "markdown",
   "metadata": {
    "id": "TfPe9SY3lVcZ"
   },
   "source": [
    "***\n",
    "qc.h(qreg_q[0])   \n",
    "qc.measure(qreg_q,creg_c)\n",
    "***"
   ]
  },
  {
   "cell_type": "markdown",
   "metadata": {
    "id": "dWY4O1JemLjv"
   },
   "source": [
    "In the first line, we initialize qubit 0 with a Hadamard gate, creating a system in the following state:\n",
    "\n",
    "\n",
    "$$1/\\sqrt{2} \\space (|0⟩ + |1⟩) $$"
   ]
  },
  {
   "cell_type": "markdown",
   "metadata": {
    "id": "UIMP577-oAtQ"
   },
   "source": [
    "So far nothing new. Then, in the next line we add our **measurement**, using the function measure. This function actually calls upon the class **Measure**, which handles adding the measurement instruction. measure takes two arguments, both the quantum and classical registers.\n",
    "\n",
    "Note that by using the measure function, we are adding an additional instruction to our QuantumCircuit. That is to say, we aren’t actually making a measurement with this line of code. Remember, a QuantumCircuit object is just a list of instructions, which aren’t actually carried out until we run it on some simulator. Speaking of backends, because we now have a measurement instruction, the backend that we need to call upon is:"
   ]
  },
  {
   "cell_type": "markdown",
   "metadata": {
    "id": "inG9vIdnoizj"
   },
   "source": [
    "***\n",
    "M_simulator = Aer.backends(name=’qasm simulator’)[0]\n",
    "***"
   ]
  },
  {
   "cell_type": "markdown",
   "metadata": {
    "id": "rkVeQ9LTq_pe"
   },
   "source": [
    "Before, we used the statevector simulator because we were interested in viewing our wavefunction. Now, we don’t care about the wavefunction, so we will instead use **qasm_simulator**, which will allow us to simulate measurements on our quantum state. Note that both of these simulators are still classical, and do not call upon any real quantum devices. We won’t go through the full details of the Aer backend function again here, but we are essentially calling upon qasm_simulator in the exact same way as before, so please see the earlier example if you are unsure as to what this line of code is doing."
   ]
  },
  {
   "cell_type": "markdown",
   "metadata": {
    "id": "i8ZwOHCArLN_"
   },
   "source": [
    "The last three lines of code should look familiar as well: \n",
    "\n",
    "***\n",
    "job = execute(qc, M_simulator)   \n",
    "result = job.result()    \n",
    "result.get_counts(qc)\n",
    "***\n",
    "\n",
    "\n",
    "Again we are using execute to run our simulation, this time on **M_simulator** because we are interesting in measurement results. This returns to us a job object, from which we extract our result."
   ]
  },
  {
   "cell_type": "markdown",
   "metadata": {
    "id": "_IPyXctbsLIf"
   },
   "source": [
    "Alright, now let’s talk about the interaction between the two registers, via measure. In Qiskit, if we pass the entire quantum and classical registers as arguments to measure, the function will by default make a total measurement on the system, and store each qubit’s measurement results to the corresponding index in the ClassicalRegister:"
   ]
  },
  {
   "cell_type": "code",
   "execution_count": null,
   "metadata": {
    "colab": {
     "base_uri": "https://localhost:8080/"
    },
    "id": "866TPVYpkvKa",
    "outputId": "03bc40ca-192b-4d84-ffee-a5141fb68ed8"
   },
   "outputs": [],
   "source": [
    "qreg_q = QuantumRegister(2,'q')\n",
    "creg_c = ClassicalRegister(2,'c')\n",
    "\n",
    "qc = QuantumCircuit(qreg_q,creg_c)\n",
    "\n",
    "qc.h(qreg_q[0])\n",
    "qc.h(qreg_q[1])\n",
    "qc.measure(qreg_q,creg_c)\n",
    "\n",
    "job = execute(qc,M_simulator,shots=100)\n",
    "result = job.result()\n",
    "result.get_counts(qc)"
   ]
  },
  {
   "cell_type": "markdown",
   "metadata": {
    "id": "zlyzv7eOsa_n"
   },
   "source": [
    "If instead we want to only make a partial measurement, say on qubit 0 only, we can do so by specifying the quantum and classical indices:"
   ]
  },
  {
   "cell_type": "code",
   "execution_count": null,
   "metadata": {
    "colab": {
     "base_uri": "https://localhost:8080/"
    },
    "id": "aPNMk_xnsY0V",
    "outputId": "5b01d685-91c6-43d3-af88-c6cffd48fad8"
   },
   "outputs": [],
   "source": [
    "qreg_q = QuantumRegister(2,'q')\n",
    "creg_c = ClassicalRegister(2,'c')\n",
    "\n",
    "qc = QuantumCircuit(qreg_q,creg_c)\n",
    "\n",
    "qc.h(qreg_q[0])\n",
    "qc.h(qreg_q[1])\n",
    "qc.measure(qreg_q[0],creg_c[1])\n",
    "\n",
    "job = execute(qc,M_simulator)\n",
    "result = job.result()\n",
    "result.get_counts(qc)"
   ]
  },
  {
   "cell_type": "markdown",
   "metadata": {
    "id": "Vd2-yZgGstsh"
   },
   "source": [
    "In the example above, measure( qreg_q[0], creg_c[0] ) can be understood as  make a measurement on qubit 0, and store the result in the ClassicalRegister ’creg_c’ index 0”. The result printed shows that the measurement on a single qubit was successful, after which our system is still left in a superposition of two states (because qubit 1 also had a Hadamard gate)."
   ]
  },
  {
   "cell_type": "markdown",
   "metadata": {
    "id": "XbTjSYeSAHpK"
   },
   "source": [
    "## **Observing Quantum Circuits**\n",
    "***"
   ]
  },
  {
   "cell_type": "markdown",
   "metadata": {
    "id": "ptXMkvUWA1_N"
   },
   "source": [
    "### **qasm** ###\n",
    "\n",
    "Recall that a QuantumCircuit is essentially a list of instructions, meant to be run on some backend. If at any point we would like to see the contents of our QuantumCircuit, Qiskit comes with a nice function that allows us to print a QuantumCircuit to console, via **qasm**:"
   ]
  },
  {
   "cell_type": "code",
   "execution_count": null,
   "metadata": {
    "colab": {
     "base_uri": "https://localhost:8080/"
    },
    "id": "J0n-6t5oss7H",
    "outputId": "991218bf-424b-42d2-c2e5-94b34c474799"
   },
   "outputs": [],
   "source": [
    "qreg_q = QuantumRegister(2,'q' )\n",
    "creg_c = ClassicalRegister(2,'c')\n",
    "\n",
    "qc = QuantumCircuit(qreg_q,creg_c)\n",
    "\n",
    "qc.h(qreg_q[0])\n",
    "qc.h(qreg_q[1])\n",
    "qc.measure(qreg_q[0],creg_c[0])\n",
    "\n",
    "print(qc.qasm())"
   ]
  },
  {
   "cell_type": "markdown",
   "metadata": {
    "id": "mmFBSZz4B5wQ"
   },
   "source": [
    "The function **qasm**, part of the QuantumCircuit class, returns a string that contains all of the instructions stored in a QuantumCircuit. When printed, this string gives us a nice and easy to read visualization of our algorithm.\n",
    "\n",
    "By using the argument **name**, we can assign customized names as shown above. If we are designing an algorithm that may have multiple registers or quantum circuits, this will be very important."
   ]
  },
  {
   "cell_type": "markdown",
   "metadata": {
    "id": "LIqBIKXcEy9g"
   },
   "source": [
    "### **data**"
   ]
  },
  {
   "cell_type": "code",
   "execution_count": null,
   "metadata": {
    "colab": {
     "base_uri": "https://localhost:8080/"
    },
    "id": "KwUZQ4oxD9j7",
    "outputId": "20af9700-c309-4b4b-e0e8-62891f4f37f9"
   },
   "outputs": [],
   "source": [
    "qreg_q = QuantumRegister(2 ,name= 'q')\n",
    "creg_c = ClassicalRegister(2 ,name= 'c')\n",
    "\n",
    "qc = QuantumCircuit(qreg_q,creg_c)\n",
    "\n",
    "qc.h(qreg_q[0])\n",
    "qc.h(qreg_q[1])\n",
    "qc.measure(qreg_q[0],creg_c[0])\n",
    "\n",
    "print(\"Outfrom from data function: \" , qc.data)"
   ]
  },
  {
   "cell_type": "markdown",
   "metadata": {
    "id": "2ZAWOOhiE4PV"
   },
   "source": [
    "### **qregs**"
   ]
  },
  {
   "cell_type": "code",
   "execution_count": null,
   "metadata": {
    "colab": {
     "base_uri": "https://localhost:8080/"
    },
    "id": "3cPg_D02EcWK",
    "outputId": "724428d2-ed92-44db-fa97-4a87840fcfb0"
   },
   "outputs": [],
   "source": [
    "qreg_q = QuantumRegister(2 ,name= 'q')\n",
    "creg_c = ClassicalRegister(2 ,name= 'c')\n",
    "\n",
    "qc = QuantumCircuit(qreg_q,creg_c)\n",
    "\n",
    "qc.h(qreg_q[0])\n",
    "qc.h(qreg_q[1])\n",
    "qc.measure(qreg_q[0],creg_c[0])\n",
    "\n",
    "print(\"Outfrom from qregs function: \" , qc.qregs)"
   ]
  },
  {
   "cell_type": "markdown",
   "metadata": {
    "id": "-RYkmEWHE9KB"
   },
   "source": [
    "### **cregs**"
   ]
  },
  {
   "cell_type": "code",
   "execution_count": null,
   "metadata": {
    "colab": {
     "base_uri": "https://localhost:8080/"
    },
    "id": "8AaSLjl1Em_5",
    "outputId": "11e30424-84ff-4b31-bfe4-c663ce82ca81"
   },
   "outputs": [],
   "source": [
    "qreg_q = QuantumRegister(2 ,name= 'q')\n",
    "creg_c = ClassicalRegister(2 ,name= 'c')\n",
    "\n",
    "qc = QuantumCircuit(qreg_q,creg_c)\n",
    "\n",
    "qc.h(qreg_q[0])\n",
    "qc.h(qreg_q[1])\n",
    "qc.measure(qreg_q[0],creg_c[0])\n",
    "\n",
    "print(\"Outfrom from cregs function: \" , qc.cregs)"
   ]
  },
  {
   "cell_type": "markdown",
   "metadata": {
    "id": "Ilruc95IDlFp"
   },
   "source": [
    "The code above contains four different functions that can all be used to extract information from a QuantumCircuit. These are\n",
    "very useful for debugging code, and we encourage you to try them all out."
   ]
  },
  {
   "cell_type": "markdown",
   "metadata": {
    "id": "nAQ70b1XDk8_"
   },
   "source": [
    "To summarize what each function does:\n",
    "\n",
    "1. **qasm** - function for printing everything about a QuantumCircuit object\n",
    "2. **data** - returns a list object that contains all of the gate / measurement instructions\n",
    "3. **qregs** - returns a list containing all of the quantum registers\n",
    "4. **cregs** - returns a list containing all of the classical registers"
   ]
  },
  {
   "cell_type": "markdown",
   "metadata": {
    "id": "3zmx9YX-Dkgo"
   },
   "source": [
    "## **Sharing Registers**\n",
    "***"
   ]
  },
  {
   "cell_type": "markdown",
   "metadata": {
    "id": "CQRCaXsTY_oD"
   },
   "source": [
    "Now suppose we are working with an algorithm that utilizes multiple QuantumCircuits. Qiskit allows us to have QuantumCircuit objects interact in a variety of ways, so long as we are careful in defining which registers are a part of which circuits. For example, let’s start with two QuantumCircuits that have no interaction:"
   ]
  },
  {
   "cell_type": "code",
   "execution_count": null,
   "metadata": {
    "colab": {
     "base_uri": "https://localhost:8080/"
    },
    "id": "s35eJzDXZH0B",
    "outputId": "91cc0c82-d768-4dd6-9e55-b06c1d179662"
   },
   "outputs": [],
   "source": [
    "qreg_q1 = QuantumRegister(1 ,name= 'q1')\n",
    "creg_c1 = ClassicalRegister(1 ,name= 'c1')\n",
    "qc1 = QuantumCircuit(qreg_q1,creg_c1)\n",
    "\n",
    "qreg_q2 = QuantumRegister(1 ,name= 'q2')\n",
    "creg_c2 = ClassicalRegister(1 ,name= 'c2')\n",
    "qc2 = QuantumCircuit(qreg_q2,creg_c2)\n",
    "\n",
    "qc1.h(qreg_q1[0])\n",
    "qc1.measure(qreg_q1[0], creg_c1[0])\n",
    "\n",
    "qc2.h(qreg_q2[0])\n",
    "\n",
    "print(qc1.qasm())\n",
    "\n",
    "print(qc2.qasm())"
   ]
  },
  {
   "cell_type": "markdown",
   "metadata": {
    "id": "S2krMmpnZXi4"
   },
   "source": [
    "Nothing too special here. Just two circuits defined parallel to each other. We could choose to pass either of them to a simulator, and their results would be completely independent.\n",
    "\n",
    "\n",
    "Now, there are a couple ways we can have our two QuantumCircuits interact. For example, we can take measurement results from one circuit (after running it on a simulator) and store them in the other’s ClassicalRegister, or have one circuit apply gate operations on the other’s qubits. BUT, in order to do these kinds of things, we must give each QuantumCircuit access to each other’s registers:"
   ]
  },
  {
   "cell_type": "code",
   "execution_count": null,
   "metadata": {
    "colab": {
     "base_uri": "https://localhost:8080/"
    },
    "id": "5vap7XTaaADa",
    "outputId": "f7314e13-74be-4874-83bb-3c62626dcbfe"
   },
   "outputs": [],
   "source": [
    "qreg_q1 = QuantumRegister(1 ,name= 'q1')\n",
    "creg_c1 = ClassicalRegister(1 ,name= 'c1')\n",
    "qc1 = QuantumCircuit(qreg_q1,creg_c1)\n",
    "\n",
    "qreg_q2 = QuantumRegister(1 ,name= 'q2')\n",
    "creg_c2 = ClassicalRegister(1 ,name= 'c2')\n",
    "qc2 = QuantumCircuit(qreg_q2,creg_c2)\n",
    "\n",
    "qc1.add_register(creg_c2)\n",
    "qc2.add_register(qreg_q1)\n",
    "\n",
    "qc1.h(qreg_q1[0])\n",
    "qc2.h(qreg_q2[0])\n",
    "qc1.measure(qreg_q1[0], creg_c2[0])\n",
    "\n",
    "qc2.h(qreg_q1[0])\n",
    "\n",
    "print(qc1.qasm())\n",
    "\n",
    "print(qc2.qasm())"
   ]
  },
  {
   "cell_type": "markdown",
   "metadata": {
    "id": "iVoqkRd6bDx4"
   },
   "source": [
    "Take a careful look at these two QuantumCircuits. In ’qc1’, we make sure to include the ClassicalRegister ’creg_2’, so that we can store our measurement result:\n",
    "\n",
    "***\n",
    "’measure qreg_q1[0] -> creg_c2[0]’\n",
    "***\n",
    "\n",
    "In ’qc2’, we do the same thing for the QuantumRegister ’qreg_q1’, so that we can apply a Hadamard gate:\n",
    "\n",
    "***\n",
    "’qc2.h(qreg_q1[0])’.\n",
    "***\n",
    "\n"
   ]
  },
  {
   "cell_type": "markdown",
   "metadata": {
    "id": "VKTzm4_dcj6y"
   },
   "source": [
    "When we go to print each QuantumCircuit with **qasm**, sure enough, we can see that both QuantumCircuit objects have access to the registers we specified. The function that allows us to do this is **add_register**, which belongs to the QuantumCircuit class, taking a register of either type as an argument."
   ]
  },
  {
   "cell_type": "markdown",
   "metadata": {
    "id": "-K74EJe4JNpV"
   },
   "source": [
    "## **Combining QuantumCircuits**\n",
    "***"
   ]
  },
  {
   "cell_type": "code",
   "execution_count": null,
   "metadata": {
    "colab": {
     "base_uri": "https://localhost:8080/"
    },
    "id": "M5LfYgpbW82G",
    "outputId": "a356ee59-04b2-46c3-9e13-7343e4d82ace"
   },
   "outputs": [],
   "source": [
    "qreg_q1 = QuantumRegister(2 ,name= 'q1')\n",
    "creg_c1 = ClassicalRegister(2 ,name= 'c1')\n",
    "qc1 = QuantumCircuit(qreg_q1,creg_c1)\n",
    "\n",
    "qreg_q2 = QuantumRegister(2 ,name= 'q2')\n",
    "creg_c2 = ClassicalRegister(2 ,name= 'c2')\n",
    "qc2 = QuantumCircuit(qreg_q2,creg_c2)\n",
    "\n",
    "qc1.h(qreg_q1[0])\n",
    "qc1.h(qreg_q1[1])\n",
    "\n",
    "qc2.h(qreg_q2[0])\n",
    "qc2.h(qreg_q2[1])\n",
    "\n",
    "qc3 = qc1 + qc2\n",
    "\n",
    "print(qc3.qasm())\n",
    "\n",
    "qc1 += qc2\n",
    "print(qc1.qasm())\n",
    "qc3.draw('mpl')"
   ]
  },
  {
   "cell_type": "markdown",
   "metadata": {
    "id": "XWGSkg1_Wuwt"
   },
   "source": [
    "Both cases in this example produce the same final QuantumCircuit, combining ’qc1’ and ’qc2’. The difference between them, is that in the first case we store the combination of ’qc1 + qc2’ as a new QuantumCircuit, called ’qc3’. In the second case, we actually append all of the instructions stored in ’qc2’, into ’qc1’.\n",
    "\n",
    "Thus, the + functionality combines two QuantumCircuits, to then be stored in whatever variable we choose, leaving both of the original circuits unchanged. Conversely, += appends all of the instructions from the second circuit onto the first, leaving the second QuantumCircuit unaltered.\n",
    "\n",
    "\n",
    "Also note that + and += both add the registers as well as the instructions. In both cases, we can see all of the quantum and classical registers are present in the final QuantumCircuits. If we add together multiple QuantumCircuits that share access to same registers, or call upon different ones, these functions will automatically handle things so that the final QuantumCircuit has access to all of the necessary registers."
   ]
  },
  {
   "cell_type": "markdown",
   "metadata": {
    "id": "wZKM-sFGwkZ5"
   },
   "source": [
    "## **Multiple Qubit Gates**\n",
    "***"
   ]
  },
  {
   "cell_type": "markdown",
   "metadata": {
    "id": "cKj3zXmZNfzj"
   },
   "source": [
    "|Names | Example | Notes |\n",
    "--- | --- | --- |\n",
    "|CX, CNOT|qc.cx(0,1) or qc.cnot(0,1)|Applies the X gate to quantum wire 1, subject to the state of the control qubit on wire 0.|\n",
    "|Swap|qc.swap(0,1)|Swaps the qubit states of wires 0 and 1.|\n",
    "|CCX, Toffoli|qc.ccx(0,1,2)|Applies the X gate to quantum wire 2, subject to the state of the control qubits on wires 0 and 1.|\n",
    "|CSwap, Fredkin|qc.cswap(0,2,3) or qc.fredkin(0,2,3)|Swaps the qubit states of wires 2 and 3, subject to the state of the control qubit on wire 0.|\n",
    "|CH|qc.ch(0,1)|Applies the H gate to quantum wire 1, subject to the state of the control qubit on wire 0.|\n",
    "|CP, Control-Phase|qc.cp(math.pi/4,0,1)|Applies the phase gate to quantum wire 1, subject to the state of the control qubit on wire 0.|\n",
    "|CRX, Control-RX|qc.crx(math.pi/2,2,3)|Applies the RX gate to quantum wire 3, subject to the state of the control qubit on wire 2.|\n",
    "|CRY, Control-RY|qc.cry(math.pi/8,2,3)|Applies the RY gate to quantum wire 3, subject to the state of the control qubit on wire 2.|\n",
    "|CRZ|qc.crz(math.pi/4,0,1)|Applies the RZ gate to quantum wire 1, subject to the state of the control qubit on wire 0.|\n",
    "|CSX|qc.csx(0,1)|Applies the SX (square root of X) gate to quantum wire 1, subject to the state of the control qubit on wire 0.|\n",
    "|CU|qc.cu(math.pi/2,0,math.pi,0,0,1)|Applies the U gate with an additional global phase argument to quantum wire 1, subject to the state of the control qubit on wire 0.|\n",
    "|CY, Control-Y|qc.cy(2,3)|Applies the Y gate to quantum wire 3, subject to the state of the control qubit on wire 2.|\n",
    "|CZ, Control-Z|qc.cz(1,2)|Applies the Z gate to quantum wire 2, subject to the state of the control qubit on wire 1.|\n",
    "|DCX|qc.dcx(2,3)|Applies two CNOT gates whose control qubits are on wires 2 and 3.|\n",
    "|iSwap|qc.iswap(0,1)|Swaps the qubit states of wires 0 and 1, and changes the phase of the $|01⟩$ and $|10⟩$ and  amplitudes by i.|\n",
    "|MCP, Multi-control phase|qc.mcp(math.pi/4, [0,1,2],3)|Applies the phase gate to quantum wire 3, subject to the state of the control qubits on wires 0, 1, and 2.|\n",
    "|MCX, Multi-control X|qc.mcx([0,1,2],3)|Applies the X gate to quantum wire 3, subject to the state of the control qubits on wires 0, 1, and 2.|"
   ]
  },
  {
   "cell_type": "markdown",
   "metadata": {
    "id": "g-Hy_9zZRjLa"
   },
   "source": [
    "List of commonly used multiple-qubit gates in Qiskit"
   ]
  },
  {
   "cell_type": "markdown",
   "metadata": {
    "id": "exoB2co3iRcC"
   },
   "source": [
    "# References\n",
    "1. For additional details about the single qubit gates in Qiskit, you can refer to the Qiskit Textbook's section on the Single Qubit Gates here: \n",
    "https://qiskit.org/textbook/ch-states/single-qubit-gates.html \n",
    "2. For additional details about visualize_transition, you can refer to the implementation of visualize_transition dunction in Qiskit code here:\n",
    "https://github.com/Qiskit/qiskit-terra/blob/main/qiskit/visualization/transition_visualization.py "
   ]
  },
  {
   "cell_type": "code",
   "execution_count": null,
   "metadata": {},
   "outputs": [],
   "source": []
  }
 ],
 "metadata": {
  "colab": {
   "collapsed_sections": [
    "LIqBIKXcEy9g",
    "2ZAWOOhiE4PV",
    "-RYkmEWHE9KB",
    "O06yNjS_sPS6",
    "w278BJn6uUya"
   ],
   "name": "Lab2_Part1.ipynb",
   "provenance": [],
   "toc_visible": true
  },
  "kernelspec": {
   "display_name": "Python 3 (ipykernel)",
   "language": "python",
   "name": "python3"
  },
  "language_info": {
   "codemirror_mode": {
    "name": "ipython",
    "version": 3
   },
   "file_extension": ".py",
   "mimetype": "text/x-python",
   "name": "python",
   "nbconvert_exporter": "python",
   "pygments_lexer": "ipython3",
   "version": "3.7.11"
  }
 },
 "nbformat": 4,
 "nbformat_minor": 1
}
