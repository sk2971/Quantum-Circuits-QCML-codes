{
 "cells": [
  {
   "cell_type": "markdown",
   "metadata": {
    "id": "pyr3BGMogAIn"
   },
   "source": [
    "In order to make sure that all cells of code run properly throughout this lesson, please run the following cell of code below:"
   ]
  },
  {
   "cell_type": "code",
   "execution_count": 1,
   "metadata": {
    "id": "xHfdXj6dgEEg"
   },
   "outputs": [],
   "source": [
    "from qiskit import ClassicalRegister, QuantumRegister, QuantumCircuit, Aer, execute \n",
    "from qiskit.visualization import plot_histogram\n",
    "\n",
    "import math as m \n",
    "\n",
    "S_simulator = Aer.backends(name='statevector_simulator')[0]\n",
    "\n",
    "M_simulator = Aer.backends(name='qasm_simulator')[0]"
   ]
  },
  {
   "cell_type": "code",
   "execution_count": 2,
   "metadata": {
    "id": "Q6cganVbgERG"
   },
   "outputs": [],
   "source": [
    "def Binary(N,total,LSB):\n",
    "  '''\n",
    "  Input: N (integer) total (integer) LSB (string)\n",
    "  Returns the base-2 binary equivilant of N according to left or right least significant bit notation\n",
    "  '''\n",
    "  qubits = int(m.log(total, 2))\n",
    "  b_num = np.zeros(qubits)\n",
    "  for i in np.arange(qubits):\n",
    "    if( N/((2)**(qubits-i-1)) >= 1):\n",
    "      if (LSB == 'R'):\n",
    "        b_num[i] = 1\n",
    "      if(LSB== 'L'):\n",
    "        b_num[int(qubits-(i+1))] = 1\n",
    "      N = N - 2**(qubits-i-1)\n",
    "  B = []\n",
    "  for j in np.arange(len(b_num)): \n",
    "    B.append(int(b_num[j]))\n",
    "  return B"
   ]
  },
  {
   "cell_type": "code",
   "execution_count": 3,
   "metadata": {
    "id": "8QNThc84gEdr"
   },
   "outputs": [],
   "source": [
    "'''\n",
    "Do not worry about the length of this code block.\n",
    "You dont need to understand this code.\n",
    "It is only to help you view the wavefunction in a better way\n",
    "'''\n",
    "import numpy as np\n",
    "import scipy as sci\n",
    "\n",
    "def Wavefunction( obj, *args, **kwargs):\n",
    "  '''\n",
    "  Displays the wavefunction of the quantum system\n",
    "  '''\n",
    "  if(type(obj) == QuantumCircuit ):\n",
    "    statevec = execute( obj, S_simulator, shots=1 ).result().get_statevector() \n",
    "  if(type(obj) == np.ndarray):\n",
    "    statevec = obj\n",
    "  sys = False\n",
    "  NL = False\n",
    "  dec = 5\n",
    "  if 'precision' in kwargs:\n",
    "    dec = int(kwargs['precision'] )  \n",
    "  if 'column' in kwargs:  \n",
    "    NL = kwargs['column']\n",
    "  if 'systems' in kwargs:\n",
    "    systems=kwargs['systems']\n",
    "    sys = True\n",
    "    last_sys= int(len(systems)-1)\n",
    "    show_systems = []\n",
    "    for s_chk in np.arange(len(systems)): \n",
    "      if( type(systems [s_chk])!=int ):\n",
    "        raise Exception('systems must be an array of all integers')\n",
    "    if 'show_systems' in kwargs: \n",
    "      show_systems = kwargs['show_systems']\n",
    "      if(len(systems)!=len (show_systems) ):\n",
    "        raise Exception('systems and show_systems need to be arrays of equal length')\n",
    "      for ls in np.arange(len(show_systems)): \n",
    "        if((show_systems [ ls]!=True) and (show_systems [ ls] !=False)): \n",
    "          raise Exception('show_systems must be an array of Truth Values') \n",
    "        if(show_systems [ ls] ==True): \n",
    "          last_sys= int(ls)\n",
    "\n",
    "    else:\n",
    "      for ss in np.arange(len(systems)): \n",
    "        show_systems.append(True)\n",
    "  wavefunction = ''\n",
    "  qubits = int(m.log(len(statevec),2))\n",
    "  for i in np.arange( int(len(statevec)) ): \n",
    "    value = round(statevec[int(i)].real, dec) + round(statevec[int(i)].imag, dec) * 1j\n",
    "    if( (value.real!=0) or (value.imag!=0)): \n",
    "      state= list(Binary(int(i), int(2**qubits),'L'))\n",
    "      state_str = ''\n",
    "      if( sys == True ):    #Systems and Show Systems\n",
    "        k = 0 \n",
    "        for s in np.arange(len(systems)):\n",
    "          if(show_systems [s]==True):\n",
    "            if(int(s)!=last_sys):\n",
    "              state.insert(int(k+systems [s]), '>|' ) \n",
    "              k = int(k+systems[s]+1)\n",
    "            else:\n",
    "              k = int(k+systems[s])\n",
    "          else:\n",
    "            for s2 in np.arange(systems [s]): \n",
    "              del state[int(k)]\n",
    "      for j in np.arange(len(state)):\n",
    "        if(type(state[j])!=str):\n",
    "          state_str = state_str+str(int(state[j]))\n",
    "        else:\n",
    "          state_str = state_str+state[j]\n",
    "      if ((value.real!=0) and (value.imag!=0)):\n",
    "        if( value.imag> 0):\n",
    "          wavefunction = wavefunction + str(value.real) + '+' + str(value.imag) + 'j |' + state_str + '>   '\n",
    "        else:\n",
    "          wavefunction = wavefunction + str(value.real) +'' + str(value.imag) + 'j |' + state_str + '>    '\n",
    "      if( (value.real!=0) and (value.imag==0)): \n",
    "        wavefunction = wavefunction +str(value.real)+' |'+state_str +'>     '\n",
    "      if((value.real==0) and (value.imag!=0)): \n",
    "        wavefunction = wavefunction +str(value.imag)+'j |'+state_str+ '>     '\n",
    "      if (NL):\n",
    "        wavefunction = wavefunction + '\\n'\n",
    "  print(wavefunction)\n"
   ]
  },
  {
   "cell_type": "markdown",
   "metadata": {
    "id": "cmorZqCXScyN"
   },
   "source": [
    "# **Higher Order Control Gates**\n",
    "***\n",
    "\n",
    "The functions that we are about to study will be used very frequently in the coming lab lessons, but not necessarily always\n",
    "on display. In particular, many of the algorithms we will study in future labs will require higher order control gates as a smaller\n",
    "component. As we saw in one of the initial lab sessions,\n",
    "Qiskit’s standard gates only comes with a handful of control gates. In particular, the largest of which use two control qubits\n",
    "(CCNOT). While the gates provided by Qiskit are all that we need for a universal set, it will be helpful to define our own\n",
    "function for constructing these higher order control gates."
   ]
  },
  {
   "cell_type": "markdown",
   "metadata": {
    "id": "DlNJJPVDTELw"
   },
   "source": [
    "## **The Stratergy**\n",
    "***\n",
    "The way we are going to construct our higher order control gates is a straightforward strategy, using only CCNOT and CNOT\n",
    "gates. **This approach is by no means optimal for many cases, but it is a good foundation for how a higher order control gate\n",
    "should function**.\n",
    "\n",
    "The major hurdle to overcome is that we must use the conditions on N qubits in order to invoke a single operation. A single\n",
    "CCNOT gate can only take two control qubits at a time, thus leaving us well short of our goal. However, the trick to this strategy will be to use the aid of ancilla qubits. In essence, these ancilla qubits will allow us to temporarily store information about our\n",
    "control qubits, and ultimately determine whether or not to apply the operation.\n",
    "\n"
   ]
  },
  {
   "cell_type": "code",
   "execution_count": 20,
   "metadata": {},
   "outputs": [
    {
     "name": "stdout",
     "output_type": "stream",
     "text": [
      "state 1:  [1, 1, 1, 1]  ancilla 1: [1, 1]\n",
      "state 2:  [1, 1, 1, 0]  ancilla 2: [1, 0]\n"
     ]
    }
   ],
   "source": [
    "def CCCC_NOT(q):\n",
    "\n",
    "    anc = []\n",
    "    for i in np.arange(2):\n",
    "        s = 2*i\n",
    "        if( (q[s]==1) and (q[s+1]==1) ):\n",
    "            anc.append(1)\n",
    "        else:\n",
    "            anc.append(0)\n",
    "    return anc\n",
    "\n",
    "state1 = [1,1,1,1] \n",
    "state2 = [1,1,1,0]\n",
    "\n",
    "anc1 = CCCC_NOT (state1)\n",
    "anc2 = CCCC_NOT(state2)\n",
    "\n",
    "print('state 1: ',state1,' ancilla 1:',anc1)\n",
    "print('state 2: ',state2,' ancilla 2:', anc2)  "
   ]
  },
  {
   "cell_type": "markdown",
   "metadata": {
    "id": "O_kFmPHTaZia"
   },
   "source": [
    "In this example, we can see that ’state1’ results in the state of all 1’s for the ancilla system, while ’state2’ results in a 0 for\n",
    "the second ancilla qubit. If we were to use these two ancilla qubits as the control qubits for a CCNOT, the first system would\n",
    "receive the operation, while the second wouldn’t. If we compare this result to our initial states, we would have achieved exactly\n",
    "a 4-qubit control gate: the state |1111⟩ receives the operation while the state |1110⟩ does not.\n",
    "\n",
    "The key point to this example is the way in which we reduced our 4-qubit problem down to 2. Specifically, we work through\n",
    "our control qubits in groups of 2, putting an ancilla qubit in the state |1⟩ or |0⟩ depending on if the two control qubits are in the\n",
    "state |11⟩ or not. For our quantum code, we are going to invoke this strategy using CCNOT gates to reduce the dimension of our\n",
    "problem by 1 per CCNOT gate, until we eventually arrive at only 2 ancilla qubits:"
   ]
  },
  {
   "cell_type": "markdown",
   "metadata": {
    "id": "-YDSl0YhaaLs"
   },
   "source": [
    "![image.png](data:image/png;base64,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)"
   ]
  },
  {
   "cell_type": "markdown",
   "metadata": {
    "id": "wadc1xEzbR5k"
   },
   "source": [
    "In this diagram, each layer moving downward holds the information about the preceding layer, where the control qubits are\n",
    "the highest layer (and ultimately the source of the operation). The junctions connecting two qubits in the diagram represent\n",
    "a CCNOT gate, where the resulting state of the ancilla qubit is |1⟩ if both control qubits are in the |1⟩ state, and a |0⟩\n",
    "if either of the controlling qubits are in the state |0⟩. Using this recursive process, if a single qubit from the highest layer\n",
    "is in the |0⟩ state, it will trickle down all the way to the final layer, which in turn will mean the control-operation does not happen.\n",
    "\n",
    "Now, in order for this strategy to work, we need all of the ancilla qubits to be initialized in the state |0⟩. This is because each\n",
    "operation is a CCNOT gate, which is effectively a 2-qubit control X gate. Thus, in order for this CCNOT gate to leave the target ancilla qubits in the state |1⟩, only when control qubits are in the |1⟩ state, the target qubit must initially be in the |0⟩ state.\n",
    "\n",
    "In total, in order to condense the information of N control qubits down to two ancilla qubits, we require N − 2 ancilla qubits.\n",
    "From there, if we wish to combine these two final ancilla qubits down to one, for a single qubit control gate, we will require 1\n",
    "additional ancilla qubit, bringing our total to N − 1.\n",
    "\n",
    "Now, requiring up to N − 1 ancilla qubits just to perform an operation on N qubits may seem like a steep price to pay.\n",
    "Truthfully, it is. Qubits are not exactly plentiful on current quantum computers, which makes this general strategy a little too\n",
    "resource intensive to be practical in most cases. However, this is a problem to keep in mind, but ignore for the time being. Our\n",
    "goal in these lessons is to learn the basics of quantum algorithms, not solve current research efforts (that’s your job afterwards).\n",
    "In the coming lessons we will be using this higher order control strategy frequently, because we have the luxury of using\n",
    "simulated qubits.\n",
    "\n",
    "Now then, let’s take a look at what the diagram above looks like in terms of a quantum circuit diagram, using N = 4 as our\n",
    "example"
   ]
  },
  {
   "cell_type": "markdown",
   "metadata": {
    "id": "gOC3RqsPbSIC"
   },
   "source": [
    "![image.png](data:image/png;base64,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)"
   ]
  },
  {
   "cell_type": "markdown",
   "metadata": {
    "id": "Pp6iJ4p9bSPm"
   },
   "source": [
    "In this diagram, we are performing the general N -control gate strategy. By using three ancilla qubits, we are able to condense\n",
    "the information of all the states stored on our 4-qubit system, down to a single control ancilla. The operator U in the diagram\n",
    "represents any single control gate we’ve already seen thus far in 2nd lab lession. As an example, let’s implement this diagram in code,\n",
    "replacing U with a control-Z gate:"
   ]
  },
  {
   "cell_type": "code",
   "execution_count": 21,
   "metadata": {
    "id": "djInT4SLf0ZY"
   },
   "outputs": [
    {
     "name": "stdout",
     "output_type": "stream",
     "text": [
      " _ Inital State _ \n",
      "0.25 |0000>|000>     \n",
      "0.25 |1000>|000>     \n",
      "0.25 |0100>|000>     \n",
      "0.25 |1100>|000>     \n",
      "0.25 |0010>|000>     \n",
      "0.25 |1010>|000>     \n",
      "0.25 |0110>|000>     \n",
      "0.25 |1110>|000>     \n",
      "0.25 |0001>|000>     \n",
      "0.25 |1001>|000>     \n",
      "0.25 |0101>|000>     \n",
      "0.25 |1101>|000>     \n",
      "0.25 |0011>|000>     \n",
      "0.25 |1011>|000>     \n",
      "0.25 |0111>|000>     \n",
      "0.25 |1111>|000>     \n",
      "\n",
      "\n",
      " After CCCZ _\n",
      "0.25 |0000>|000>     \n",
      "0.25 |1000>|000>     \n",
      "0.25 |0100>|000>     \n",
      "0.25 |0010>|000>     \n",
      "0.25 |1010>|000>     \n",
      "0.25 |0110>|000>     \n",
      "0.25 |0001>|000>     \n",
      "0.25 |1001>|000>     \n",
      "0.25 |0101>|000>     \n",
      "0.25 |1100>|100>     \n",
      "0.25 |1110>|100>     \n",
      "0.25 |1101>|100>     \n",
      "0.25 |0011>|010>     \n",
      "0.25 |1011>|010>     \n",
      "0.25 |0111>|010>     \n",
      "-0.25 |1111>|111>     \n",
      "\n"
     ]
    },
    {
     "name": "stderr",
     "output_type": "stream",
     "text": [
      "/home/akash/anaconda3/envs/dangal/lib/python3.7/site-packages/ipykernel_launcher.py:46: DeprecationWarning: The return type of saved statevectors has been changed from a `numpy.ndarray` to a `qiskit.quantum_info.Statevector` as of qiskit-aer 0.10. Accessing numpy array attributes is deprecated and will result in an error in a future release. To continue using saved result objects as arrays you can explicitly cast them using  `np.asarray(object)`.\n",
      "/home/akash/anaconda3/envs/dangal/lib/python3.7/site-packages/ipykernel_launcher.py:47: DeprecationWarning: The return type of saved statevectors has been changed from a `numpy.ndarray` to a `qiskit.quantum_info.Statevector` as of qiskit-aer 0.10. Accessing numpy array attributes is deprecated and will result in an error in a future release. To continue using saved result objects as arrays you can explicitly cast them using  `np.asarray(object)`.\n"
     ]
    }
   ],
   "source": [
    "q =  QuantumRegister(7, name='q')\n",
    "\n",
    "qc = QuantumCircuit(q, name='qc')\n",
    "\n",
    "qc.h( q[0] )\n",
    "qc.h( q[1] )\n",
    "qc.h( q[2])\n",
    "qc.h( q[3] )\n",
    "qc.id( q[4])\n",
    "qc.id( q[5])\n",
    "qc.id( q[6])\n",
    "\n",
    "print(' _ Inital State _ ') \n",
    "Wavefunction(qc, systems=[4,3], column=True)\n",
    "\n",
    "qc.ccx( q[0], q[1], q[4] )\n",
    "qc.ccx( q[2], q[3], q[5])\n",
    "qc.ccx( q[4], q[5], q[6] ) \n",
    "qc.cz( q[6], q[0] )\n",
    "\n",
    "print('\\n After CCCZ _') \n",
    "Wavefunction(qc, systems=[4,3], column=True)"
   ]
  },
  {
   "cell_type": "markdown",
   "metadata": {
    "id": "GEgK9Ne9fFeP"
   },
   "source": [
    "Success, the code above successfully picks out the |1111⟩ state and applies a control-Z gate. In this code, we’ve arbitrarily\n",
    "chosen to apply the CZ gate to qubit 0, but any of them will result in the same effect. This is because only the state |1111⟩ will\n",
    "pick up the effect, which correspondingly means any of the qubits in this state are candidates to be the target qubit."
   ]
  },
  {
   "cell_type": "markdown",
   "metadata": {
    "id": "A_8GOANOnKfU"
   },
   "source": [
    "While the coding example above works as intended, there is one detail we’ve overlooked. Namely, the final state of all our\n",
    "ancilla qubits. Take a look at the results above, and notice which ancilla qubits are in the |1⟩ and |0⟩ states. If there were no\n",
    "further steps in our algorithm, we could in principle leave them as they are currently, since they do not affect a measurement on\n",
    "the main system. But if we wanted to apply any further steps, the fact that all of the states in the system have varying ancilla\n",
    "states is problematic. Specifically, states in our main system will no longer undergo superpositions as we may intend.\n",
    "\n",
    "The remedy for this problem is that we need to return all of the ancilla qubits back to their original state of all 0’s. To do this,\n",
    "we need only apply all of the CCNOT gates in reverse:"
   ]
  },
  {
   "cell_type": "code",
   "execution_count": 22,
   "metadata": {
    "id": "vDMf86S7nmSS"
   },
   "outputs": [
    {
     "name": "stdout",
     "output_type": "stream",
     "text": [
      " _ Inital State _ \n",
      "0.25 |0000>|000>     \n",
      "0.25 |1000>|000>     \n",
      "0.25 |0100>|000>     \n",
      "0.25 |1100>|000>     \n",
      "0.25 |0010>|000>     \n",
      "0.25 |1010>|000>     \n",
      "0.25 |0110>|000>     \n",
      "0.25 |1110>|000>     \n",
      "0.25 |0001>|000>     \n",
      "0.25 |1001>|000>     \n",
      "0.25 |0101>|000>     \n",
      "0.25 |1101>|000>     \n",
      "0.25 |0011>|000>     \n",
      "0.25 |1011>|000>     \n",
      "0.25 |0111>|000>     \n",
      "0.25 |1111>|000>     \n",
      "\n",
      "\n",
      " After CCCZ _\n",
      "0.25 |0000>|000>     \n",
      "0.25 |1000>|000>     \n",
      "0.25 |0100>|000>     \n",
      "0.25 |0010>|000>     \n",
      "0.25 |1010>|000>     \n",
      "0.25 |0110>|000>     \n",
      "0.25 |0001>|000>     \n",
      "0.25 |1001>|000>     \n",
      "0.25 |0101>|000>     \n",
      "0.25 |1100>|100>     \n",
      "0.25 |1110>|100>     \n",
      "0.25 |1101>|100>     \n",
      "0.25 |0011>|010>     \n",
      "0.25 |1011>|010>     \n",
      "0.25 |0111>|010>     \n",
      "-0.25 |1111>|111>     \n",
      "\n",
      "\n",
      " Reverse All  CCNOTs _\n",
      "0.25 |0000>|000>     \n",
      "0.25 |1000>|000>     \n",
      "0.25 |0100>|000>     \n",
      "0.25 |1100>|000>     \n",
      "0.25 |0010>|000>     \n",
      "0.25 |1010>|000>     \n",
      "0.25 |0110>|000>     \n",
      "0.25 |1110>|000>     \n",
      "0.25 |0001>|000>     \n",
      "0.25 |1001>|000>     \n",
      "0.25 |0101>|000>     \n",
      "0.25 |1101>|000>     \n",
      "0.25 |0011>|000>     \n",
      "0.25 |1011>|000>     \n",
      "0.25 |0111>|000>     \n",
      "-0.25 |1111>|000>     \n",
      "\n"
     ]
    },
    {
     "name": "stderr",
     "output_type": "stream",
     "text": [
      "/home/akash/anaconda3/envs/dangal/lib/python3.7/site-packages/ipykernel_launcher.py:46: DeprecationWarning: The return type of saved statevectors has been changed from a `numpy.ndarray` to a `qiskit.quantum_info.Statevector` as of qiskit-aer 0.10. Accessing numpy array attributes is deprecated and will result in an error in a future release. To continue using saved result objects as arrays you can explicitly cast them using  `np.asarray(object)`.\n",
      "/home/akash/anaconda3/envs/dangal/lib/python3.7/site-packages/ipykernel_launcher.py:47: DeprecationWarning: The return type of saved statevectors has been changed from a `numpy.ndarray` to a `qiskit.quantum_info.Statevector` as of qiskit-aer 0.10. Accessing numpy array attributes is deprecated and will result in an error in a future release. To continue using saved result objects as arrays you can explicitly cast them using  `np.asarray(object)`.\n"
     ]
    }
   ],
   "source": [
    "q =  QuantumRegister(7, name='q')\n",
    "qc = QuantumCircuit(q, name='qc')\n",
    "\n",
    "qc.h( q[0] )\n",
    "qc.h( q[1] )\n",
    "qc.h( q[2])\n",
    "qc.h( q[3] )\n",
    "qc.id( q[4])\n",
    "qc.id( q[5])\n",
    "qc.id( q[6])\n",
    "\n",
    "print(' _ Inital State _ ') \n",
    "Wavefunction(qc, systems=[4,3], column=True)\n",
    "\n",
    "qc.ccx( q[0], q[1], q[4] )\n",
    "qc.ccx( q[2], q[3], q[5])\n",
    "qc.ccx( q[4], q[5], q[6] ) \n",
    "qc.cz( q[6], q[0] )\n",
    "\n",
    "print('\\n After CCCZ _') \n",
    "Wavefunction(qc, systems=[4,3], column=True)\n",
    "\n",
    "qc.ccx( q[4], q[5], q[6] )\n",
    "qc.ccx( q[2], q[3], q[5])\n",
    "qc.ccx( q[0], q[1], q[4] ) \n",
    "\n",
    "print('\\n Reverse All  CCNOTs _') \n",
    "Wavefunction(qc, systems=[4,3], column=True)"
   ]
  },
  {
   "cell_type": "markdown",
   "metadata": {
    "id": "lV5cmijGnKnS"
   },
   "source": [
    "The example above is the complete 4-qubit control gate template. In general, this same strategy can be expanded to construct\n",
    "any N -control gate.\n",
    "\n",
    "For our coming lab sessions, we will avoid overcrowding our code with all of these steps every time we wish to use such an N -control\n",
    "gate (which will be a lot). Thus, we will instead call upon the n NOT function defined below to to condense our code."
   ]
  },
  {
   "cell_type": "markdown",
   "metadata": {
    "id": "WVTRZIYksz1b"
   },
   "source": [
    "## **n_NOT**\n",
    "***\n",
    "\n",
    "The n_NOT function takes the following arguments:\n",
    "\n",
    "\n",
    "(QuantumCircuit, [control qubits], target qubit, [ancilla qubits])\n",
    "\n",
    "where the brackets indicate that the argument is a list of the integers corresponding to those particular qubits. "
   ]
  },
  {
   "cell_type": "code",
   "execution_count": 28,
   "metadata": {},
   "outputs": [],
   "source": [
    "'''\n",
    "Do not worry about the length of this code block.\n",
    "We have implemented this only to keep things more concrete than abstract.\n",
    "It is a generic implementation of the above defined \n",
    "strategy for any number of control NOTs in the contol gate \n",
    "be it power of 2 or not and odd number as well.\n",
    "Just remember the above the stategy and we are good to go\n",
    "'''\n",
    "\n",
    "def n_NOT(qc, control, target, anc):\n",
    "  '''\n",
    "  performs an n-NOT gate\n",
    "  '''\n",
    "  n = len(control) \n",
    "  instructions = []\n",
    "  active_ancilla = [] \n",
    "  q_unused = []\n",
    "  q = 0\n",
    "  a = 0\n",
    "\n",
    "  while ((n > 0) or (len(q_unused)!=0) or (len(active_ancilla)!=0)):\n",
    "    if( n > 0):\n",
    "      if((n-2) >= 0):\n",
    "        instructions.append( [control[q], control[q+1], anc[a]] ) \n",
    "        active_ancilla.append(a)\n",
    "        a = a + 1\n",
    "        q = q + 2\n",
    "        n = n - 2\n",
    "      if( (n-2) == -1):\n",
    "        q_unused.append( q ) \n",
    "        n = n - 1\n",
    "      \n",
    "    elif(len(q_unused) != 0 ): \n",
    "      if(len(active_ancilla)!=1):\n",
    "        instructions.append( [control[q], anc[active_ancilla[0]], anc[a]]) \n",
    "        del active_ancilla[0]\n",
    "        del q_unused[0] \n",
    "        active_ancilla.append(a)\n",
    "        a = a + 1\n",
    "      else:\n",
    "        instructions.append( [control[q], anc[active_ancilla[0]], target] ) \n",
    "        del active_ancilla[0] \n",
    "        del q_unused[0]\n",
    "    \n",
    "    elif(len(active_ancilla) !=0): \n",
    "      if( len(active_ancilla) > 2 ):\n",
    "        instructions.append( [anc[active_ancilla[0]], anc[active_ancilla[1]], anc[a]] ) \n",
    "        active_ancilla.append(a)\n",
    "        del active_ancilla[0] \n",
    "        del active_ancilla[0]\n",
    "        a = a + 1\n",
    "      elif (len(active_ancilla)==2):\n",
    "        instructions.append([anc[active_ancilla[0]], anc[active_ancilla[1]], target]) \n",
    "        del active_ancilla[0]\n",
    "        del active_ancilla[0]\n",
    "\n",
    "  for i in np.arange(len(instructions) ):\n",
    "    qc.ccx (instructions[i][0], instructions[i][1], instructions[i][2] )\n",
    "\n",
    "  del instructions[-1]\n",
    "  for i in np.arange(len(instructions) ):\n",
    "    qc.ccx( instructions[0-(i+1)][0], instructions[0 -(i+1)][1], instructions[0-(i+1)][2] )"
   ]
  },
  {
   "cell_type": "markdown",
   "metadata": {
    "id": "mhws53C7nKtW"
   },
   "source": [
    "Let's see an example to see the above function in action:"
   ]
  },
  {
   "cell_type": "code",
   "execution_count": 29,
   "metadata": {
    "id": "xdMOCZwMtLCK"
   },
   "outputs": [
    {
     "name": "stdout",
     "output_type": "stream",
     "text": [
      " _ Inital State _ \n",
      "0.35355 |000>|0>     0.35355 |100>|0>     0.35355 |010>|0>     0.35355 |110>|0>     0.35355 |001>|0>     0.35355 |101>|0>     0.35355 |011>|0>     0.35355 |111>|0>     \n",
      "\n",
      " After n_NOT _\n",
      "0.35355 |000>|0>     0.35355 |100>|0>     0.35355 |010>|0>     0.35355 |110>|0>     0.35355 |001>|0>     0.35355 |101>|0>     0.35355 |011>|0>     0.35355 |111>|1>     \n"
     ]
    },
    {
     "name": "stderr",
     "output_type": "stream",
     "text": [
      "/home/akash/anaconda3/envs/dangal/lib/python3.7/site-packages/ipykernel_launcher.py:46: DeprecationWarning: The return type of saved statevectors has been changed from a `numpy.ndarray` to a `qiskit.quantum_info.Statevector` as of qiskit-aer 0.10. Accessing numpy array attributes is deprecated and will result in an error in a future release. To continue using saved result objects as arrays you can explicitly cast them using  `np.asarray(object)`.\n",
      "/home/akash/anaconda3/envs/dangal/lib/python3.7/site-packages/ipykernel_launcher.py:47: DeprecationWarning: The return type of saved statevectors has been changed from a `numpy.ndarray` to a `qiskit.quantum_info.Statevector` as of qiskit-aer 0.10. Accessing numpy array attributes is deprecated and will result in an error in a future release. To continue using saved result objects as arrays you can explicitly cast them using  `np.asarray(object)`.\n"
     ]
    }
   ],
   "source": [
    "q =  QuantumRegister(5, name='q')\n",
    "qc = QuantumCircuit(q, name='qc')\n",
    "\n",
    "qc.h( q[0] )\n",
    "qc.h( q[1] )\n",
    "qc.h( q[2])\n",
    "\n",
    "qc.id( q[3])\n",
    "qc.id( q[4])\n",
    "\n",
    "\n",
    "print(' _ Inital State _ ') \n",
    "Wavefunction(qc, systems=[3,1,1], show_systems = [True,True,False])\n",
    "\n",
    "n_NOT(qc,[q[0],q[1],q[2]],q[3],[q[4]] )\n",
    "\n",
    "print('\\n After n_NOT _') \n",
    "Wavefunction(qc, systems=[3,1,1], show_systems = [True,True,False])\n"
   ]
  },
  {
   "cell_type": "markdown",
   "metadata": {
    "id": "MhDaEfkwuGso"
   },
   "source": [
    "In this example we’ve applied a 3-control NOT gate, where the control qubits are [0, 1, 2], and the target is qubit 3. As shown\n",
    "above, all states initially start with the target qubit in the |0i state. But after we apply our n NOT function, the state |111⟩\n",
    "receives an X gate to its target qubit, flipping it to |1⟩. In addition, all of the ancilla qubit are returned to the |0⟩ state (change the\n",
    "last False in each Wavefunction to verify this for yourself)."
   ]
  },
  {
   "cell_type": "markdown",
   "metadata": {
    "id": "QcpSIklG0fCP"
   },
   "source": [
    "## **n_Control_U**\n",
    "***\n",
    "\n",
    "The n_Control_U function takes the following arguments:\n",
    "\n",
    "(QuantumCircuit, [control qubits], [ancilla qubits], [gates])\n",
    "\n",
    "where gates refers to the single-qubit control operations you would like to invoke (can be more than one). Specifically, there are\n",
    "four control-operations supported by this function, with the following formats:\n",
    "\n",
    "1. CNOT : (’X’, target)\n",
    "\n",
    "2. CZ : (’Z’, target)\n",
    "\n",
    "3. CPHASE : (’PHASE’, target, angle)\n",
    "\n",
    "4. CSWAP : (’SWAP’, target1, target2)"
   ]
  },
  {
   "cell_type": "markdown",
   "metadata": {
    "id": "88JTQH6O0BvM"
   },
   "source": [
    "The function is defined as follows:"
   ]
  },
  {
   "cell_type": "code",
   "execution_count": 30,
   "metadata": {
    "id": "5PYiGprxz9__"
   },
   "outputs": [],
   "source": [
    "def n_Control_U(qc, control, anc, gates):\n",
    "  '''\n",
    "  Input:\n",
    "  qc (QuantumCircuit),control (QuantumRegister), anc (QuantumRegister),gates (array of the form [[string,QuantumRegister[i]],[],...])\n",
    "  Performs the list of control gates on the respective target qubits as a higher order N-control operation\n",
    "  '''\n",
    "  if( len(gates)!=0 ):\n",
    "    instructions = []\n",
    "    active_ancilla = []\n",
    "    q_unused = []\n",
    "    n = len(control)\n",
    "    q = 0\n",
    "    a = 0\n",
    "    while( (n > 0) or (len(q_unused)!=0) or (len(active_ancilla)!=0) ):\n",
    "      if( n > 0 ):\n",
    "        if( (n-2) >= 0 ):\n",
    "          instructions.append( [control[q], control[q+1], anc[a]] )\n",
    "          active_ancilla.append(a)\n",
    "          a = a + 1\n",
    "          q = q + 2\n",
    "          n = n - 2\n",
    "        if( (n-2) == -1 ):\n",
    "          q_unused.append( q )\n",
    "          n = n - 1\n",
    "      \n",
    "      elif( len(q_unused) != 0 ):\n",
    "        if(len(active_ancilla)>1):\n",
    "          instructions.append( [control[q], anc[active_ancilla[0]], anc[a]] )\n",
    "          del active_ancilla[0]\n",
    "          del q_unused[0]\n",
    "          active_ancilla.append(a)\n",
    "          a = a + 1\n",
    "        else:\n",
    "          instructions.append( [control[q], anc[active_ancilla[0]], anc[a]] )\n",
    "          del active_ancilla[0]\n",
    "          del q_unused[0]\n",
    "          c_a = anc[a]\n",
    "      \n",
    "      elif( len(active_ancilla)!=0 ):\n",
    "        if( len(active_ancilla) > 2 ):\n",
    "          instructions.append( [anc[active_ancilla[0]], anc[active_ancilla[1]], anc[a]] )\n",
    "          active_ancilla.append(a)\n",
    "          del active_ancilla[0]\n",
    "          del active_ancilla[0]\n",
    "          a = a + 1\n",
    "        elif( len(active_ancilla)==2):\n",
    "          instructions.append([anc[active_ancilla[0]], anc[active_ancilla[1]], anc[a]] )\n",
    "          del active_ancilla[0]\n",
    "          del active_ancilla[0]\n",
    "          c_a = anc[a]\n",
    "        elif( len(active_ancilla)==1):\n",
    "          c_a = anc[active_ancilla[0]]\n",
    "          del active_ancilla[0]\n",
    "    \n",
    "    for i in np.arange( len(instructions) ):\n",
    "      qc.ccx( instructions[i][0], instructions[i][1], instructions[i][2] )\n",
    "    \n",
    "    for j in np.arange(len(gates)):\n",
    "      control_vec = [ gates[j][0], c_a ]\n",
    "      for k in np.arange( 1, len(gates[j])):\n",
    "        control_vec.append( gates[j][k] )\n",
    "      if( control_vec[0] == 'X' ):\n",
    "        qc.cx( control_vec[1], control_vec[2] )\n",
    "      if( control_vec[0] == 'Z' ):\n",
    "        qc.cz( control_vec[1], control_vec[2] )\n",
    "      if( control_vec[0] == 'PHASE' ):\n",
    "        qc.cu1( control_vec[2], control_vec[1], control_vec[3] )\n",
    "      if( control_vec[0] == 'SWAP' ):\n",
    "        qc.cswap( control_vec[1], control_vec[2], control_vec[3] )\n",
    "    for i in np.arange( len(instructions) ):\n",
    "      qc.ccx( instructions[0-(i+1)][0], instructions[0-(i+1)][1], instructions[0-(i+1)][2] )"
   ]
  }
 ],
 "metadata": {
  "colab": {
   "provenance": []
  },
  "kernelspec": {
   "display_name": "Python 3 (ipykernel)",
   "language": "python",
   "name": "python3"
  },
  "language_info": {
   "codemirror_mode": {
    "name": "ipython",
    "version": 3
   },
   "file_extension": ".py",
   "mimetype": "text/x-python",
   "name": "python",
   "nbconvert_exporter": "python",
   "pygments_lexer": "ipython3",
   "version": "3.7.11"
  }
 },
 "nbformat": 4,
 "nbformat_minor": 1
}
